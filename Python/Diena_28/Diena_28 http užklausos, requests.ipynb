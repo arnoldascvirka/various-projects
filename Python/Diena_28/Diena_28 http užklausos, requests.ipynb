{
 "cells": [
  {
   "cell_type": "markdown",
   "id": "f114a7d3",
   "metadata": {},
   "source": [
    "prieš pradedant requests naudojimą reikia instaliuotis pačią biblioteką(vieną kartą)"
   ]
  },
  {
   "cell_type": "code",
   "execution_count": null,
   "id": "300142bc",
   "metadata": {},
   "outputs": [],
   "source": [
    "!pip install requests"
   ]
  },
  {
   "cell_type": "markdown",
   "id": "45e459a1",
   "metadata": {},
   "source": [
    "## Requests\n",
    "***\n",
    "Requests yra Python biblioteka darbui su HTTP užklausomis.\n",
    "Norint pradėti darbą, reikia importuoti requests:"
   ]
  },
  {
   "cell_type": "code",
   "execution_count": 2,
   "id": "9f002674",
   "metadata": {},
   "outputs": [],
   "source": [
    "import requests"
   ]
  },
  {
   "cell_type": "markdown",
   "id": "24e34ad1",
   "metadata": {},
   "source": [
    "Dabar susikurkime objektą, kuris bus atsakas į mūsų užklausą:"
   ]
  },
  {
   "cell_type": "code",
   "execution_count": 3,
   "id": "4361fdb2",
   "metadata": {},
   "outputs": [],
   "source": [
    "r = requests.get(\"http://google.lt\")"
   ]
  },
  {
   "cell_type": "code",
   "execution_count": 4,
   "id": "ac9cd10f",
   "metadata": {},
   "outputs": [
    {
     "name": "stdout",
     "output_type": "stream",
     "text": [
      "<Response [200]>\n",
      "<class 'requests.models.Response'>\n"
     ]
    }
   ],
   "source": [
    "print(r)\n",
    "print(type(r))"
   ]
  },
  {
   "cell_type": "markdown",
   "id": "c042a969",
   "metadata": {},
   "source": [
    "Pabandžius printinti, atprintina 200 http statuso kodą, šis kodas reiškia,\n",
    "kad mūsų užklausa GET buvo nusiųsta http serveriui ir iš serverio atėjo atsakymas\n",
    "200 - viskas OK."
   ]
  },
  {
   "cell_type": "markdown",
   "id": "6ecc2a31",
   "metadata": {},
   "source": [
    "Kokius dar merodus ir atributus turi Response?"
   ]
  },
  {
   "cell_type": "code",
   "execution_count": 5,
   "id": "eb789072",
   "metadata": {},
   "outputs": [
    {
     "name": "stdout",
     "output_type": "stream",
     "text": [
      "['__attrs__', '__bool__', '__class__', '__delattr__', '__dict__', '__dir__', '__doc__', '__enter__', '__eq__', '__exit__', '__format__', '__ge__', '__getattribute__', '__getstate__', '__gt__', '__hash__', '__init__', '__init_subclass__', '__iter__', '__le__', '__lt__', '__module__', '__ne__', '__new__', '__nonzero__', '__reduce__', '__reduce_ex__', '__repr__', '__setattr__', '__setstate__', '__sizeof__', '__str__', '__subclasshook__', '__weakref__', '_content', '_content_consumed', '_next', 'apparent_encoding', 'close', 'connection', 'content', 'cookies', 'elapsed', 'encoding', 'headers', 'history', 'is_permanent_redirect', 'is_redirect', 'iter_content', 'iter_lines', 'json', 'links', 'next', 'ok', 'raise_for_status', 'raw', 'reason', 'request', 'status_code', 'text', 'url']\n"
     ]
    }
   ],
   "source": [
    "print(dir(r))"
   ]
  },
  {
   "cell_type": "markdown",
   "id": "957b01f7",
   "metadata": {},
   "source": [
    "statuso kodas"
   ]
  },
  {
   "cell_type": "code",
   "execution_count": 7,
   "id": "a60a5a12",
   "metadata": {
    "scrolled": true
   },
   "outputs": [
    {
     "data": {
      "text/plain": [
       "200"
      ]
     },
     "execution_count": 7,
     "metadata": {},
     "output_type": "execute_result"
    }
   ],
   "source": [
    "r.status_code"
   ]
  },
  {
   "cell_type": "markdown",
   "id": "6715e848",
   "metadata": {},
   "source": [
    ".text - jame talpinamas tekstas gautas iš severio, jo atsakyme"
   ]
  },
  {
   "cell_type": "code",
   "execution_count": 8,
   "id": "b98b7431",
   "metadata": {
    "scrolled": true
   },
   "outputs": [
    {
     "data": {
      "text/plain": [
       "'<!doctype html><html itemscope=\"\" itemtype=\"http://schema.org/WebPage\" lang=\"lt\"><head><meta content=\"text/html; charset=UTF-8\" http-equiv=\"Content-Type\"><meta content=\"/images/branding/googleg/1x/googleg_standard_color_128dp.png\" itemprop=\"image\"><title>Google</title><script nonce=\"d-8fLAoWngOurlGW9MYzAw\">(function(){window.google={kEI:\\'36b6YsLoMqPTmAWx14-oAw\\',kEXPI:\\'0,1302536,56873,6059,206,4804,2316,383,246,5,5367,1123753,1578490,16115,17444,1953,9287,17572,4859,1361,283,9007,3022,17587,4998,13228,3847,10622,22741,5081,1593,1279,2742,149,561,542,840,1983,4314,3514,606,2023,1777,520,14670,3227,2845,7,4811,28959,1851,2614,13142,3,346,230,6459,149,13975,4,1528,2304,7039,25073,2658,7357,11442,6653,16786,5809,2548,4094,4052,3,3541,1,42154,2,28138,11623,5679,1020,2381,28742,4567,6256,23421,1252,5835,14967,4333,6089,1395,27082,8047,108,6582,98,701,14680,2162,5179,4620,9835,7,1922,9779,23,6865,5527,9364,2,2641,10272,1460,5764,189,1981,3667,3879,552,983,123,700,4,2,2,2,2,2,1,1,3716,3356,7,1,770,4822,1242,1207,5328,1647,2206,641,75,1131,374,278,275,1408,398,326,329,2,73,688,1,455,891,433,161,612,180,490,82,404,339,139,1106,641,99,26,294,983,878,1659,335,655,534,114,393,172,581,127,78,310,1254,621,441,24,259,1107,831,2,5362741,1872,2983,612,8799655,3311,141,795,19735,1,303,44,1194,1,9,3,7,4,23949266,4042143,1964,2935,159,1358,12221,3405,7173,1190,1376982,47696\\',kBL:\\'CkVr\\'};google.sn=\\'webhp\\';google.kHL=\\'lt\\';})();(function(){\\nvar f=this||self;var h,k=[];function l(a){for(var b;a&&(!a.getAttribute||!(b=a.getAttribute(\"eid\")));)a=a.parentNode;return b||h}function m(a){for(var b=null;a&&(!a.getAttribute||!(b=a.getAttribute(\"leid\")));)a=a.parentNode;return b}\\nfunction n(a,b,c,d,g){var e=\"\";c||-1!==b.search(\"&ei=\")||(e=\"&ei=\"+l(d),-1===b.search(\"&lei=\")&&(d=m(d))&&(e+=\"&lei=\"+d));d=\"\";!c&&f._cshid&&-1===b.search(\"&cshid=\")&&\"slh\"!==a&&(d=\"&cshid=\"+f._cshid);c=c||\"/\"+(g||\"gen_204\")+\"?atyp=i&ct=\"+a+\"&cad=\"+b+e+\"&zx=\"+Date.now()+d;/^http:/i.test(c)&&\"https:\"===window.location.protocol&&(google.ml&&google.ml(Error(\"a\"),!1,{src:c,glmm:1}),c=\"\");return c};h=google.kEI;google.getEI=l;google.getLEI=m;google.ml=function(){return null};google.log=function(a,b,c,d,g){if(c=n(a,b,c,d,g)){a=new Image;var e=k.length;k[e]=a;a.onerror=a.onload=a.onabort=function(){delete k[e]};a.src=c}};google.logUrl=n;}).call(this);(function(){\\ngoogle.y={};google.sy=[];google.x=function(a,b){if(a)var c=a.id;else{do c=Math.random();while(google.y[c])}google.y[c]=[a,b];return!1};google.sx=function(a){google.sy.push(a)};google.lm=[];google.plm=function(a){google.lm.push.apply(google.lm,a)};google.lq=[];google.load=function(a,b,c){google.lq.push([[a],b,c])};google.loadAll=function(a,b){google.lq.push([a,b])};google.bx=!1;google.lx=function(){};}).call(this);google.f={};(function(){\\ndocument.documentElement.addEventListener(\"submit\",function(b){var a;if(a=b.target){var c=a.getAttribute(\"data-submitfalse\");a=\"1\"===c||\"q\"===c&&!a.elements.q.value?!0:!1}else a=!1;a&&(b.preventDefault(),b.stopPropagation())},!0);document.documentElement.addEventListener(\"click\",function(b){var a;a:{for(a=b.target;a&&a!==document.documentElement;a=a.parentElement)if(\"A\"===a.tagName){a=\"1\"===a.getAttribute(\"data-nohref\");break a}a=!1}a&&b.preventDefault()},!0);}).call(this);</script><style>#gbar,#guser{font-size:13px;padding-top:1px !important;}#gbar{height:22px}#guser{padding-bottom:7px !important;text-align:right}.gbh,.gbd{border-top:1px solid #c9d7f1;font-size:1px}.gbh{height:0;position:absolute;top:24px;width:100%}@media all{.gb1{height:22px;margin-right:.5em;vertical-align:top}#gbar{float:left}}a.gb1,a.gb4{text-decoration:underline !important}a.gb1,a.gb4{color:#00c !important}.gbi .gb4{color:#dd8e27 !important}.gbf .gb4{color:#900 !important}\\n</style><style>body,td,a,p,.h{font-family:arial,sans-serif}body{margin:0;overflow-y:scroll}#gog{padding:3px 8px 0}td{line-height:.8em}.gac_m td{line-height:17px}form{margin-bottom:20px}.h{color:#1558d6}em{font-weight:bold;font-style:normal}.lst{height:25px;width:496px}.gsfi,.lst{font:18px arial,sans-serif}.gsfs{font:17px arial,sans-serif}.ds{display:inline-box;display:inline-block;margin:3px 0 4px;margin-left:4px}input{font-family:inherit}body{background:#fff;color:#000}a{color:#4b11a8;text-decoration:none}a:hover,a:active{text-decoration:underline}.fl a{color:#1558d6}a:visited{color:#4b11a8}.sblc{padding-top:5px}.sblc a{display:block;margin:2px 0;margin-left:13px;font-size:11px}.lsbb{background:#f8f9fa;border:solid 1px;border-color:#dadce0 #70757a #70757a #dadce0;height:30px}.lsbb{display:block}#WqQANb a{display:inline-block;margin:0 12px}.lsb{background:url(/images/nav_logo229.png) 0 -261px repeat-x;border:none;color:#000;cursor:pointer;height:30px;margin:0;outline:0;font:15px arial,sans-serif;vertical-align:top}.lsb:active{background:#dadce0}.lst:focus{outline:none}.tiah{width:458px}</style><script nonce=\"d-8fLAoWngOurlGW9MYzAw\">(function(){window.google.erd={jsr:1,bv:1632,de:true};\\nvar h=this||self;var k,l=null!=(k=h.mei)?k:1,n,p=null!=(n=h.sdo)?n:!0,q=0,r,t=google.erd,v=t.jsr;google.ml=function(a,b,d,m,e){e=void 0===e?2:e;b&&(r=a&&a.message);if(google.dl)return google.dl(a,e,d),null;if(0>v){window.console&&console.error(a,d);if(-2===v)throw a;b=!1}else b=!a||!a.message||\"Error loading script\"===a.message||q>=l&&!m?!1:!0;if(!b)return null;q++;d=d||{};b=encodeURIComponent;var c=\"/gen_204?atyp=i&ei=\"+b(google.kEI);google.kEXPI&&(c+=\"&jexpid=\"+b(google.kEXPI));c+=\"&srcpg=\"+b(google.sn)+\"&jsr=\"+b(t.jsr)+\"&bver=\"+b(t.bv);var f=a.lineNumber;void 0!==f&&(c+=\"&line=\"+f);var g=\\na.fileName;g&&(0<g.indexOf(\"-extension:/\")&&(e=3),c+=\"&script=\"+b(g),f&&g===window.location.href&&(f=document.documentElement.outerHTML.split(\"\\\\n\")[f],c+=\"&cad=\"+b(f?f.substring(0,300):\"No script found.\")));c+=\"&jsel=\"+e;for(var u in d)c+=\"&\",c+=b(u),c+=\"=\",c+=b(d[u]);c=c+\"&emsg=\"+b(a.name+\": \"+a.message);c=c+\"&jsst=\"+b(a.stack||\"N/A\");12288<=c.length&&(c=c.substr(0,12288));a=c;m||google.log(0,\"\",a);return a};window.onerror=function(a,b,d,m,e){r!==a&&(a=e instanceof Error?e:Error(a),void 0===d||\"lineNumber\"in a||(a.lineNumber=d),void 0===b||\"fileName\"in a||(a.fileName=b),google.ml(a,!1,void 0,!1,\"SyntaxError\"===a.name||\"SyntaxError\"===a.message.substring(0,11)||0<a.message.indexOf(\"Script error\")?2:0));r=null;p&&q>=l&&(window.onerror=null)};})();</script></head><body bgcolor=\"#fff\"><script nonce=\"d-8fLAoWngOurlGW9MYzAw\">(function(){var src=\\'/images/nav_logo229.png\\';var iesg=false;document.body.onload = function(){window.n && window.n();if (document.images){new Image().src=src;}\\nif (!iesg){document.f&&document.f.q.focus();document.gbqf&&document.gbqf.q.focus();}\\n}\\n})();</script><div id=\"mngb\"><div id=gbar><nobr><b class=gb1>Paieška</b> <a class=gb1 href=\"http://www.google.lt/imghp?hl=lt&tab=wi\">Vaizdai</a> <a class=gb1 href=\"http://maps.google.lt/maps?hl=lt&tab=wl\">Žemėlapiai</a> <a class=gb1 href=\"https://play.google.com/?hl=lt&tab=w8\">Play</a> <a class=gb1 href=\"http://www.youtube.com/?gl=LT&tab=w1\">YouTube</a> <a class=gb1 href=\"https://news.google.com/?tab=wn\">Naujienos</a> <a class=gb1 href=\"https://mail.google.com/mail/?tab=wm\">Gmail</a> <a class=gb1 href=\"https://drive.google.com/?tab=wo\">diskas</a> <a class=gb1 style=\"text-decoration:none\" href=\"https://www.google.lt/intl/lt/about/products?tab=wh\"><u>Daugiau</u> &raquo;</a></nobr></div><div id=guser width=100%><nobr><span id=gbn class=gbi></span><span id=gbf class=gbf></span><span id=gbe></span><a href=\"http://www.google.lt/history/optout?hl=lt\" class=gb4>Naršymo istorija</a> | <a  href=\"/preferences?hl=lt\" class=gb4>Nustatymai</a> | <a target=_top id=gb_70 href=\"https://accounts.google.com/ServiceLogin?hl=lt&passive=true&continue=http://www.google.lt/&ec=GAZAAQ\" class=gb4>Prisijungti</a></nobr></div><div class=gbh style=left:0></div><div class=gbh style=right:0></div></div><center><br clear=\"all\" id=\"lgpd\"><div id=\"lga\"><img alt=\"Google\" height=\"92\" src=\"/images/branding/googlelogo/1x/googlelogo_white_background_color_272x92dp.png\" style=\"padding:28px 0 14px\" width=\"272\" id=\"hplogo\"><br><br></div><form action=\"/search\" name=\"f\"><table cellpadding=\"0\" cellspacing=\"0\"><tr valign=\"top\"><td width=\"25%\">&nbsp;</td><td align=\"center\" nowrap=\"\"><input name=\"ie\" value=\"windows-1257\" type=\"hidden\"><input value=\"lt\" name=\"hl\" type=\"hidden\"><input name=\"source\" type=\"hidden\" value=\"hp\"><input name=\"biw\" type=\"hidden\"><input name=\"bih\" type=\"hidden\"><div class=\"ds\" style=\"height:32px;margin:4px 0\"><div style=\"position:relative;zoom:1\"><input class=\"lst tiah\" style=\"margin:0;padding:5px 8px 0 6px;vertical-align:top;color:#000;padding-right:38px\" autocomplete=\"off\" value=\"\" title=\"„Google“ paieška\" maxlength=\"2048\" name=\"q\" size=\"57\"><img src=\"/textinputassistant/tia.png\" style=\"position:absolute;cursor:pointer;right:5px;top:4px;z-index:300\" data-script-url=\"/textinputassistant/11/lt_tia.js\" id=\"tsuid1\" alt=\"\" height=\"23\" width=\"27\"><script nonce=\"d-8fLAoWngOurlGW9MYzAw\">(function(){var id=\\'tsuid1\\';document.getElementById(id).onclick = function(){var s = document.createElement(\\'script\\');s.src = this.getAttribute(\\'data-script-url\\');(document.getElementById(\\'xjsc\\')||document.body).appendChild(s);};})();</script></div></div><br style=\"line-height:0\"><span class=\"ds\"><span class=\"lsbb\"><input class=\"lsb\" value=\"„Google“ paieška\" name=\"btnG\" type=\"submit\"></span></span><span class=\"ds\"><span class=\"lsbb\"><input class=\"lsb\" id=\"tsuid2\" value=\"Man sekasi!\" name=\"btnI\" type=\"submit\"><script nonce=\"d-8fLAoWngOurlGW9MYzAw\">(function(){var id=\\'tsuid2\\';document.getElementById(id).onclick = function(){if (this.form.q.value){this.checked = 1;if (this.form.iflsig)this.form.iflsig.disabled = false;}\\nelse top.location=\\'/doodles/\\';};})();</script><input value=\"AJiK0e8AAAAAYvq071QuVVBKTo3uhMO7AJLdDr0FJFex\" name=\"iflsig\" type=\"hidden\"></span></span></td><td class=\"fl sblc\" align=\"left\" nowrap=\"\" width=\"25%\"><a href=\"/advanced_search?hl=lt&amp;authuser=0\">Išplėstinė paieška</a></td></tr></table><input id=\"gbv\" name=\"gbv\" type=\"hidden\" value=\"1\"><script nonce=\"d-8fLAoWngOurlGW9MYzAw\">(function(){\\nvar a,b=\"1\";if(document&&document.getElementById)if(\"undefined\"!=typeof XMLHttpRequest)b=\"2\";else if(\"undefined\"!=typeof ActiveXObject){var c,d,e=[\"MSXML2.XMLHTTP.6.0\",\"MSXML2.XMLHTTP.3.0\",\"MSXML2.XMLHTTP\",\"Microsoft.XMLHTTP\"];for(c=0;d=e[c++];)try{new ActiveXObject(d),b=\"2\"}catch(h){}}a=b;if(\"2\"==a&&-1==location.search.indexOf(\"&gbv=2\")){var f=google.gbvu,g=document.getElementById(\"gbv\");g&&(g.value=a);f&&window.setTimeout(function(){location.href=f},0)};}).call(this);</script></form><div id=\"gac_scont\"></div><div style=\"font-size:83%;min-height:3.5em\"><br></div><span id=\"footer\"><div style=\"font-size:10pt\"><div style=\"margin:19px auto;text-align:center\" id=\"WqQANb\"><a href=\"http://www.google.lt/intl/lt/ads/\">Reklamos</a><a href=\"http://www.google.lt/intl/lt/services/\">Verslo sprendimai</a><a href=\"/intl/lt/about.html\">Viskas apie „Google“</a><a href=\"http://www.google.lt/setprefdomain?prefdom=US&amp;sig=62fbf85fK_VrR3Ywmax7bD6LZCQomHyDT_kOw%3D\" id=\"fehl\">Google.com</a></div></div><p style=\"font-size:8pt;color:#70757a\">&copy; 2022 - <a href=\"/intl/lt/policies/privacy/\">Privatumas</a> - <a href=\"/intl/lt/policies/terms/\">Sąlygos</a></p></span></center><script nonce=\"d-8fLAoWngOurlGW9MYzAw\">(function(){window.google.cdo={height:757,width:1440};(function(){\\nvar a=window.innerWidth,b=window.innerHeight;if(!a||!b){var c=window.document,d=\"CSS1Compat\"==c.compatMode?c.documentElement:c.body;a=d.clientWidth;b=d.clientHeight}a&&b&&(a!=google.cdo.width||b!=google.cdo.height)&&google.log(\"\",\"\",\"/client_204?&atyp=i&biw=\"+a+\"&bih=\"+b+\"&ei=\"+google.kEI);}).call(this);})();</script> <script nonce=\"d-8fLAoWngOurlGW9MYzAw\">(function(){google.xjs={ck:\\'xjs.hp.wV_mtd6jOzc.L.X.O\\',cs:\\'ACT90oE8p7n4ga-mWyYZacgHnEv7Rvgalg\\',excm:[]};})();</script>  <script nonce=\"d-8fLAoWngOurlGW9MYzAw\">(function(){var u=\\'/xjs/_/js/k\\\\x3dxjs.hp.en.k5CZMAtuKq8.O/am\\\\x3dAMATAIAEACg/d\\\\x3d1/ed\\\\x3d1/rs\\\\x3dACT90oEJzCAGb4tdrN3Jh48o8KXxAFW9Sg/m\\\\x3dsb_he,d\\';\\nvar d=this||self,e=function(a){return a};\\nvar g;var l=function(a,b){this.g=b===h?a:\"\"};l.prototype.toString=function(){return this.g+\"\"};var h={};function n(){var a=u;google.lx=function(){p(a);google.lx=function(){}};google.bx||google.lx()}\\nfunction p(a){google.timers&&google.timers.load&&google.tick&&google.tick(\"load\",\"xjsls\");var b=document;var c=\"SCRIPT\";\"application/xhtml+xml\"===b.contentType&&(c=c.toLowerCase());c=b.createElement(c);if(void 0===g){b=null;var k=d.trustedTypes;if(k&&k.createPolicy){try{b=k.createPolicy(\"goog#html\",{createHTML:e,createScript:e,createScriptURL:e})}catch(q){d.console&&d.console.error(q.message)}g=b}else g=b}a=(b=g)?b.createScriptURL(a):a;a=new l(a,h);c.src=a instanceof l&&a.constructor===l?a.g:\"type_error:TrustedResourceUrl\";var f,m;(f=(a=null==(m=(f=(c.ownerDocument&&c.ownerDocument.defaultView||window).document).querySelector)?void 0:m.call(f,\"script[nonce]\"))?a.nonce||a.getAttribute(\"nonce\")||\"\":\"\")&&c.setAttribute(\"nonce\",f);document.body.appendChild(c);google.psa=!0};google.xjsu=u;setTimeout(function(){n()},0);})();function _DumpException(e){throw e;}\\nfunction _F_installCss(c){}\\n(function(){google.jl={blt:\\'none\\',chnk:0,dw:false,dwu:true,emtn:0,end:0,ine:false,injs:\\'none\\',injt:0,injth:0,injv2:false,lls:\\'default\\',pdt:0,rep:0,snet:true,strt:0,ubm:false,uwp:true};})();(function(){var pmc=\\'{\\\\x22d\\\\x22:{},\\\\x22sb_he\\\\x22:{\\\\x22agen\\\\x22:true,\\\\x22cgen\\\\x22:true,\\\\x22client\\\\x22:\\\\x22heirloom-hp\\\\x22,\\\\x22dh\\\\x22:true,\\\\x22dhqt\\\\x22:true,\\\\x22ds\\\\x22:\\\\x22\\\\x22,\\\\x22ffql\\\\x22:\\\\x22en\\\\x22,\\\\x22fl\\\\x22:true,\\\\x22host\\\\x22:\\\\x22google.lt\\\\x22,\\\\x22isbh\\\\x22:28,\\\\x22jsonp\\\\x22:true,\\\\x22msgs\\\\x22:{\\\\x22cibl\\\\x22:\\\\x22Išvalyti paiešką\\\\x22,\\\\x22dym\\\\x22:\\\\x22Galbūt jūs norėjote ieškoti:\\\\x22,\\\\x22lcky\\\\x22:\\\\x22Man sekasi!\\\\x22,\\\\x22lml\\\\x22:\\\\x22Sužinokite daugiau\\\\x22,\\\\x22oskt\\\\x22:\\\\x22Įvesties įrankiai\\\\x22,\\\\x22psrc\\\\x22:\\\\x22Ši paieška buvo pašalinta iš \\\\\\\\u003Ca href\\\\x3d\\\\\\\\\\\\x22/history\\\\\\\\\\\\x22\\\\\\\\u003Ežiniatinklio istorijos\\\\\\\\u003C/a\\\\\\\\u003E\\\\x22,\\\\x22psrl\\\\x22:\\\\x22Pašalinti\\\\x22,\\\\x22sbit\\\\x22:\\\\x22Ieškoti pagal vaizdą\\\\x22,\\\\x22srch\\\\x22:\\\\x22„Google“ paieška\\\\x22},\\\\x22ovr\\\\x22:{},\\\\x22pq\\\\x22:\\\\x22\\\\x22,\\\\x22refpd\\\\x22:true,\\\\x22rfs\\\\x22:[],\\\\x22sbas\\\\x22:\\\\x220 3px 8px 0 rgba(0,0,0,0.2),0 0 0 1px rgba(0,0,0,0.08)\\\\x22,\\\\x22sbpl\\\\x22:16,\\\\x22sbpr\\\\x22:16,\\\\x22scd\\\\x22:10,\\\\x22stok\\\\x22:\\\\x22dQlSMhBG2ad95rk5mSJlCVLxU3o\\\\x22,\\\\x22uhde\\\\x22:false}}\\';google.pmc=JSON.parse(pmc);})();</script>        </body></html>'"
      ]
     },
     "execution_count": 8,
     "metadata": {},
     "output_type": "execute_result"
    }
   ],
   "source": [
    "r.text"
   ]
  },
  {
   "cell_type": "markdown",
   "id": "a633725e",
   "metadata": {},
   "source": [
    "pabandome kitą užklausą, į paveikslėlį"
   ]
  },
  {
   "cell_type": "code",
   "execution_count": 19,
   "id": "9c2b957d",
   "metadata": {},
   "outputs": [],
   "source": [
    "r = requests.get(\"https://www.python.org/static/img/python-logo@2x.png\")"
   ]
  },
  {
   "cell_type": "code",
   "execution_count": 21,
   "id": "e2e3bf0f",
   "metadata": {
    "scrolled": true
   },
   "outputs": [
    {
     "data": {
      "text/plain": [
       "200"
      ]
     },
     "execution_count": 21,
     "metadata": {},
     "output_type": "execute_result"
    }
   ],
   "source": [
    "r.status_code"
   ]
  },
  {
   "cell_type": "markdown",
   "id": "3c3bd12e",
   "metadata": {},
   "source": [
    "įvykdžius sekantį kodą pamatysim skirtumą kaip atrodo gaunamas tekstas ir paveikslėlis."
   ]
  },
  {
   "cell_type": "code",
   "execution_count": null,
   "id": "b83db72e",
   "metadata": {
    "scrolled": false
   },
   "outputs": [],
   "source": [
    "r.text"
   ]
  },
  {
   "cell_type": "code",
   "execution_count": null,
   "id": "32289a27",
   "metadata": {
    "scrolled": true
   },
   "outputs": [],
   "source": [
    "r.content"
   ]
  },
  {
   "cell_type": "markdown",
   "id": "8064d3f1",
   "metadata": {},
   "source": [
    "pats paveikslėlis yra binary - skaitmeninio, ne tekstinio formato informacija. Jį išsaugoti galime prisiminę failų išsaugojimo mode 'wb'"
   ]
  },
  {
   "cell_type": "code",
   "execution_count": 25,
   "id": "73a4637d",
   "metadata": {},
   "outputs": [],
   "source": [
    "with open('logo.png', mode='wb') as f:\n",
    "    f.write(r.content)"
   ]
  },
  {
   "cell_type": "markdown",
   "id": "f1f90634",
   "metadata": {},
   "source": [
    "### Status kodai\n",
    "***\n",
    "200 - OK\n",
    "4xx, 5xx ne OK"
   ]
  },
  {
   "cell_type": "code",
   "execution_count": 26,
   "id": "7270cf6b",
   "metadata": {
    "scrolled": true
   },
   "outputs": [
    {
     "name": "stdout",
     "output_type": "stream",
     "text": [
      "200\n"
     ]
    }
   ],
   "source": [
    "r = requests.get(\"http://www.google.lt\")\n",
    "print(r.status_code)"
   ]
  },
  {
   "cell_type": "markdown",
   "id": "9eb2c7c2",
   "metadata": {},
   "source": [
    "pabandome užklausą į neegzistuojantį puslapį:"
   ]
  },
  {
   "cell_type": "code",
   "execution_count": 27,
   "id": "2fe265cc",
   "metadata": {},
   "outputs": [
    {
     "name": "stdout",
     "output_type": "stream",
     "text": [
      "404\n"
     ]
    }
   ],
   "source": [
    "r = requests.get(\"http://www.google.lt/qqq.html\")\n",
    "print(r.status_code)"
   ]
  },
  {
   "cell_type": "markdown",
   "id": "53fb3f56",
   "metadata": {},
   "source": [
    "gauname serverio atsakymą - status code 404, reiškiantį kad kreipiamės į neesamą puslapį."
   ]
  },
  {
   "cell_type": "markdown",
   "id": "aa9aa70a",
   "metadata": {},
   "source": [
    "200 yra OK, 404 - Not Found, 500 - Internal server error ir pan. daugiau apie šiuos kodus pasiskaitykite čia - https://www.webfx.com/web-development/glossary/http-status-codes/\n",
    "\n",
    "Šie kodai mums naudingi, jeigu tikriname ar pavyko prisijungimas, Tarkime:"
   ]
  },
  {
   "cell_type": "code",
   "execution_count": 32,
   "id": "f877f208",
   "metadata": {},
   "outputs": [
    {
     "name": "stdout",
     "output_type": "stream",
     "text": [
      "Kažkas negerai.. Statuso kodas 404\n"
     ]
    }
   ],
   "source": [
    "r = requests.get(\"http://www.google.lt/blablanla\")\n",
    "\n",
    "if r.status_code not in range(400, 600):\n",
    "    print(\"Pavyko prisijungti!\")\n",
    "else:\n",
    "    print(f\"Kažkas negerai.. Statuso kodas {r.status_code}\")"
   ]
  },
  {
   "cell_type": "markdown",
   "id": "4cbbd6a2",
   "metadata": {},
   "source": [
    "prieš tai nagrinėtas pavyzdys gali būti supaprastintas .ok atributo pagalba. Jeigu mus tenkina visi kodai, mažesni už 400, galime tiesiog:"
   ]
  },
  {
   "cell_type": "code",
   "execution_count": 38,
   "id": "37eae7e4",
   "metadata": {},
   "outputs": [
    {
     "name": "stdout",
     "output_type": "stream",
     "text": [
      "Kažkas negerai.. Statuso kodas 404\n"
     ]
    }
   ],
   "source": [
    "r = requests.get(\"http://www.google.lt/asdsad\")\n",
    "\n",
    "if r.ok:\n",
    "    print(\"Pavyko prisijungti!\")\n",
    "else:\n",
    "    print(f\"Kažkas negerai.. Statuso kodas {r.status_code}\")"
   ]
  },
  {
   "cell_type": "markdown",
   "id": "2ff1c0fb",
   "metadata": {},
   "source": [
    "ok grąžina True arba False reikšmę, todėl gali būti lengvai panaudotas su if."
   ]
  },
  {
   "cell_type": "markdown",
   "id": "11c40a18",
   "metadata": {},
   "source": [
    "### headers\n",
    "***\n",
    ".headers - atsakymo į užklausą antraštės, jose būna įvairūs serverio, užklausos parametrai ir pan. Jeigu įdomu, kokie headers duomenys ką reiškia, galite pasiskaityti čia https://developer.mozilla.org/en-US/docs/Web/HTTP/Headers"
   ]
  },
  {
   "cell_type": "code",
   "execution_count": 39,
   "id": "8094e465",
   "metadata": {},
   "outputs": [
    {
     "name": "stdout",
     "output_type": "stream",
     "text": [
      "{'Date': 'Thu, 11 Aug 2022 08:45:02 GMT', 'Expires': '-1', 'Cache-Control': 'private, max-age=0', 'Content-Type': 'text/html; charset=windows-1257', 'Content-Encoding': 'gzip', 'Server': 'gws', 'Content-Length': '6390', 'X-XSS-Protection': '0', 'X-Frame-Options': 'SAMEORIGIN', 'Set-Cookie': 'AEC=AakniGO8NFIfTeuwnCYDOqZpVrVgYYLxtoqZVmuDLcl9VgCsK0H_4nnasA; expires=Tue, 07-Feb-2023 08:45:02 GMT; path=/; domain=.google.lt; Secure; HttpOnly; SameSite=lax'}\n"
     ]
    }
   ],
   "source": [
    "r = requests.get(\"http://www.google.lt\")\n",
    "print(r.headers)"
   ]
  },
  {
   "cell_type": "code",
   "execution_count": 35,
   "id": "17d870b2",
   "metadata": {},
   "outputs": [
    {
     "name": "stdout",
     "output_type": "stream",
     "text": [
      "Thu, 11 Aug 2022 08:40:38 GMT\n"
     ]
    }
   ],
   "source": [
    "print(r.headers['Date'])"
   ]
  },
  {
   "cell_type": "code",
   "execution_count": 43,
   "id": "951cbd90",
   "metadata": {},
   "outputs": [
    {
     "name": "stdout",
     "output_type": "stream",
     "text": [
      "text/html; charset=windows-1257\n"
     ]
    }
   ],
   "source": [
    "print(r.headers['Content-Type'])"
   ]
  },
  {
   "cell_type": "code",
   "execution_count": 41,
   "id": "a1165b6d",
   "metadata": {},
   "outputs": [
    {
     "name": "stdout",
     "output_type": "stream",
     "text": [
      "Date =====> Thu, 11 Aug 2022 08:45:02 GMT\n",
      "Expires =====> -1\n",
      "Cache-Control =====> private, max-age=0\n",
      "Content-Type =====> text/html; charset=windows-1257\n",
      "Content-Encoding =====> gzip\n",
      "Server =====> gws\n",
      "Content-Length =====> 6390\n",
      "X-XSS-Protection =====> 0\n",
      "X-Frame-Options =====> SAMEORIGIN\n",
      "Set-Cookie =====> AEC=AakniGO8NFIfTeuwnCYDOqZpVrVgYYLxtoqZVmuDLcl9VgCsK0H_4nnasA; expires=Tue, 07-Feb-2023 08:45:02 GMT; path=/; domain=.google.lt; Secure; HttpOnly; SameSite=lax\n"
     ]
    }
   ],
   "source": [
    "for key, val in r.headers.items():\n",
    "    print(f\"{key} =====> {val}\")"
   ]
  },
  {
   "cell_type": "markdown",
   "id": "416c82f8",
   "metadata": {},
   "source": [
    "## url\n",
    "***\n",
    "url vadinamas adresas kokiu mes kreipiamės į resursą internete."
   ]
  },
  {
   "cell_type": "code",
   "execution_count": 12,
   "id": "b80c8bb9",
   "metadata": {},
   "outputs": [
    {
     "name": "stdout",
     "output_type": "stream",
     "text": [
      "http://www.google.lt/\n"
     ]
    }
   ],
   "source": [
    "print(r.url)"
   ]
  },
  {
   "cell_type": "markdown",
   "id": "e3cd6b4b",
   "metadata": {},
   "source": [
    "### url parametrai\n",
    "***\n",
    "patikslinti kreipimasi į serverį galima panaudojus url parametrus.\n",
    "Pabandžius google paiešką, pamatysime, kad google puslapis suformuoja url su visa eile parametrų, kuriuos atstovauja poros raktas=reikšmė, jungiamos &."
   ]
  },
  {
   "cell_type": "code",
   "execution_count": 14,
   "id": "ba547083",
   "metadata": {},
   "outputs": [
    {
     "data": {
      "text/plain": [
       "'https://www.google.lt/search?\\nq=IESKAU2\\n&\\nsource=hp\\n&\\nei=zcL0&iflsig\\n&\\nved=0ahUKEwji4s6L-xAgQQ4dUDCAc\\n&\\nuact=5&oq=IESKAU\\n&\\ngs_lcp=Cgdnd3\\n&\\nsclient=gws-wiz'"
      ]
     },
     "execution_count": 14,
     "metadata": {},
     "output_type": "execute_result"
    }
   ],
   "source": [
    "\"\"\"https://www.google.lt/search?\n",
    "q=IESKAU2\n",
    "&\n",
    "source=hp\n",
    "&\n",
    "ei=zcL0&iflsig\n",
    "&\n",
    "ved=0ahUKEwji4s6L-xAgQQ4dUDCAc\n",
    "&\n",
    "uact=5&oq=IESKAU\n",
    "&\n",
    "gs_lcp=Cgdnd3\n",
    "&\n",
    "sclient=gws-wiz\"\"\""
   ]
  },
  {
   "cell_type": "markdown",
   "id": "a3656e69",
   "metadata": {},
   "source": [
    "requests leidžia mums patiems formuoti url parametrus žodyne ir paduoti į url."
   ]
  },
  {
   "cell_type": "code",
   "execution_count": 15,
   "id": "7399af15",
   "metadata": {
    "scrolled": true
   },
   "outputs": [
    {
     "name": "stdout",
     "output_type": "stream",
     "text": [
      "http://www.google.lt/search?q=Perlas\n"
     ]
    }
   ],
   "source": [
    "payload = {'q': 'Perlas'}\n",
    "\n",
    "r = requests.get(\"http://www.google.lt/search\", params=payload)\n",
    "print(r.url)"
   ]
  },
  {
   "cell_type": "code",
   "execution_count": null,
   "id": "871b307e",
   "metadata": {
    "scrolled": false
   },
   "outputs": [],
   "source": [
    "r.text"
   ]
  },
  {
   "cell_type": "markdown",
   "id": "91d60099",
   "metadata": {},
   "source": [
    "bandom paiešką python.org puslapyje, išsiaiškiname, kokie parametrai formuojami serverio, kaip paieškos žodis ir paieškos rezultatų puslapis, bei pabandome juos nusikopijuoti į savo parametrų žodyną."
   ]
  },
  {
   "cell_type": "code",
   "execution_count": null,
   "id": "e9bb0a17",
   "metadata": {
    "scrolled": false
   },
   "outputs": [],
   "source": [
    "r = requests.get(\"https://www.python.org/search/?q=pep\")\n",
    "print(r.text)"
   ]
  },
  {
   "cell_type": "code",
   "execution_count": null,
   "id": "9ce65c43",
   "metadata": {},
   "outputs": [],
   "source": [
    "\"\"\"https://www.python.org/search/?q=pep&page=2\"\"\""
   ]
  },
  {
   "cell_type": "markdown",
   "id": "a449a2b5",
   "metadata": {},
   "source": [
    "nukopijuojam rastus parametrus į savo žodyną payload, ir paduodam į užklausos params. Taip patogiau ir tiksliau."
   ]
  },
  {
   "cell_type": "code",
   "execution_count": 50,
   "id": "19d98d1d",
   "metadata": {},
   "outputs": [
    {
     "name": "stdout",
     "output_type": "stream",
     "text": [
      "https://www.python.org/search/?q=pep&page=2\n"
     ]
    }
   ],
   "source": [
    "payload = {'q': 'pep', 'page': '2'}\n",
    "r = requests.get(\"https://www.python.org/search/\", params=payload)\n",
    "print(r.url)"
   ]
  },
  {
   "cell_type": "code",
   "execution_count": null,
   "id": "f1d9fc52",
   "metadata": {
    "scrolled": false
   },
   "outputs": [],
   "source": [
    "print(r.text)"
   ]
  },
  {
   "cell_type": "markdown",
   "id": "92cb76a1",
   "metadata": {},
   "source": [
    "### Kiti HTTP metodai\n",
    "***\n",
    "iki šiol dirbome su .get() metodu, kuris yra bene dažniausiai naudojamas. Tačiau yra ir kiti, tokie kaip post, put, delete, patch. Labai geras resursas jų visų ištestavimui yra www.httpbin.org . pvz.:"
   ]
  },
  {
   "cell_type": "markdown",
   "id": "6fe8da2d",
   "metadata": {},
   "source": [
    "į tokią užklausą serveris atsakys informacija su mūsų IP adresu JSON formate."
   ]
  },
  {
   "cell_type": "code",
   "execution_count": null,
   "id": "8d854bfe",
   "metadata": {
    "scrolled": true
   },
   "outputs": [],
   "source": [
    "r = requests.get(\"http://httpbin.org/ip\")\n",
    "print(r.text)"
   ]
  },
  {
   "cell_type": "code",
   "execution_count": null,
   "id": "19190a73",
   "metadata": {},
   "outputs": [],
   "source": [
    "Panagrinėkime, kaip dirbti su post metodu:"
   ]
  },
  {
   "cell_type": "code",
   "execution_count": 56,
   "id": "f7fcae83",
   "metadata": {
    "scrolled": true
   },
   "outputs": [
    {
     "name": "stdout",
     "output_type": "stream",
     "text": [
      "{\n",
      "  \"args\": {}, \n",
      "  \"data\": \"\", \n",
      "  \"files\": {}, \n",
      "  \"form\": {\n",
      "    \"birthday\": \"1999.09.09\", \n",
      "    \"lastname\": \"Jonaitis\", \n",
      "    \"name\": \"Jonas\"\n",
      "  }, \n",
      "  \"headers\": {\n",
      "    \"Accept\": \"*/*\", \n",
      "    \"Accept-Encoding\": \"gzip, deflate\", \n",
      "    \"Content-Length\": \"48\", \n",
      "    \"Content-Type\": \"application/x-www-form-urlencoded\", \n",
      "    \"Host\": \"httpbin.org\", \n",
      "    \"User-Agent\": \"python-requests/2.28.1\", \n",
      "    \"X-Amzn-Trace-Id\": \"Root=1-62f4d7ca-02426a6821f76c5a19882e7b\"\n",
      "  }, \n",
      "  \"json\": null, \n",
      "  \"origin\": \"5.20.62.70\", \n",
      "  \"url\": \"http://httpbin.org/post\"\n",
      "}\n",
      "\n"
     ]
    }
   ],
   "source": [
    "data = {'name': 'Jonas', 'lastname': 'Jonaitis', 'birthday': '1999.09.09' }\n",
    "r = requests.post('http://httpbin.org/post', data=data)\n",
    "print(r.text)"
   ]
  },
  {
   "attachments": {},
   "cell_type": "markdown",
   "id": "3ee6d58b",
   "metadata": {},
   "source": [
    "google į tokią užklausą atsakytų The request method <code>POST</code> is inappropriate for the URL. Serveris turi palaikyti tokias užklausas, jos naudojamos siųsti savo informaciją. <code>GET</code> naudojama gauti informaciją."
   ]
  },
  {
   "cell_type": "code",
   "execution_count": null,
   "id": "92ffd2fa",
   "metadata": {
    "scrolled": false
   },
   "outputs": [],
   "source": [
    "data = {'name': 'Jonas', 'lastname': 'Jonaitis', 'birthday': '1999.09.09' }\n",
    "r = requests.post('http://google.lt/', data=data)\n",
    "print(r.text)"
   ]
  },
  {
   "cell_type": "code",
   "execution_count": null,
   "id": "04909a18",
   "metadata": {},
   "outputs": [],
   "source": []
  }
 ],
 "metadata": {
  "kernelspec": {
   "display_name": "Python 3 (ipykernel)",
   "language": "python",
   "name": "python3"
  },
  "language_info": {
   "codemirror_mode": {
    "name": "ipython",
    "version": 3
   },
   "file_extension": ".py",
   "mimetype": "text/x-python",
   "name": "python",
   "nbconvert_exporter": "python",
   "pygments_lexer": "ipython3",
   "version": "3.10.5"
  }
 },
 "nbformat": 4,
 "nbformat_minor": 5
}
