{
 "cells": [
  {
   "cell_type": "markdown",
   "id": "5a189945",
   "metadata": {},
   "source": [
    "### Iteratoriai"
   ]
  },
  {
   "cell_type": "code",
   "execution_count": 28,
   "id": "3768f6f9",
   "metadata": {},
   "outputs": [
    {
     "name": "stdout",
     "output_type": "stream",
     "text": [
      "A\n",
      "b\n",
      "c\n"
     ]
    }
   ],
   "source": [
    "for raide in \"Abc\":\n",
    "    print(raide)"
   ]
  },
  {
   "cell_type": "code",
   "execution_count": 29,
   "id": "a149a7af",
   "metadata": {
    "scrolled": true
   },
   "outputs": [],
   "source": [
    "iteratorius = iter(\"Abc\")"
   ]
  },
  {
   "cell_type": "code",
   "execution_count": 30,
   "id": "15f91213",
   "metadata": {},
   "outputs": [
    {
     "data": {
      "text/plain": [
       "str_iterator"
      ]
     },
     "execution_count": 30,
     "metadata": {},
     "output_type": "execute_result"
    }
   ],
   "source": [
    "type(iteratorius)"
   ]
  },
  {
   "cell_type": "code",
   "execution_count": 31,
   "id": "d5b54c0c",
   "metadata": {
    "scrolled": true
   },
   "outputs": [
    {
     "name": "stdout",
     "output_type": "stream",
     "text": [
      "A\n",
      "b\n",
      "c\n"
     ]
    }
   ],
   "source": [
    "print(next(iteratorius))\n",
    "print(next(iteratorius))\n",
    "print(next(iteratorius))"
   ]
  },
  {
   "cell_type": "code",
   "execution_count": 32,
   "id": "f7208b67",
   "metadata": {},
   "outputs": [
    {
     "ename": "StopIteration",
     "evalue": "",
     "output_type": "error",
     "traceback": [
      "\u001b[1;31m---------------------------------------------------------------------------\u001b[0m",
      "\u001b[1;31mStopIteration\u001b[0m                             Traceback (most recent call last)",
      "\u001b[1;32m~\\AppData\\Local\\Temp\\ipykernel_27488\\2318906217.py\u001b[0m in \u001b[0;36m<cell line: 1>\u001b[1;34m()\u001b[0m\n\u001b[1;32m----> 1\u001b[1;33m \u001b[0mprint\u001b[0m\u001b[1;33m(\u001b[0m\u001b[0mnext\u001b[0m\u001b[1;33m(\u001b[0m\u001b[0miteratorius\u001b[0m\u001b[1;33m)\u001b[0m\u001b[1;33m)\u001b[0m\u001b[1;33m\u001b[0m\u001b[1;33m\u001b[0m\u001b[0m\n\u001b[0m",
      "\u001b[1;31mStopIteration\u001b[0m: "
     ]
    }
   ],
   "source": [
    "print(next(iteratorius))"
   ]
  },
  {
   "cell_type": "code",
   "execution_count": 33,
   "id": "87eb9bbc",
   "metadata": {
    "scrolled": true
   },
   "outputs": [
    {
     "name": "stdout",
     "output_type": "stream",
     "text": [
      "A\n",
      "B\n",
      "C\n",
      "D\n"
     ]
    }
   ],
   "source": [
    "s = \"ABCD\"\n",
    "s_iter = iter(s)\n",
    "while True:\n",
    "    try:\n",
    "        print(next(s_iter))\n",
    "    except StopIteration:\n",
    "        break"
   ]
  },
  {
   "cell_type": "code",
   "execution_count": 42,
   "id": "ecfbc920",
   "metadata": {
    "scrolled": true
   },
   "outputs": [],
   "source": [
    "def iteruoklis(objektas, func):\n",
    "    iteratorius = iter(objektas)\n",
    "    while True:\n",
    "        try:\n",
    "            result = next(iteratorius)\n",
    "            func(result)\n",
    "        except StopIteration:\n",
    "            break\n",
    "            "
   ]
  },
  {
   "cell_type": "code",
   "execution_count": 41,
   "id": "ca04aed4",
   "metadata": {
    "scrolled": true
   },
   "outputs": [
    {
     "name": "stdout",
     "output_type": "stream",
     "text": [
      "jonas\n",
      "antanas\n",
      "petras\n"
     ]
    }
   ],
   "source": [
    "vardai = ['jonas', 'antanas', 'petras']\n",
    "iteruoklis(vardai, print)"
   ]
  },
  {
   "cell_type": "code",
   "execution_count": 43,
   "id": "0f79abfb",
   "metadata": {},
   "outputs": [],
   "source": [
    "def kubu(x):\n",
    "    print(x**3)"
   ]
  },
  {
   "cell_type": "code",
   "execution_count": 44,
   "id": "90315653",
   "metadata": {},
   "outputs": [
    {
     "name": "stdout",
     "output_type": "stream",
     "text": [
      "64\n",
      "512\n",
      "729\n",
      "1000\n",
      "1728\n"
     ]
    }
   ],
   "source": [
    "nums = [4, 8, 9, 10, 12]\n",
    "iteruoklis(nums, kubu)"
   ]
  },
  {
   "cell_type": "markdown",
   "id": "6a72eb6b",
   "metadata": {},
   "source": [
    "### Generatoriai"
   ]
  },
  {
   "cell_type": "code",
   "execution_count": 1,
   "id": "45eecce5",
   "metadata": {},
   "outputs": [],
   "source": [
    "def skaiciuojam_iki(iki):\n",
    "    count = 1\n",
    "    while count <= iki:\n",
    "        yield count \n",
    "        count += 1"
   ]
  },
  {
   "cell_type": "code",
   "execution_count": 61,
   "id": "2b3ea405",
   "metadata": {},
   "outputs": [],
   "source": [
    "counter = skaiciuojam_iki(3)"
   ]
  },
  {
   "cell_type": "code",
   "execution_count": 62,
   "id": "47e814bb",
   "metadata": {
    "scrolled": true
   },
   "outputs": [
    {
     "name": "stdout",
     "output_type": "stream",
     "text": [
      "1\n",
      "2\n",
      "3\n"
     ]
    }
   ],
   "source": [
    "for i in counter:\n",
    "    print(i)"
   ]
  },
  {
   "cell_type": "code",
   "execution_count": 63,
   "id": "d86652b9",
   "metadata": {},
   "outputs": [
    {
     "data": {
      "text/plain": [
       "[1, 2, 3, 4, 5, 6, 7, 8, 9, 10]"
      ]
     },
     "execution_count": 63,
     "metadata": {},
     "output_type": "execute_result"
    }
   ],
   "source": [
    "counter = skaiciuojam_iki(10)\n",
    "list(counter)"
   ]
  },
  {
   "cell_type": "code",
   "execution_count": 64,
   "id": "d0715dc3",
   "metadata": {},
   "outputs": [
    {
     "name": "stdout",
     "output_type": "stream",
     "text": [
      "1\n",
      "2\n",
      "3\n",
      "[4, 5, 6, 7, 8, 9, 10]\n"
     ]
    }
   ],
   "source": [
    "counter = skaiciuojam_iki(10)\n",
    "print(next(counter))\n",
    "print(next(counter))\n",
    "print(next(counter))\n",
    "sarasas = list(counter)\n",
    "print(sarasas)"
   ]
  },
  {
   "cell_type": "code",
   "execution_count": 65,
   "id": "c392b003",
   "metadata": {},
   "outputs": [
    {
     "name": "stdout",
     "output_type": "stream",
     "text": [
      "[0, 1, 8, 27]\n"
     ]
    }
   ],
   "source": [
    "l_compreh = [sk**3 for sk in range(4)]\n",
    "print(l_compreh)"
   ]
  },
  {
   "cell_type": "code",
   "execution_count": 87,
   "id": "93943701",
   "metadata": {},
   "outputs": [],
   "source": [
    "g_compreh = (sk**3 for sk in range(4))\n"
   ]
  },
  {
   "cell_type": "code",
   "execution_count": 89,
   "id": "a86daec2",
   "metadata": {},
   "outputs": [
    {
     "name": "stdout",
     "output_type": "stream",
     "text": [
      "1\n"
     ]
    }
   ],
   "source": [
    "print(next(g_compreh))"
   ]
  },
  {
   "cell_type": "code",
   "execution_count": null,
   "id": "30aa2dde",
   "metadata": {},
   "outputs": [],
   "source": []
  },
  {
   "cell_type": "markdown",
   "id": "a4536c69",
   "metadata": {},
   "source": [
    "## papildoma medžiaga"
   ]
  },
  {
   "cell_type": "code",
   "execution_count": 32,
   "id": "fe3e0aba",
   "metadata": {},
   "outputs": [],
   "source": [
    "with open('gylis100.txt') as f:\n",
    "    l = eval(f.read())"
   ]
  },
  {
   "cell_type": "code",
   "execution_count": 6,
   "id": "dbe1a84f",
   "metadata": {},
   "outputs": [],
   "source": [
    "def skaiciuojam_iki(iki):\n",
    "    count = 1\n",
    "    while count <= iki:\n",
    "        yield count\n",
    "        count += 1"
   ]
  },
  {
   "cell_type": "code",
   "execution_count": 12,
   "id": "cd0dc500",
   "metadata": {},
   "outputs": [],
   "source": [
    "def skaiciuojam_nuo(start):\n",
    "    count = start\n",
    "    while count > 0:\n",
    "        yield count\n",
    "        count -= 1"
   ]
  },
  {
   "cell_type": "code",
   "execution_count": 13,
   "id": "ceb4c14c",
   "metadata": {},
   "outputs": [],
   "source": [
    "g = skaiciuojam_nuo(3)"
   ]
  },
  {
   "cell_type": "code",
   "execution_count": null,
   "id": "5ec62e14",
   "metadata": {
    "scrolled": false
   },
   "outputs": [],
   "source": [
    "next(g)"
   ]
  },
  {
   "cell_type": "code",
   "execution_count": 18,
   "id": "c6c9736f",
   "metadata": {},
   "outputs": [],
   "source": [
    "def bendras(arg):\n",
    "    yield from skaiciuojam_iki(arg)\n",
    "    yield from skaiciuojam_nuo(arg)"
   ]
  },
  {
   "cell_type": "code",
   "execution_count": 21,
   "id": "9fcc4bfd",
   "metadata": {},
   "outputs": [],
   "source": [
    "g = bendras(3)"
   ]
  },
  {
   "cell_type": "code",
   "execution_count": null,
   "id": "de7f5f62",
   "metadata": {
    "scrolled": false
   },
   "outputs": [],
   "source": [
    "next(g)"
   ]
  },
  {
   "cell_type": "code",
   "execution_count": 29,
   "id": "256bb142",
   "metadata": {},
   "outputs": [],
   "source": [
    "# l = [1, [7, 8, [4, 9]]]"
   ]
  },
  {
   "cell_type": "code",
   "execution_count": 78,
   "id": "16750d12",
   "metadata": {},
   "outputs": [
    {
     "name": "stdout",
     "output_type": "stream",
     "text": [
      "ERROR! Session/line number was not unique in database. History logging moved to new session 97\n"
     ]
    }
   ],
   "source": [
    "def plokscias_listas(elems):\n",
    "    for el in elems:\n",
    "        if isinstance(el, list):\n",
    "            yield from plokscias_listas(el)\n",
    "        else:\n",
    "            yield el"
   ]
  },
  {
   "cell_type": "code",
   "execution_count": 79,
   "id": "3c5f373e",
   "metadata": {
    "scrolled": false
   },
   "outputs": [],
   "source": [
    "g = plokscias_listas(l)"
   ]
  },
  {
   "cell_type": "code",
   "execution_count": 44,
   "id": "0a75f2f6",
   "metadata": {},
   "outputs": [
    {
     "data": {
      "text/plain": [
       "2831"
      ]
     },
     "execution_count": 44,
     "metadata": {},
     "output_type": "execute_result"
    }
   ],
   "source": [
    "next(g)"
   ]
  },
  {
   "cell_type": "code",
   "execution_count": null,
   "id": "5978389a",
   "metadata": {
    "scrolled": false
   },
   "outputs": [],
   "source": [
    "l2 = [el for el in g]"
   ]
  },
  {
   "cell_type": "code",
   "execution_count": null,
   "id": "0731d9da",
   "metadata": {
    "scrolled": true
   },
   "outputs": [],
   "source": [
    "l2"
   ]
  },
  {
   "cell_type": "code",
   "execution_count": null,
   "id": "4f6ce535",
   "metadata": {
    "scrolled": true
   },
   "outputs": [],
   "source": [
    "with open('gylis100.txt') as f:\n",
    "    l = eval(f.read())"
   ]
  },
  {
   "cell_type": "code",
   "execution_count": 51,
   "id": "95f85290",
   "metadata": {},
   "outputs": [
    {
     "name": "stdout",
     "output_type": "stream",
     "text": [
      "50\n"
     ]
    }
   ],
   "source": [
    "import sys\n",
    "sys.setrecursionlimit(50)"
   ]
  },
  {
   "cell_type": "code",
   "execution_count": 70,
   "id": "fd73cc34",
   "metadata": {},
   "outputs": [
    {
     "name": "stdout",
     "output_type": "stream",
     "text": [
      "ERROR! Session/line number was not unique in database. History logging moved to new session 96\n"
     ]
    }
   ],
   "source": [
    "def tobulas_plokscias_listas(elems):\n",
    "    stack = [iter(elems)]\n",
    "    while stack:\n",
    "        try:\n",
    "            el = next(stack[-1])\n",
    "            if isinstance(el, list):\n",
    "                stack.append(iter(el))\n",
    "            else:\n",
    "                yield el\n",
    "        except StopIteration:\n",
    "            stack.pop()"
   ]
  },
  {
   "cell_type": "code",
   "execution_count": 71,
   "id": "c33f8ab8",
   "metadata": {},
   "outputs": [],
   "source": [
    "l3 = [1, [2, 3], 4, [5]]"
   ]
  },
  {
   "cell_type": "code",
   "execution_count": 81,
   "id": "05bc8261",
   "metadata": {},
   "outputs": [],
   "source": [
    "g = tobulas_plokscias_listas(l)"
   ]
  },
  {
   "cell_type": "code",
   "execution_count": 84,
   "id": "110c2b4b",
   "metadata": {
    "scrolled": false
   },
   "outputs": [
    {
     "data": {
      "text/plain": [
       "7627"
      ]
     },
     "execution_count": 84,
     "metadata": {},
     "output_type": "execute_result"
    }
   ],
   "source": [
    "next(g)"
   ]
  },
  {
   "cell_type": "code",
   "execution_count": 85,
   "id": "77ab83b0",
   "metadata": {},
   "outputs": [],
   "source": [
    "l_comph = [el for el in g]"
   ]
  }
 ],
 "metadata": {
  "kernelspec": {
   "display_name": "Python 3 (ipykernel)",
   "language": "python",
   "name": "python3"
  },
  "language_info": {
   "codemirror_mode": {
    "name": "ipython",
    "version": 3
   },
   "file_extension": ".py",
   "mimetype": "text/x-python",
   "name": "python",
   "nbconvert_exporter": "python",
   "pygments_lexer": "ipython3",
   "version": "3.10.5"
  }
 },
 "nbformat": 4,
 "nbformat_minor": 5
}
