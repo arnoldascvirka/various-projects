{
 "cells": [
  {
   "cell_type": "markdown",
   "id": "2ed4423e",
   "metadata": {},
   "source": [
    "## API\n",
    "***\n",
    "API (Application Programming Interface) - Aplikacijų programavimo sąsaja, aukštesnio lygio abstrakcijos lygmuo, leidžiantis programuotojui išnaudoti tam tikrą funkcionalumą. Pvz - visos operacinės sistemos turi API, todėl programuotojas gali kurti programas, kurias OS paskui vykdo. Šiandien kalbėsime apie pačias paprasčiausias - web API's. Web API priima užklausą ir grąžina rezultatą, dažniausiai JSON formatu. Su tuo rezultatu paskui galime daryti ką norime (panaudoti savo web programėlėje, išsaugoti duomenų bazėje ir t.t.)"
   ]
  },
  {
   "cell_type": "code",
   "execution_count": 8,
   "id": "f84f6f17",
   "metadata": {},
   "outputs": [],
   "source": [
    "import requests\n",
    "import json"
   ]
  },
  {
   "cell_type": "code",
   "execution_count": 85,
   "id": "c5793a7d",
   "metadata": {},
   "outputs": [
    {
     "name": "stdout",
     "output_type": "stream",
     "text": [
      "{\"number\": 10, \"people\": [{\"name\": \"Oleg Artemyev\", \"craft\": \"ISS\"}, {\"name\": \"Denis Matveev\", \"craft\": \"ISS\"}, {\"name\": \"Sergey Korsakov\", \"craft\": \"ISS\"}, {\"name\": \"Kjell Lindgren\", \"craft\": \"ISS\"}, {\"name\": \"Bob Hines\", \"craft\": \"ISS\"}, {\"name\": \"Samantha Cristoforetti\", \"craft\": \"ISS\"}, {\"name\": \"Jessica Watkins\", \"craft\": \"ISS\"}, {\"name\": \"Cai Xuzhe\", \"craft\": \"Tiangong\"}, {\"name\": \"Chen Dong\", \"craft\": \"Tiangong\"}, {\"name\": \"Liu Yang\", \"craft\": \"Tiangong\"}], \"message\": \"success\"}\n"
     ]
    }
   ],
   "source": [
    "r = requests.get(\"http://api.open-notify.org/astros.json\")\n",
    "print(r.text)"
   ]
  },
  {
   "cell_type": "markdown",
   "id": "c287f3db",
   "metadata": {},
   "source": [
    "Panaudoję http://api.open-notify.org Gauname JSON sąrašą žmonių, šiuo metu reziduojančių Tarptautinėje Kosminėje Stotyje. API's dažniausiai turi savo dokumentaciją, kad žinotumėm, kaip pateikti užklausas norimam rezultatui gauti. Prieš naudojantis, verta pasiskaityti.\n",
    "Web API's yra labai daug, duomenis jos pateikia iš pačių įvairiausių gyvenimo sričių. Šioje nuorodoje https://github.com/public-apis/public-apis rasite sąrašą nemokamų web API's. Dalis jų reikalauja registracijos ir autentifikacijos (apiKey), kitas galima naudoti tiesiog iš karto."
   ]
  },
  {
   "cell_type": "markdown",
   "id": "8d09d162",
   "metadata": {},
   "source": [
    "Grįžtant prie kosmonautų sąrašo, prisimenam, kaip tekstą paversti į Python žodyną, json bibliotekos pagalba."
   ]
  },
  {
   "cell_type": "code",
   "execution_count": 86,
   "id": "6e4636f1",
   "metadata": {},
   "outputs": [],
   "source": [
    "kosmonautai_d = json.loads(r.text)"
   ]
  },
  {
   "cell_type": "code",
   "execution_count": 87,
   "id": "bfe37b4e",
   "metadata": {},
   "outputs": [
    {
     "data": {
      "text/plain": [
       "3"
      ]
     },
     "execution_count": 87,
     "metadata": {},
     "output_type": "execute_result"
    }
   ],
   "source": [
    "len(kosmonautai_d)"
   ]
  },
  {
   "cell_type": "code",
   "execution_count": 88,
   "id": "9dd829a1",
   "metadata": {},
   "outputs": [
    {
     "data": {
      "text/plain": [
       "dict_keys(['number', 'people', 'message'])"
      ]
     },
     "execution_count": 88,
     "metadata": {},
     "output_type": "execute_result"
    }
   ],
   "source": [
    "kosmonautai_d.keys()"
   ]
  },
  {
   "cell_type": "code",
   "execution_count": 89,
   "id": "5d577492",
   "metadata": {},
   "outputs": [
    {
     "data": {
      "text/plain": [
       "[{'name': 'Oleg Artemyev', 'craft': 'ISS'},\n",
       " {'name': 'Denis Matveev', 'craft': 'ISS'},\n",
       " {'name': 'Sergey Korsakov', 'craft': 'ISS'},\n",
       " {'name': 'Kjell Lindgren', 'craft': 'ISS'},\n",
       " {'name': 'Bob Hines', 'craft': 'ISS'},\n",
       " {'name': 'Samantha Cristoforetti', 'craft': 'ISS'},\n",
       " {'name': 'Jessica Watkins', 'craft': 'ISS'},\n",
       " {'name': 'Cai Xuzhe', 'craft': 'Tiangong'},\n",
       " {'name': 'Chen Dong', 'craft': 'Tiangong'},\n",
       " {'name': 'Liu Yang', 'craft': 'Tiangong'}]"
      ]
     },
     "execution_count": 89,
     "metadata": {},
     "output_type": "execute_result"
    }
   ],
   "source": [
    "kosmonautai_d['people']"
   ]
  },
  {
   "cell_type": "code",
   "execution_count": 90,
   "id": "84edd195",
   "metadata": {},
   "outputs": [
    {
     "name": "stdout",
     "output_type": "stream",
     "text": [
      "{'name': 'Oleg Artemyev', 'craft': 'ISS'}\n",
      "Oleg Artemyev ==> ISS\n",
      "{'name': 'Denis Matveev', 'craft': 'ISS'}\n",
      "Denis Matveev ==> ISS\n",
      "{'name': 'Sergey Korsakov', 'craft': 'ISS'}\n",
      "Sergey Korsakov ==> ISS\n",
      "{'name': 'Kjell Lindgren', 'craft': 'ISS'}\n",
      "Kjell Lindgren ==> ISS\n",
      "{'name': 'Bob Hines', 'craft': 'ISS'}\n",
      "Bob Hines ==> ISS\n",
      "{'name': 'Samantha Cristoforetti', 'craft': 'ISS'}\n",
      "Samantha Cristoforetti ==> ISS\n",
      "{'name': 'Jessica Watkins', 'craft': 'ISS'}\n",
      "Jessica Watkins ==> ISS\n",
      "{'name': 'Cai Xuzhe', 'craft': 'Tiangong'}\n",
      "Cai Xuzhe ==> Tiangong\n",
      "{'name': 'Chen Dong', 'craft': 'Tiangong'}\n",
      "Chen Dong ==> Tiangong\n",
      "{'name': 'Liu Yang', 'craft': 'Tiangong'}\n",
      "Liu Yang ==> Tiangong\n"
     ]
    }
   ],
   "source": [
    "for kosmonautas in kosmonautai_d['people']:\n",
    "    print(kosmonautas)\n",
    "    print(kosmonautas['name'], \"==>\", kosmonautas['craft'])"
   ]
  },
  {
   "cell_type": "markdown",
   "id": "3d3d98ce",
   "metadata": {},
   "source": [
    "## pixabay API\n",
    "***\n",
    "#### paveikslėlių paieškos API\n",
    "Kai kurios API paslaugas teikiančios svetainės reikalauja registracijos, tam, kad išvengtų piktnaudžiavimo, ir galėtų taikyti įvairius apribojimus (užklausų per dieną ir t.t.). Jums užsiregisravus, gausite su jūsų duomenimis susietą apiKey, kurį, priklausomai nuo dokumentacijos, turėsite nurodyti vykdydami užklausą.\n",
    "\n",
    "Pvz, užsiregistravus https://pixabay.com/ dokumentacijoje rasite jums priklausantį API raktą:"
   ]
  },
  {
   "cell_type": "code",
   "execution_count": 91,
   "id": "b848107f",
   "metadata": {},
   "outputs": [],
   "source": [
    "API_key = '14795746-624081efd179b5bd9be0efe43'"
   ]
  },
  {
   "cell_type": "code",
   "execution_count": 92,
   "id": "1c7e1e10",
   "metadata": {
    "scrolled": true
   },
   "outputs": [],
   "source": [
    "query = 'dog' # čia mūsų paieškos žodis\n",
    "payload = {'key': API_key, 'q': query, 'img_type': 'photo', \n",
    "           'pretty': 'true'}\n",
    "r = requests.get('https://pixabay.com/api/', params=payload)\n"
   ]
  },
  {
   "cell_type": "markdown",
   "id": "98d2ff34",
   "metadata": {},
   "source": [
    "Gautą atsakyme json formato tekstą verčiame į žodyną"
   ]
  },
  {
   "cell_type": "code",
   "execution_count": 94,
   "id": "0283e9ca",
   "metadata": {},
   "outputs": [],
   "source": [
    "res_d = json.loads(r.text)"
   ]
  },
  {
   "cell_type": "code",
   "execution_count": 101,
   "id": "4d53f35b",
   "metadata": {},
   "outputs": [
    {
     "data": {
      "text/plain": [
       "3"
      ]
     },
     "execution_count": 101,
     "metadata": {},
     "output_type": "execute_result"
    }
   ],
   "source": [
    "len(res_d) # ilgis"
   ]
  },
  {
   "cell_type": "code",
   "execution_count": 102,
   "id": "56033c08",
   "metadata": {},
   "outputs": [
    {
     "data": {
      "text/plain": [
       "dict_keys(['total', 'totalHits', 'hits'])"
      ]
     },
     "execution_count": 102,
     "metadata": {},
     "output_type": "execute_result"
    }
   ],
   "source": [
    "res_d.keys() # raktai"
   ]
  },
  {
   "cell_type": "markdown",
   "id": "582bdcc4",
   "metadata": {},
   "source": [
    "gauto žodyno rakte 'hits' yra list su 20 paieškos pagal mūsų žodį rezultatų žodynuose ir kiekvieno žodyno rakte 'largeImageURL' yra didelio formato paveikslėlio nuoroda(adresas):"
   ]
  },
  {
   "cell_type": "code",
   "execution_count": 103,
   "id": "53cd7394",
   "metadata": {
    "scrolled": true
   },
   "outputs": [
    {
     "data": {
      "text/plain": [
       "[{'id': 794978,\n",
       "  'pageURL': 'https://pixabay.com/illustrations/book-dog-fairy-tales-child-kid-794978/',\n",
       "  'type': 'illustration',\n",
       "  'tags': 'book, dog, fairy tales',\n",
       "  'previewURL': 'https://cdn.pixabay.com/photo/2015/06/02/12/59/book-794978_150.jpg',\n",
       "  'previewWidth': 150,\n",
       "  'previewHeight': 84,\n",
       "  'webformatURL': 'https://pixabay.com/get/g3f1f50a0b9fa26d4cb48d8c7c28e03f8cd9b9461a6b95dff39b0604f930b6e5629e920acad0f62080b30ea24e6359dfc_640.jpg',\n",
       "  'webformatWidth': 640,\n",
       "  'webformatHeight': 360,\n",
       "  'largeImageURL': 'https://pixabay.com/get/g95868aab2295dc291382cc553a3e18d6bc8bbf663b2ee6296c6fd26106140bdfc06018c2e145764f4851f5c2ef3d6e501ef4e17d95d559128788824baad654e5_1280.jpg',\n",
       "  'imageWidth': 3000,\n",
       "  'imageHeight': 1688,\n",
       "  'imageSize': 1628041,\n",
       "  'views': 816525,\n",
       "  'downloads': 329202,\n",
       "  'collections': 2607,\n",
       "  'likes': 3035,\n",
       "  'comments': 573,\n",
       "  'user_id': 51581,\n",
       "  'user': '0fjd125gk87',\n",
       "  'userImageURL': 'https://cdn.pixabay.com/user/2020/04/09/10-26-16-313_250x250.jpg'},\n",
       " {'id': 2785074,\n",
       "  'pageURL': 'https://pixabay.com/photos/cocker-spaniel-puppy-pet-canine-2785074/',\n",
       "  'type': 'photo',\n",
       "  'tags': 'cocker spaniel, puppy, pet',\n",
       "  'previewURL': 'https://cdn.pixabay.com/photo/2017/09/25/13/12/cocker-spaniel-2785074_150.jpg',\n",
       "  'previewWidth': 150,\n",
       "  'previewHeight': 99,\n",
       "  'webformatURL': 'https://pixabay.com/get/g7d089206007886e51412d6090d58a2e1cbf70ae70a101f5859ac41a5b6deb854312cbcdff476f0ea0529132b82cbd8c642dc5dba831253bc059977cd0388d6a0_640.jpg',\n",
       "  'webformatWidth': 640,\n",
       "  'webformatHeight': 426,\n",
       "  'largeImageURL': 'https://pixabay.com/get/g2b2450f88195dc4ddfa28733388612c79547955c7d21635ac85b16b71e6bd7607ad5e9999a50c1ca2b76c70de998198017442a4dee29c50b8fb305818f8816cf_1280.jpg',\n",
       "  'imageWidth': 3943,\n",
       "  'imageHeight': 2628,\n",
       "  'imageSize': 2235576,\n",
       "  'views': 767397,\n",
       "  'downloads': 496198,\n",
       "  'collections': 1531,\n",
       "  'likes': 1469,\n",
       "  'comments': 218,\n",
       "  'user_id': 6087762,\n",
       "  'user': 'PicsbyFran',\n",
       "  'userImageURL': 'https://cdn.pixabay.com/user/2020/05/08/15-39-26-890_250x250.jpg'},\n",
       " {'id': 1728494,\n",
       "  'pageURL': 'https://pixabay.com/vectors/dog-animal-domestic-animal-doggie-1728494/',\n",
       "  'type': 'vector/svg',\n",
       "  'tags': 'dog, animal, domestic animal',\n",
       "  'previewURL': 'https://cdn.pixabay.com/photo/2016/10/10/14/13/dog-1728494_150.png',\n",
       "  'previewWidth': 150,\n",
       "  'previewHeight': 134,\n",
       "  'webformatURL': 'https://pixabay.com/get/g4f8ee6d8a724a99019f3ea38ece06c58cbc6c1f7411d13a1c5597cfdaac1f35ec7d938888dcd7fe729285cb323c569b04167a6f36c686b7dae88d8e926bb5e64_640.png',\n",
       "  'webformatWidth': 640,\n",
       "  'webformatHeight': 573,\n",
       "  'largeImageURL': 'https://pixabay.com/get/g7950ecc564e3619da417ecf752f8542a668874492ea61b262fd798afb4da826407f82f868c7162d5606fd47b6b0df1ec25bc06d01c87884b3d247be6daa5e380_1280.png',\n",
       "  'imageWidth': 1920,\n",
       "  'imageHeight': 1719,\n",
       "  'imageSize': 1387975,\n",
       "  'views': 302386,\n",
       "  'downloads': 168349,\n",
       "  'collections': 1234,\n",
       "  'likes': 1092,\n",
       "  'comments': 252,\n",
       "  'user_id': 268986,\n",
       "  'user': 'Gorkhs',\n",
       "  'userImageURL': 'https://cdn.pixabay.com/user/2016/06/09/18-08-22-28_250x250.png'},\n",
       " {'id': 1903313,\n",
       "  'pageURL': 'https://pixabay.com/photos/puppy-dog-pet-collar-dog-collar-1903313/',\n",
       "  'type': 'photo',\n",
       "  'tags': 'puppy, dog, pet',\n",
       "  'previewURL': 'https://cdn.pixabay.com/photo/2016/12/13/05/15/puppy-1903313_150.jpg',\n",
       "  'previewWidth': 150,\n",
       "  'previewHeight': 99,\n",
       "  'webformatURL': 'https://pixabay.com/get/g56340893bc993ce3d59e7ba660577dd748ea4347dabe2f46dfa0de2289a6fe86d362a8427393cced841444469db636db99b651cee12130b44d947c127c768037_640.jpg',\n",
       "  'webformatWidth': 640,\n",
       "  'webformatHeight': 426,\n",
       "  'largeImageURL': 'https://pixabay.com/get/g2439a9052b65a3b1e508b58b84556ff83745bd2db9e70f57e67d400b4eecfac67ec35abb5aeb5e9a32fb7452f4e56451fb9f8b80477acaa98e9f9d93c5fdc0ff_1280.jpg',\n",
       "  'imageWidth': 5760,\n",
       "  'imageHeight': 3840,\n",
       "  'imageSize': 6406019,\n",
       "  'views': 829957,\n",
       "  'downloads': 523410,\n",
       "  'collections': 997,\n",
       "  'likes': 1004,\n",
       "  'comments': 143,\n",
       "  'user_id': 3194556,\n",
       "  'user': '3194556',\n",
       "  'userImageURL': ''},\n",
       " {'id': 3277416,\n",
       "  'pageURL': 'https://pixabay.com/photos/dog-pet-canine-animal-fur-snout-3277416/',\n",
       "  'type': 'photo',\n",
       "  'tags': 'dog, pet, canine',\n",
       "  'previewURL': 'https://cdn.pixabay.com/photo/2018/03/31/06/31/dog-3277416_150.jpg',\n",
       "  'previewWidth': 150,\n",
       "  'previewHeight': 99,\n",
       "  'webformatURL': 'https://pixabay.com/get/g55125dec98315cf2a0fca296a7073567e57f3fb32af137eab3c3dbb544173c2ec8710207fbc7c61911cbf41bb065303f8db59738b1e1156ce4de2b715e2e4ed8_640.jpg',\n",
       "  'webformatWidth': 640,\n",
       "  'webformatHeight': 426,\n",
       "  'largeImageURL': 'https://pixabay.com/get/g586cc783af60e2c884de7059c970a7e72d5ce593139bba3fdc20fb460022735351bc794f541239afc113d902f4aec6773012dd14406e278994d6a5611dfd6588_1280.jpg',\n",
       "  'imageWidth': 3939,\n",
       "  'imageHeight': 2626,\n",
       "  'imageSize': 1623766,\n",
       "  'views': 332933,\n",
       "  'downloads': 224306,\n",
       "  'collections': 1021,\n",
       "  'likes': 840,\n",
       "  'comments': 126,\n",
       "  'user_id': 9868721,\n",
       "  'user': 'Vizslafotozas',\n",
       "  'userImageURL': 'https://cdn.pixabay.com/user/2018/08/19/23-35-04-514_250x250.png'},\n",
       " {'id': 1047518,\n",
       "  'pageURL': 'https://pixabay.com/photos/bulldog-dog-puppy-pet-black-dog-1047518/',\n",
       "  'type': 'photo',\n",
       "  'tags': 'bulldog, dog, puppy',\n",
       "  'previewURL': 'https://cdn.pixabay.com/photo/2015/11/17/13/13/bulldog-1047518_150.jpg',\n",
       "  'previewWidth': 150,\n",
       "  'previewHeight': 99,\n",
       "  'webformatURL': 'https://pixabay.com/get/g5c1e46a6153bb516e8953e0b238cc8e47298b165db769c4991f2d1d9733761e890eb03fbcad49cf744bc79f2e70b781a4b10926033611d12637fee6dfde0dcfd_640.jpg',\n",
       "  'webformatWidth': 640,\n",
       "  'webformatHeight': 426,\n",
       "  'largeImageURL': 'https://pixabay.com/get/g2027acfdb26e279b2f08649aea5b1da5ce1f601a72d8c6c388612218ca1d9714c34b89d59d44c680ead390a1b46f4d1bda7b36190278d0571bc45328d4b09ea9_1280.jpg',\n",
       "  'imageWidth': 4300,\n",
       "  'imageHeight': 2867,\n",
       "  'imageSize': 2114094,\n",
       "  'views': 448292,\n",
       "  'downloads': 296293,\n",
       "  'collections': 857,\n",
       "  'likes': 855,\n",
       "  'comments': 133,\n",
       "  'user_id': 1637107,\n",
       "  'user': 'vlaaitje',\n",
       "  'userImageURL': 'https://cdn.pixabay.com/user/2021/02/14/16-32-48-330_250x250.jpg'},\n",
       " {'id': 4415649,\n",
       "  'pageURL': 'https://pixabay.com/photos/corgi-dog-pet-canine-rain-animal-4415649/',\n",
       "  'type': 'photo',\n",
       "  'tags': 'corgi, dog, pet',\n",
       "  'previewURL': 'https://cdn.pixabay.com/photo/2019/08/19/07/45/corgi-4415649_150.jpg',\n",
       "  'previewWidth': 150,\n",
       "  'previewHeight': 99,\n",
       "  'webformatURL': 'https://pixabay.com/get/g1046ef1aaad430f15f0d9699ee558083686578c02e0b0346a1620a3def4d857733b2789ef699620305a8de02ecf199660ce83bf4aa6205ce09110526de230c5e_640.jpg',\n",
       "  'webformatWidth': 640,\n",
       "  'webformatHeight': 423,\n",
       "  'largeImageURL': 'https://pixabay.com/get/g757bcd4d503d4f358c1b888ec4e0d9952f2fc1b114f93d35ff6cd4c034a9e7228504153ab19ef38756be1d114f6b06217d3f6d52d193e3fbc92a4fc0a5dedecc_1280.jpg',\n",
       "  'imageWidth': 5130,\n",
       "  'imageHeight': 3396,\n",
       "  'imageSize': 3129143,\n",
       "  'views': 406819,\n",
       "  'downloads': 259876,\n",
       "  'collections': 732,\n",
       "  'likes': 924,\n",
       "  'comments': 161,\n",
       "  'user_id': 8934889,\n",
       "  'user': 'huoadg5888',\n",
       "  'userImageURL': ''},\n",
       " {'id': 3042751,\n",
       "  'pageURL': 'https://pixabay.com/photos/friends-dog-pet-woman-suit-sunset-3042751/',\n",
       "  'type': 'photo',\n",
       "  'tags': 'friends, dog, pet',\n",
       "  'previewURL': 'https://cdn.pixabay.com/photo/2017/12/27/14/02/friends-3042751_150.jpg',\n",
       "  'previewWidth': 150,\n",
       "  'previewHeight': 99,\n",
       "  'webformatURL': 'https://pixabay.com/get/g78a94ea3350e1103aae3690959b58bb6db643d901b27f917d7ada4d8a68b3d3d7d905733771b5e1c42b35fb545baa8af4baad7050f8d360a711849e572688904_640.jpg',\n",
       "  'webformatWidth': 640,\n",
       "  'webformatHeight': 426,\n",
       "  'largeImageURL': 'https://pixabay.com/get/gd014943af6ee48052580ab9e5ca61c447b3a61be9316423cb9c05d3daa2f1a5ed5232d1b6af7560007d3b9603aff6774e52eb57365fa0404c830420bdc7c70dc_1280.jpg',\n",
       "  'imageWidth': 6000,\n",
       "  'imageHeight': 4000,\n",
       "  'imageSize': 3377895,\n",
       "  'views': 292760,\n",
       "  'downloads': 187573,\n",
       "  'collections': 876,\n",
       "  'likes': 905,\n",
       "  'comments': 139,\n",
       "  'user_id': 4191072,\n",
       "  'user': 'Seaq68',\n",
       "  'userImageURL': 'https://cdn.pixabay.com/user/2018/01/27/14-41-18-990_250x250.jpg'},\n",
       " {'id': 3715733,\n",
       "  'pageURL': 'https://pixabay.com/photos/pets-cat-dog-animals-mammals-3715733/',\n",
       "  'type': 'photo',\n",
       "  'tags': 'pets, cat, dog',\n",
       "  'previewURL': 'https://cdn.pixabay.com/photo/2018/10/01/09/21/pets-3715733_150.jpg',\n",
       "  'previewWidth': 150,\n",
       "  'previewHeight': 99,\n",
       "  'webformatURL': 'https://pixabay.com/get/g940e43be3627ff87f939b8db80fe5b30cfadf56337687cdbed8246c19e71a9c19a8c4c6ed05ea60091d2941ad4fe0677f6ec7c0b6f69af1f0e2db4220da84956_640.jpg',\n",
       "  'webformatWidth': 640,\n",
       "  'webformatHeight': 426,\n",
       "  'largeImageURL': 'https://pixabay.com/get/g80dd94e80c0d18ab6720f2b1d40fd27421c86d5f20d01935f687aae280fda838975adb572afdfd978ab22bfd47a40f83e44e0e1b7ea721217bc693048ec6849b_1280.jpg',\n",
       "  'imageWidth': 3398,\n",
       "  'imageHeight': 2265,\n",
       "  'imageSize': 1187229,\n",
       "  'views': 424163,\n",
       "  'downloads': 262004,\n",
       "  'collections': 693,\n",
       "  'likes': 764,\n",
       "  'comments': 197,\n",
       "  'user_id': 8934889,\n",
       "  'user': 'huoadg5888',\n",
       "  'userImageURL': ''},\n",
       " {'id': 1651945,\n",
       "  'pageURL': 'https://pixabay.com/photos/pile-animals-fairy-tale-1651945/',\n",
       "  'type': 'photo',\n",
       "  'tags': 'pile, animals, fairy tale',\n",
       "  'previewURL': 'https://cdn.pixabay.com/photo/2016/09/07/16/19/pile-1651945_150.jpg',\n",
       "  'previewWidth': 107,\n",
       "  'previewHeight': 150,\n",
       "  'webformatURL': 'https://pixabay.com/get/gbc85d63998633e8d74c673277e5fc587e40f15010c86b1abfab48bc875cd8209f47245bcfe313ae640c6a963c91ce1754521609644c8d15730a9d46fb3a6e828_640.jpg',\n",
       "  'webformatWidth': 457,\n",
       "  'webformatHeight': 640,\n",
       "  'largeImageURL': 'https://pixabay.com/get/gf14badb7c89452b976f75ab722f661cc785cd8dd03d1dca75a24d26037a330d2c625c278fae228f1deb4e5f27a9b54f927ecf2ff30cd80752047aa7f989e16c8_1280.jpg',\n",
       "  'imageWidth': 3000,\n",
       "  'imageHeight': 4200,\n",
       "  'imageSize': 2442403,\n",
       "  'views': 326174,\n",
       "  'downloads': 225542,\n",
       "  'collections': 780,\n",
       "  'likes': 858,\n",
       "  'comments': 119,\n",
       "  'user_id': 199315,\n",
       "  'user': 'Pfüderi',\n",
       "  'userImageURL': 'https://cdn.pixabay.com/user/2022/03/01/14-54-45-332_250x250.jpg'},\n",
       " {'id': 1785760,\n",
       "  'pageURL': 'https://pixabay.com/photos/rottweiler-puppy-dog-dogs-cute-1785760/',\n",
       "  'type': 'photo',\n",
       "  'tags': 'rottweiler, puppy, dog',\n",
       "  'previewURL': 'https://cdn.pixabay.com/photo/2016/10/31/14/55/rottweiler-1785760_150.jpg',\n",
       "  'previewWidth': 150,\n",
       "  'previewHeight': 99,\n",
       "  'webformatURL': 'https://pixabay.com/get/g3fc6308233afe158d22de47c99df5f3508d3655a4777cdc5a2a861166eb73be57958f499f38dcc62711127c995502ffd648017fb608f94222b32f935a124f45e_640.jpg',\n",
       "  'webformatWidth': 640,\n",
       "  'webformatHeight': 426,\n",
       "  'largeImageURL': 'https://pixabay.com/get/g6db785f3cdb31bbd2e301dbe8d847ea59843a821b45bdc1f7b7208a1f54f88623a060e8757d4b774d6ddf8fc3461e2dca0f33532fb3f6385677919a62e3f885c_1280.jpg',\n",
       "  'imageWidth': 5184,\n",
       "  'imageHeight': 3456,\n",
       "  'imageSize': 6006944,\n",
       "  'views': 391088,\n",
       "  'downloads': 263607,\n",
       "  'collections': 721,\n",
       "  'likes': 703,\n",
       "  'comments': 140,\n",
       "  'user_id': 3648659,\n",
       "  'user': 'kim_hester',\n",
       "  'userImageURL': ''},\n",
       " {'id': 1224267,\n",
       "  'pageURL': 'https://pixabay.com/photos/bulldog-dog-pet-animal-1224267/',\n",
       "  'type': 'photo',\n",
       "  'tags': 'bulldog, dog, pet',\n",
       "  'previewURL': 'https://cdn.pixabay.com/photo/2016/02/26/16/32/bulldog-1224267_150.jpg',\n",
       "  'previewWidth': 150,\n",
       "  'previewHeight': 99,\n",
       "  'webformatURL': 'https://pixabay.com/get/g5c87bea796c694934177ad2ffc62ae2e5df4d0a47f62e4276d44ed4aa268bbd5b5013562be8bffecacdaeaa15be15e18c9637feb00c4bf473ef7b3b36b3e239f_640.jpg',\n",
       "  'webformatWidth': 640,\n",
       "  'webformatHeight': 426,\n",
       "  'largeImageURL': 'https://pixabay.com/get/gf7b2484134b637edb006f67effeed443a7e7dec0d30b2e3105ae66474b6cfbce5ee1c8b2f8d29aa66678cc5d7ebe407605ee61c36229c082b39a3664c7e8e87a_1280.jpg',\n",
       "  'imageWidth': 5184,\n",
       "  'imageHeight': 3456,\n",
       "  'imageSize': 3265059,\n",
       "  'views': 291182,\n",
       "  'downloads': 166668,\n",
       "  'collections': 788,\n",
       "  'likes': 699,\n",
       "  'comments': 63,\n",
       "  'user_id': 1982503,\n",
       "  'user': 'ivanovgood',\n",
       "  'userImageURL': 'https://cdn.pixabay.com/user/2022/04/08/10-42-06-184_250x250.jpg'},\n",
       " {'id': 2425121,\n",
       "  'pageURL': 'https://pixabay.com/photos/man-woman-dog-pet-pug-owners-2425121/',\n",
       "  'type': 'photo',\n",
       "  'tags': 'man, woman, dog',\n",
       "  'previewURL': 'https://cdn.pixabay.com/photo/2017/06/20/22/14/man-2425121_150.jpg',\n",
       "  'previewWidth': 150,\n",
       "  'previewHeight': 99,\n",
       "  'webformatURL': 'https://pixabay.com/get/g6a63260e3f53bf71935f20e072e4472c7610adff84e910f0be8e7c2d054103eebf3050936b1251bf01ca03d63d3b85f34beb4c319fe983775f7994c8f1885d83_640.jpg',\n",
       "  'webformatWidth': 640,\n",
       "  'webformatHeight': 426,\n",
       "  'largeImageURL': 'https://pixabay.com/get/g216617f20637789bd0b13c91d1f8388e78a09364ed0b14977c2b1c10599adc857f87323726ad0adffc6933a36c9189edd928c3acb6a6ef89422f2aecd6e9acdb_1280.jpg',\n",
       "  'imageWidth': 4460,\n",
       "  'imageHeight': 2973,\n",
       "  'imageSize': 2293248,\n",
       "  'views': 1262411,\n",
       "  'downloads': 812777,\n",
       "  'collections': 2205,\n",
       "  'likes': 2058,\n",
       "  'comments': 310,\n",
       "  'user_id': 5688709,\n",
       "  'user': '5688709',\n",
       "  'userImageURL': ''},\n",
       " {'id': 2890925,\n",
       "  'pageURL': 'https://pixabay.com/photos/fantasy-surreal-dream-dog-2890925/',\n",
       "  'type': 'photo',\n",
       "  'tags': 'fantasy, surreal, dream',\n",
       "  'previewURL': 'https://cdn.pixabay.com/photo/2017/10/26/12/34/fantasy-2890925_150.jpg',\n",
       "  'previewWidth': 150,\n",
       "  'previewHeight': 60,\n",
       "  'webformatURL': 'https://pixabay.com/get/gf5445fef240e809eeb9085a75bcfb3d97ad5ce3d9c2d6aab68d281cca53e7512cfbb072d28313be4cbb6cdb0344ba2712e7edf9f9951d9c078915655690424ed_640.jpg',\n",
       "  'webformatWidth': 640,\n",
       "  'webformatHeight': 258,\n",
       "  'largeImageURL': 'https://pixabay.com/get/g6935b65fc5a631e708b2960fc40456802d4fc69973dc176357eae82b6644553b768ad3a610738acafc30cfc3eadbf6acd20b5c913968aedd9ad7d08b91524d1c_1280.jpg',\n",
       "  'imageWidth': 7000,\n",
       "  'imageHeight': 2830,\n",
       "  'imageSize': 3400884,\n",
       "  'views': 187096,\n",
       "  'downloads': 117034,\n",
       "  'collections': 692,\n",
       "  'likes': 970,\n",
       "  'comments': 121,\n",
       "  'user_id': 4893063,\n",
       "  'user': 'KELLEPICS',\n",
       "  'userImageURL': 'https://cdn.pixabay.com/user/2020/08/01/20-00-26-687_250x250.jpeg'},\n",
       " {'id': 1519374,\n",
       "  'pageURL': 'https://pixabay.com/photos/dachshund-puppy-pet-canine-animal-1519374/',\n",
       "  'type': 'photo',\n",
       "  'tags': 'dachshund, puppy, pet',\n",
       "  'previewURL': 'https://cdn.pixabay.com/photo/2016/07/15/15/55/dachshund-1519374_150.jpg',\n",
       "  'previewWidth': 150,\n",
       "  'previewHeight': 113,\n",
       "  'webformatURL': 'https://pixabay.com/get/g83b3fd34b0678ba1b1c701aba1264df1c59be43a1b8393bca1a6e031168e25188cc5ec2e63d999154c097e64121c0a3817bb8a775be59d1adfd6d4b407657fde_640.jpg',\n",
       "  'webformatWidth': 640,\n",
       "  'webformatHeight': 485,\n",
       "  'largeImageURL': 'https://pixabay.com/get/gbdf05e450acf4b6d372ed1d01d8df5e990d55bde05bbd6b07cb4ef031357db77217435fc28b1016de039a2a314b7eb1cd21dff9a9ec9e749efbc98f3cf84f646_1280.jpg',\n",
       "  'imageWidth': 3893,\n",
       "  'imageHeight': 2949,\n",
       "  'imageSize': 2441931,\n",
       "  'views': 357946,\n",
       "  'downloads': 238390,\n",
       "  'collections': 655,\n",
       "  'likes': 701,\n",
       "  'comments': 123,\n",
       "  'user_id': 509903,\n",
       "  'user': 'congerdesign',\n",
       "  'userImageURL': 'https://cdn.pixabay.com/user/2022/03/01/12-32-48-46_250x250.jpg'},\n",
       " {'id': 1532627,\n",
       "  'pageURL': 'https://pixabay.com/vectors/dog-cat-domestic-animal-silhouette-1532627/',\n",
       "  'type': 'vector/svg',\n",
       "  'tags': 'dog, cat, domestic animal',\n",
       "  'previewURL': 'https://cdn.pixabay.com/photo/2016/07/21/14/18/dog-1532627_150.png',\n",
       "  'previewWidth': 150,\n",
       "  'previewHeight': 92,\n",
       "  'webformatURL': 'https://pixabay.com/get/g3901f8fa0b6cab07accbc8632881fee7bc99c5ee4e2238ccdff641b9b74e0f1f49cd3f52408a53f6f69c9ac2a873de325ea578eb0e38766123465bfb285f841e_640.png',\n",
       "  'webformatWidth': 640,\n",
       "  'webformatHeight': 393,\n",
       "  'largeImageURL': 'https://pixabay.com/get/gd45b34c69a1807b72054148bea557d1c391e6a0718de2642a09b7956aafe17c674eaaab93ede5db7df1bc5ba2d903a4ee7cd07be2af2e78efe6936c0e0ea7d3b_1280.png',\n",
       "  'imageWidth': 1920,\n",
       "  'imageHeight': 1180,\n",
       "  'imageSize': 277067,\n",
       "  'views': 218327,\n",
       "  'downloads': 115044,\n",
       "  'collections': 635,\n",
       "  'likes': 644,\n",
       "  'comments': 194,\n",
       "  'user_id': 2332372,\n",
       "  'user': 'Leunert',\n",
       "  'userImageURL': 'https://cdn.pixabay.com/user/2016/04/07/12-15-49-455_250x250.jpg'},\n",
       " {'id': 838281,\n",
       "  'pageURL': 'https://pixabay.com/photos/dog-view-cute-animal-portrait-eyes-838281/',\n",
       "  'type': 'photo',\n",
       "  'tags': 'dog, view, cute',\n",
       "  'previewURL': 'https://cdn.pixabay.com/photo/2015/07/09/19/32/dog-838281_150.jpg',\n",
       "  'previewWidth': 150,\n",
       "  'previewHeight': 78,\n",
       "  'webformatURL': 'https://pixabay.com/get/g08e01f5bb6484b197d79126fa868e1bc6f6cf916f30e55d2fdf29a5d5734b34ce8c1240cd48125ca7f3f75cb753b3432_640.jpg',\n",
       "  'webformatWidth': 640,\n",
       "  'webformatHeight': 335,\n",
       "  'largeImageURL': 'https://pixabay.com/get/g3a3b400f632d1042f51ac366c3d1e959d42ea108900ff32bd01e80e058e3c1b9b6e7a63c650692f7b76937ec99f9b064d8a7842b552a2b2b5c4dc145121011fc_1280.jpg',\n",
       "  'imageWidth': 4322,\n",
       "  'imageHeight': 2265,\n",
       "  'imageSize': 1857636,\n",
       "  'views': 248195,\n",
       "  'downloads': 164397,\n",
       "  'collections': 805,\n",
       "  'likes': 607,\n",
       "  'comments': 79,\n",
       "  'user_id': 1066559,\n",
       "  'user': 'LUM3N',\n",
       "  'userImageURL': 'https://cdn.pixabay.com/user/2017/10/05/20-01-51-531_250x250.jpg'},\n",
       " {'id': 1417208,\n",
       "  'pageURL': 'https://pixabay.com/vectors/dog-animal-corgi-beagle-bolonka-1417208/',\n",
       "  'type': 'vector/ai',\n",
       "  'tags': 'dog, animal, corgi',\n",
       "  'previewURL': 'https://cdn.pixabay.com/photo/2016/05/26/13/51/dog-1417208_150.png',\n",
       "  'previewWidth': 150,\n",
       "  'previewHeight': 77,\n",
       "  'webformatURL': 'https://pixabay.com/get/g51aea2447f5e3acf53433013f5ae60b93b6a7b5f9939b22a2404bb324bfa33c3ae1f18c986d6e1330414086833bb4f67d0ddb856044a42502aa9fa443643bbbc_640.png',\n",
       "  'webformatWidth': 640,\n",
       "  'webformatHeight': 331,\n",
       "  'largeImageURL': 'https://pixabay.com/get/gc17d432deec68e550cfe764993e8747dcd0eb8eae12c7dbf81f172ec0f064a45ae54b1b088a6a817baeef9f6eccb9cc6a2a3efea4ae1b97052a5969dacff78d9_1280.png',\n",
       "  'imageWidth': 1920,\n",
       "  'imageHeight': 994,\n",
       "  'imageSize': 395683,\n",
       "  'views': 217661,\n",
       "  'downloads': 128401,\n",
       "  'collections': 954,\n",
       "  'likes': 700,\n",
       "  'comments': 128,\n",
       "  'user_id': 2641041,\n",
       "  'user': 'GraphicMama-team',\n",
       "  'userImageURL': 'https://cdn.pixabay.com/user/2016/06/01/15-27-35-456_250x250.jpg'},\n",
       " {'id': 3380548,\n",
       "  'pageURL': 'https://pixabay.com/photos/husky-dog-pet-malamute-canine-3380548/',\n",
       "  'type': 'photo',\n",
       "  'tags': 'husky, dog, pet',\n",
       "  'previewURL': 'https://cdn.pixabay.com/photo/2018/05/07/10/48/husky-3380548_150.jpg',\n",
       "  'previewWidth': 150,\n",
       "  'previewHeight': 137,\n",
       "  'webformatURL': 'https://pixabay.com/get/g783ef1507a82ff7e7159b8ce24dc0f33c7fc25a16e5f71294a61536bb6dba6051bf2d92b5005555383117a3784701479ddc373e1f03e382fe01121817cb85616_640.jpg',\n",
       "  'webformatWidth': 640,\n",
       "  'webformatHeight': 585,\n",
       "  'largeImageURL': 'https://pixabay.com/get/g61c0801b994b17c067ed64b43da2c1117a67b9baa6c0fa43790e24d445f7c7468f6937e9b598a81e5f2dc3bc3a0e28188ea66f972183710ce202da18bbc7a89e_1280.jpg',\n",
       "  'imageWidth': 5184,\n",
       "  'imageHeight': 4741,\n",
       "  'imageSize': 4021669,\n",
       "  'views': 317859,\n",
       "  'downloads': 239892,\n",
       "  'collections': 632,\n",
       "  'likes': 709,\n",
       "  'comments': 106,\n",
       "  'user_id': 2364555,\n",
       "  'user': 'pixel2013',\n",
       "  'userImageURL': 'https://cdn.pixabay.com/user/2020/07/25/21-10-11-80_250x250.jpg'},\n",
       " {'id': 2029214,\n",
       "  'pageURL': 'https://pixabay.com/photos/jack-russell-dog-pet-canine-animal-2029214/',\n",
       "  'type': 'photo',\n",
       "  'tags': 'jack russell, dog, pet',\n",
       "  'previewURL': 'https://cdn.pixabay.com/photo/2017/02/01/09/48/jack-russell-2029214_150.jpg',\n",
       "  'previewWidth': 100,\n",
       "  'previewHeight': 150,\n",
       "  'webformatURL': 'https://pixabay.com/get/gad1e2e453190a0428bc793a1ecec659bb4bd7240a4f67fd005ad0213d77933749014f02d2f47ed366e41b7a175e6f5a9cb607d100f46a44272a7d7e6c3b54ab3_640.jpg',\n",
       "  'webformatWidth': 426,\n",
       "  'webformatHeight': 640,\n",
       "  'largeImageURL': 'https://pixabay.com/get/g528609ca47f9f274f8f7a6fec8365681b9621c9b37ef1813f95162eca26792a01855c1c8cada527ce1df9e0f163ad0dacced703eaebc913fea0c4f4ba1a40694_1280.jpg',\n",
       "  'imageWidth': 3840,\n",
       "  'imageHeight': 5760,\n",
       "  'imageSize': 2909475,\n",
       "  'views': 118466,\n",
       "  'downloads': 77594,\n",
       "  'collections': 1148,\n",
       "  'likes': 227,\n",
       "  'comments': 28,\n",
       "  'user_id': 2105326,\n",
       "  'user': 'kkolosov',\n",
       "  'userImageURL': 'https://cdn.pixabay.com/user/2017/03/09/07-23-42-644_250x250.jpg'}]"
      ]
     },
     "execution_count": 103,
     "metadata": {},
     "output_type": "execute_result"
    }
   ],
   "source": [
    "res_d['hits']"
   ]
  },
  {
   "cell_type": "markdown",
   "id": "8e0af121",
   "metadata": {},
   "source": [
    "Paimame iš listo žodyną esantį 2-je pozicijoje liste(indeksas 1) ir jį atsidarysime naršyklėje:"
   ]
  },
  {
   "cell_type": "code",
   "execution_count": 104,
   "id": "6fab9955",
   "metadata": {},
   "outputs": [],
   "source": [
    "paveiksl = res_d['hits'][1]['largeImageURL']"
   ]
  },
  {
   "cell_type": "markdown",
   "id": "01144da1",
   "metadata": {},
   "source": [
    "Bibliotekos webbrowser pagalba atidarome paveikslėlį naršyklėje."
   ]
  },
  {
   "cell_type": "code",
   "execution_count": 105,
   "id": "08ae92f1",
   "metadata": {},
   "outputs": [
    {
     "data": {
      "text/plain": [
       "True"
      ]
     },
     "execution_count": 105,
     "metadata": {},
     "output_type": "execute_result"
    }
   ],
   "source": [
    "import webbrowser as wb\n",
    "\n",
    "wb.open_new_tab(paveiksl)"
   ]
  }
 ],
 "metadata": {
  "kernelspec": {
   "display_name": "Python 3 (ipykernel)",
   "language": "python",
   "name": "python3"
  },
  "language_info": {
   "codemirror_mode": {
    "name": "ipython",
    "version": 3
   },
   "file_extension": ".py",
   "mimetype": "text/x-python",
   "name": "python",
   "nbconvert_exporter": "python",
   "pygments_lexer": "ipython3",
   "version": "3.10.5"
  }
 },
 "nbformat": 4,
 "nbformat_minor": 5
}
