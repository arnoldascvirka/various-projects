{
 "cells": [
  {
   "cell_type": "code",
   "execution_count": null,
   "id": "4390144e",
   "metadata": {},
   "outputs": [],
   "source": [
    "import numpy as np\n",
    "import pandas as pd"
   ]
  },
  {
   "cell_type": "code",
   "execution_count": null,
   "id": "9935a71f",
   "metadata": {
    "scrolled": true
   },
   "outputs": [],
   "source": [
    "df_top = pd.read_csv('top50.csv', encoding='windows-1252')\n",
    "df_top.head()"
   ]
  },
  {
   "cell_type": "markdown",
   "id": "30fe7a07",
   "metadata": {},
   "source": [
    "### įvairūs naudingi atributai ir metodai"
   ]
  },
  {
   "cell_type": "code",
   "execution_count": null,
   "id": "171b27fc",
   "metadata": {},
   "outputs": [],
   "source": [
    "df_top['Genre'].unique()"
   ]
  },
  {
   "cell_type": "code",
   "execution_count": null,
   "id": "49d8efae",
   "metadata": {},
   "outputs": [],
   "source": [
    "len(df_top['Genre'].unique())"
   ]
  },
  {
   "cell_type": "code",
   "execution_count": null,
   "id": "0323c807",
   "metadata": {},
   "outputs": [],
   "source": [
    "df_top['Genre'].nunique()"
   ]
  },
  {
   "cell_type": "code",
   "execution_count": null,
   "id": "a4dc483f",
   "metadata": {},
   "outputs": [],
   "source": [
    "df_top['Genre'].value_counts()"
   ]
  },
  {
   "cell_type": "code",
   "execution_count": null,
   "id": "b6b1ed0b",
   "metadata": {},
   "outputs": [],
   "source": [
    "df_top['Artist.Name'].value_counts()"
   ]
  },
  {
   "cell_type": "code",
   "execution_count": null,
   "id": "a1e9a5ce",
   "metadata": {},
   "outputs": [],
   "source": [
    "df_top.columns"
   ]
  },
  {
   "cell_type": "code",
   "execution_count": null,
   "id": "facba9a2",
   "metadata": {
    "scrolled": true
   },
   "outputs": [],
   "source": [
    "df_top.index"
   ]
  },
  {
   "cell_type": "code",
   "execution_count": null,
   "id": "e5fcc6dc",
   "metadata": {},
   "outputs": [],
   "source": [
    "df_top.shape"
   ]
  },
  {
   "cell_type": "code",
   "execution_count": null,
   "id": "d81f4bbb",
   "metadata": {},
   "outputs": [],
   "source": [
    "df_top.sort_values('Track.Name')"
   ]
  },
  {
   "cell_type": "code",
   "execution_count": null,
   "id": "11251e15",
   "metadata": {},
   "outputs": [],
   "source": [
    "df_top.sort_values('Track.Name').head()"
   ]
  },
  {
   "cell_type": "code",
   "execution_count": null,
   "id": "dede09c5",
   "metadata": {},
   "outputs": [],
   "source": [
    "df_top.sort_values('Length.', ascending=False).head()"
   ]
  },
  {
   "cell_type": "code",
   "execution_count": null,
   "id": "130e078d",
   "metadata": {},
   "outputs": [],
   "source": [
    "df_top.info()"
   ]
  },
  {
   "cell_type": "markdown",
   "id": "e754e6a8",
   "metadata": {},
   "source": [
    "### funkcijų agregacija .agg()"
   ]
  },
  {
   "cell_type": "code",
   "execution_count": null,
   "id": "7b3277b1",
   "metadata": {
    "scrolled": false
   },
   "outputs": [],
   "source": [
    "df_top.groupby('Artist.Name').agg(['min', 'max', 'mean'])"
   ]
  },
  {
   "cell_type": "code",
   "execution_count": null,
   "id": "eb1600ea",
   "metadata": {
    "scrolled": true
   },
   "outputs": [],
   "source": [
    "df_top.head()"
   ]
  },
  {
   "cell_type": "markdown",
   "id": "93c43dad",
   "metadata": {},
   "source": [
    "### .apply() - galim pritaikyti savo funkciją kiekvienam Series elementui"
   ]
  },
  {
   "cell_type": "code",
   "execution_count": null,
   "id": "d3a6cb8e",
   "metadata": {},
   "outputs": [],
   "source": [
    "def minutes_to_seconds(s):\n",
    "    minutes = s // 60\n",
    "    seconds = s % 60\n",
    "    if len(str(seconds)) < 2:\n",
    "        return f\"{minutes}:0{seconds}\"\n",
    "    return f\"{minutes}:{seconds}\""
   ]
  },
  {
   "cell_type": "code",
   "execution_count": null,
   "id": "c91483a3",
   "metadata": {
    "scrolled": false
   },
   "outputs": [],
   "source": [
    "df_top['Length.'].apply(minutes_to_seconds).head()"
   ]
  },
  {
   "cell_type": "code",
   "execution_count": null,
   "id": "658b673c",
   "metadata": {},
   "outputs": [],
   "source": [
    "df_top['Lenght.Pretty'] = df_top['Length.'].apply(minutes_to_seconds)"
   ]
  },
  {
   "cell_type": "code",
   "execution_count": null,
   "id": "7a7ccefb",
   "metadata": {
    "scrolled": false
   },
   "outputs": [],
   "source": [
    "df_top"
   ]
  },
  {
   "cell_type": "code",
   "execution_count": null,
   "id": "dc6229d4",
   "metadata": {
    "scrolled": true
   },
   "outputs": [],
   "source": [
    "df_top['Energy_10'] = df_top['Energy'].apply(lambda x: round(x/10))"
   ]
  },
  {
   "cell_type": "code",
   "execution_count": null,
   "id": "2382db25",
   "metadata": {},
   "outputs": [],
   "source": [
    "df_top"
   ]
  },
  {
   "cell_type": "code",
   "execution_count": null,
   "id": "8e7b8dbb",
   "metadata": {
    "scrolled": true
   },
   "outputs": [],
   "source": [
    "df_top['Artist.Name'].apply(str.upper)"
   ]
  },
  {
   "cell_type": "code",
   "execution_count": null,
   "id": "9530923d",
   "metadata": {},
   "outputs": [],
   "source": []
  },
  {
   "cell_type": "markdown",
   "id": "8efe5fcb",
   "metadata": {},
   "source": [
    "### Duomenų nuskaitymas / įrašymas"
   ]
  },
  {
   "cell_type": "markdown",
   "id": "223c2670",
   "metadata": {},
   "source": [
    "### CSV"
   ]
  },
  {
   "cell_type": "code",
   "execution_count": null,
   "id": "f79bbae9",
   "metadata": {},
   "outputs": [],
   "source": [
    "df_csv = pd.read_csv('example.csv')"
   ]
  },
  {
   "cell_type": "code",
   "execution_count": null,
   "id": "f82c2686",
   "metadata": {},
   "outputs": [],
   "source": [
    "df_csv.head()"
   ]
  },
  {
   "cell_type": "code",
   "execution_count": null,
   "id": "1e3cbfe5",
   "metadata": {},
   "outputs": [],
   "source": [
    "df_csv.to_csv('result.csv', index=False)"
   ]
  },
  {
   "cell_type": "markdown",
   "id": "da7b015f",
   "metadata": {},
   "source": [
    "### XLS (Excel)"
   ]
  },
  {
   "cell_type": "code",
   "execution_count": null,
   "id": "e7346c8f",
   "metadata": {
    "scrolled": true
   },
   "outputs": [],
   "source": [
    "df_xls = pd.read_excel('example.xls', sheet_name='example')"
   ]
  },
  {
   "cell_type": "code",
   "execution_count": null,
   "id": "3c011163",
   "metadata": {
    "scrolled": false
   },
   "outputs": [],
   "source": [
    "df_xls"
   ]
  },
  {
   "cell_type": "code",
   "execution_count": null,
   "id": "47686e9f",
   "metadata": {
    "scrolled": false
   },
   "outputs": [],
   "source": [
    "df_xls.to_excel('result.xlsx', sheet_name=\"MY_Sheet1\")"
   ]
  },
  {
   "cell_type": "code",
   "execution_count": null,
   "id": "13159984",
   "metadata": {
    "scrolled": true
   },
   "outputs": [],
   "source": [
    "!pip install openpyxl"
   ]
  },
  {
   "cell_type": "markdown",
   "id": "51410879",
   "metadata": {},
   "source": [
    "### HTML"
   ]
  },
  {
   "cell_type": "code",
   "execution_count": null,
   "id": "a214b441",
   "metadata": {},
   "outputs": [],
   "source": [
    "df_html = pd.read_html('https://lt.wikipedia.org/wiki/Vilniaus_miesto_savivaldyb%C4%97')"
   ]
  },
  {
   "cell_type": "code",
   "execution_count": null,
   "id": "589e47b9",
   "metadata": {
    "scrolled": false
   },
   "outputs": [],
   "source": [
    "df_html[9].head()"
   ]
  },
  {
   "cell_type": "code",
   "execution_count": null,
   "id": "7e748d84",
   "metadata": {},
   "outputs": [],
   "source": [
    "df_duomenys = df_html[9]\n",
    "df_duomenys.head()"
   ]
  },
  {
   "cell_type": "markdown",
   "id": "e991d083",
   "metadata": {},
   "source": [
    "### SQL"
   ]
  },
  {
   "cell_type": "code",
   "execution_count": null,
   "id": "0506acf4",
   "metadata": {},
   "outputs": [],
   "source": [
    "from sqlalchemy import create_engine"
   ]
  },
  {
   "cell_type": "code",
   "execution_count": null,
   "id": "a4193057",
   "metadata": {},
   "outputs": [],
   "source": [
    "engine = create_engine('sqlite:///duomenys.db')"
   ]
  },
  {
   "cell_type": "code",
   "execution_count": null,
   "id": "a85b1dee",
   "metadata": {
    "scrolled": false
   },
   "outputs": [],
   "source": [
    "df_duomenys.to_sql('savivaldos', con=engine, index=False)"
   ]
  },
  {
   "cell_type": "code",
   "execution_count": null,
   "id": "59721654",
   "metadata": {},
   "outputs": [],
   "source": []
  },
  {
   "cell_type": "code",
   "execution_count": null,
   "id": "4f2bfc1c",
   "metadata": {},
   "outputs": [],
   "source": [
    "df_duom_is_sql = pd.read_sql('savivaldos', con=engine)"
   ]
  },
  {
   "cell_type": "code",
   "execution_count": null,
   "id": "0dc1d767",
   "metadata": {},
   "outputs": [],
   "source": [
    "df_duom_is_sql.head()"
   ]
  },
  {
   "cell_type": "code",
   "execution_count": null,
   "id": "9b7d4531",
   "metadata": {},
   "outputs": [],
   "source": [
    "data[0]['2021 m.']"
   ]
  }
 ],
 "metadata": {
  "kernelspec": {
   "display_name": "Python 3.10.5 64-bit",
   "language": "python",
   "name": "python3"
  },
  "language_info": {
   "codemirror_mode": {
    "name": "ipython",
    "version": 3
   },
   "file_extension": ".py",
   "mimetype": "text/x-python",
   "name": "python",
   "nbconvert_exporter": "python",
   "pygments_lexer": "ipython3",
   "version": "3.10.5"
  },
  "vscode": {
   "interpreter": {
    "hash": "f7c19857d307ee2037c853c4a39998a85d97cbe35b9bd36e69ee1c642cd57c9b"
   }
  }
 },
 "nbformat": 4,
 "nbformat_minor": 5
}
