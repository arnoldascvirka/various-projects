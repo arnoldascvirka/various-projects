{
 "cells": [
  {
   "cell_type": "markdown",
   "metadata": {},
   "source": [
    "# Pandas užduotys 3"
   ]
  },
  {
   "cell_type": "code",
   "execution_count": 2,
   "metadata": {},
   "outputs": [],
   "source": [
    "import numpy as np\n",
    "import pandas as pd\n"
   ]
  },
  {
   "cell_type": "markdown",
   "metadata": {},
   "source": [
    "# 1 Ištraukite lentelę iš [šios](https://work.studentnews.eu/s/3695/75547-European-countries-the-table-language-population-capital-currency-phone-code-internet-code.htm) svetainės. Išsaugokite kintamąjame."
   ]
  },
  {
   "cell_type": "code",
   "execution_count": 3,
   "metadata": {},
   "outputs": [
    {
     "data": {
      "text/html": [
       "<div>\n",
       "<style scoped>\n",
       "    .dataframe tbody tr th:only-of-type {\n",
       "        vertical-align: middle;\n",
       "    }\n",
       "\n",
       "    .dataframe tbody tr th {\n",
       "        vertical-align: top;\n",
       "    }\n",
       "\n",
       "    .dataframe thead th {\n",
       "        text-align: right;\n",
       "    }\n",
       "</style>\n",
       "<table border=\"1\" class=\"dataframe\">\n",
       "  <thead>\n",
       "    <tr style=\"text-align: right;\">\n",
       "      <th></th>\n",
       "      <th>Staat</th>\n",
       "      <th>Official languages</th>\n",
       "      <th>Population</th>\n",
       "      <th>Capital</th>\n",
       "      <th>Currency</th>\n",
       "      <th>Phone</th>\n",
       "      <th>Int.</th>\n",
       "    </tr>\n",
       "  </thead>\n",
       "  <tbody>\n",
       "    <tr>\n",
       "      <th>0</th>\n",
       "      <td>Austria</td>\n",
       "      <td>German</td>\n",
       "      <td>8.4 million</td>\n",
       "      <td>Vienna</td>\n",
       "      <td>euro (EUR)</td>\n",
       "      <td>43</td>\n",
       "      <td>.at</td>\n",
       "    </tr>\n",
       "    <tr>\n",
       "      <th>1</th>\n",
       "      <td>Belgium</td>\n",
       "      <td>Dutch (north), French (south), German</td>\n",
       "      <td>11 million</td>\n",
       "      <td>Brussels</td>\n",
       "      <td>euro (EUR)</td>\n",
       "      <td>32</td>\n",
       "      <td>.be</td>\n",
       "    </tr>\n",
       "    <tr>\n",
       "      <th>2</th>\n",
       "      <td>Bulgaria</td>\n",
       "      <td>Bulgarian</td>\n",
       "      <td>7 million</td>\n",
       "      <td>Sofia</td>\n",
       "      <td>Bulgarian lev (BGN)</td>\n",
       "      <td>359</td>\n",
       "      <td>.bg</td>\n",
       "    </tr>\n",
       "    <tr>\n",
       "      <th>3</th>\n",
       "      <td>Croatia</td>\n",
       "      <td>Croatian</td>\n",
       "      <td>4.3 million</td>\n",
       "      <td>Zagreb</td>\n",
       "      <td>Croatian kuna (HRK)</td>\n",
       "      <td>385</td>\n",
       "      <td>.hr</td>\n",
       "    </tr>\n",
       "    <tr>\n",
       "      <th>4</th>\n",
       "      <td>Cyprus</td>\n",
       "      <td>Greek, Turkish</td>\n",
       "      <td>800 000</td>\n",
       "      <td>Nicosia</td>\n",
       "      <td>euro (EUR)</td>\n",
       "      <td>357</td>\n",
       "      <td>.cy</td>\n",
       "    </tr>\n",
       "  </tbody>\n",
       "</table>\n",
       "</div>"
      ],
      "text/plain": [
       "      Staat                     Official languages   Population   Capital  \\\n",
       "0   Austria                                 German  8.4 million    Vienna   \n",
       "1   Belgium  Dutch (north), French (south), German   11 million  Brussels   \n",
       "2  Bulgaria                              Bulgarian    7 million     Sofia   \n",
       "3   Croatia                               Croatian  4.3 million    Zagreb   \n",
       "4    Cyprus                         Greek, Turkish      800 000   Nicosia   \n",
       "\n",
       "              Currency  Phone Int.  \n",
       "0           euro (EUR)     43  .at  \n",
       "1           euro (EUR)     32  .be  \n",
       "2  Bulgarian lev (BGN)    359  .bg  \n",
       "3  Croatian kuna (HRK)    385  .hr  \n",
       "4           euro (EUR)    357  .cy  "
      ]
     },
     "execution_count": 3,
     "metadata": {},
     "output_type": "execute_result"
    }
   ],
   "source": [
    "table_EC = pd.read_html('https://work.studentnews.eu/s/3695/75547-European-countries-the-table-language-population-capital-currency-phone-code-internet-code.htm')\n",
    "df = table_EC[1]\n",
    "df.head()"
   ]
  },
  {
   "cell_type": "code",
   "execution_count": 4,
   "metadata": {
    "scrolled": false
   },
   "outputs": [],
   "source": [
    "###################################################################################"
   ]
  },
  {
   "cell_type": "code",
   "execution_count": null,
   "metadata": {},
   "outputs": [],
   "source": []
  },
  {
   "cell_type": "markdown",
   "metadata": {},
   "source": [
    "# 2 šių duomenų pagrindu sukurkite CSV, Excelio failus, ir SQLite3 duomenų bazę. Patikrinkite, ar suveikė."
   ]
  },
  {
   "cell_type": "code",
   "execution_count": 5,
   "metadata": {},
   "outputs": [
    {
     "data": {
      "text/html": [
       "<div>\n",
       "<style scoped>\n",
       "    .dataframe tbody tr th:only-of-type {\n",
       "        vertical-align: middle;\n",
       "    }\n",
       "\n",
       "    .dataframe tbody tr th {\n",
       "        vertical-align: top;\n",
       "    }\n",
       "\n",
       "    .dataframe thead th {\n",
       "        text-align: right;\n",
       "    }\n",
       "</style>\n",
       "<table border=\"1\" class=\"dataframe\">\n",
       "  <thead>\n",
       "    <tr style=\"text-align: right;\">\n",
       "      <th></th>\n",
       "      <th>Staat</th>\n",
       "      <th>Official languages</th>\n",
       "      <th>Population</th>\n",
       "      <th>Capital</th>\n",
       "      <th>Currency</th>\n",
       "      <th>Phone</th>\n",
       "      <th>Int.</th>\n",
       "    </tr>\n",
       "  </thead>\n",
       "  <tbody>\n",
       "    <tr>\n",
       "      <th>0</th>\n",
       "      <td>Austria</td>\n",
       "      <td>German</td>\n",
       "      <td>8.4 million</td>\n",
       "      <td>Vienna</td>\n",
       "      <td>euro (EUR)</td>\n",
       "      <td>43</td>\n",
       "      <td>.at</td>\n",
       "    </tr>\n",
       "    <tr>\n",
       "      <th>1</th>\n",
       "      <td>Belgium</td>\n",
       "      <td>Dutch (north), French (south), German</td>\n",
       "      <td>11 million</td>\n",
       "      <td>Brussels</td>\n",
       "      <td>euro (EUR)</td>\n",
       "      <td>32</td>\n",
       "      <td>.be</td>\n",
       "    </tr>\n",
       "    <tr>\n",
       "      <th>2</th>\n",
       "      <td>Bulgaria</td>\n",
       "      <td>Bulgarian</td>\n",
       "      <td>7 million</td>\n",
       "      <td>Sofia</td>\n",
       "      <td>Bulgarian lev (BGN)</td>\n",
       "      <td>359</td>\n",
       "      <td>.bg</td>\n",
       "    </tr>\n",
       "    <tr>\n",
       "      <th>3</th>\n",
       "      <td>Croatia</td>\n",
       "      <td>Croatian</td>\n",
       "      <td>4.3 million</td>\n",
       "      <td>Zagreb</td>\n",
       "      <td>Croatian kuna (HRK)</td>\n",
       "      <td>385</td>\n",
       "      <td>.hr</td>\n",
       "    </tr>\n",
       "    <tr>\n",
       "      <th>4</th>\n",
       "      <td>Cyprus</td>\n",
       "      <td>Greek, Turkish</td>\n",
       "      <td>800 000</td>\n",
       "      <td>Nicosia</td>\n",
       "      <td>euro (EUR)</td>\n",
       "      <td>357</td>\n",
       "      <td>.cy</td>\n",
       "    </tr>\n",
       "  </tbody>\n",
       "</table>\n",
       "</div>"
      ],
      "text/plain": [
       "      Staat                     Official languages   Population   Capital  \\\n",
       "0   Austria                                 German  8.4 million    Vienna   \n",
       "1   Belgium  Dutch (north), French (south), German   11 million  Brussels   \n",
       "2  Bulgaria                              Bulgarian    7 million     Sofia   \n",
       "3   Croatia                               Croatian  4.3 million    Zagreb   \n",
       "4    Cyprus                         Greek, Turkish      800 000   Nicosia   \n",
       "\n",
       "              Currency  Phone Int.  \n",
       "0           euro (EUR)     43  .at  \n",
       "1           euro (EUR)     32  .be  \n",
       "2  Bulgarian lev (BGN)    359  .bg  \n",
       "3  Croatian kuna (HRK)    385  .hr  \n",
       "4           euro (EUR)    357  .cy  "
      ]
     },
     "execution_count": 5,
     "metadata": {},
     "output_type": "execute_result"
    }
   ],
   "source": [
    "df.to_csv('dataset.csv')\n",
    "df.to_excel('dataset.xlsx')\n",
    "\n",
    "from sqlalchemy import create_engine\n",
    "engine = create_engine('sqlite:///dataset.db')\n",
    "df.to_sql('Table', con=engine, index=False)\n",
    "df_from = pd.read_sql('Table', con=engine)\n",
    "df_from.head()"
   ]
  },
  {
   "cell_type": "markdown",
   "metadata": {},
   "source": [
    "# 3 Nuskaitykite į DF failą \"top_20_CA_wildfires.csv\""
   ]
  },
  {
   "cell_type": "code",
   "execution_count": 23,
   "metadata": {},
   "outputs": [
    {
     "data": {
      "text/html": [
       "<div>\n",
       "<style scoped>\n",
       "    .dataframe tbody tr th:only-of-type {\n",
       "        vertical-align: middle;\n",
       "    }\n",
       "\n",
       "    .dataframe tbody tr th {\n",
       "        vertical-align: top;\n",
       "    }\n",
       "\n",
       "    .dataframe thead th {\n",
       "        text-align: right;\n",
       "    }\n",
       "</style>\n",
       "<table border=\"1\" class=\"dataframe\">\n",
       "  <thead>\n",
       "    <tr style=\"text-align: right;\">\n",
       "      <th></th>\n",
       "      <th>fire_name</th>\n",
       "      <th>cause</th>\n",
       "      <th>month</th>\n",
       "      <th>year</th>\n",
       "      <th>county</th>\n",
       "      <th>acres</th>\n",
       "      <th>structures</th>\n",
       "      <th>deaths</th>\n",
       "    </tr>\n",
       "  </thead>\n",
       "  <tbody>\n",
       "    <tr>\n",
       "      <th>0</th>\n",
       "      <td>Mendocino Complex</td>\n",
       "      <td>Under Investigation</td>\n",
       "      <td>July</td>\n",
       "      <td>2018</td>\n",
       "      <td>Colusa County, Lake County, Mendocino County &amp;...</td>\n",
       "      <td>459123</td>\n",
       "      <td>280</td>\n",
       "      <td>1</td>\n",
       "    </tr>\n",
       "    <tr>\n",
       "      <th>1</th>\n",
       "      <td>Thomas</td>\n",
       "      <td>Powerlines</td>\n",
       "      <td>December</td>\n",
       "      <td>2017</td>\n",
       "      <td>Ventura &amp; Santa Barbara</td>\n",
       "      <td>281893</td>\n",
       "      <td>1063</td>\n",
       "      <td>2</td>\n",
       "    </tr>\n",
       "    <tr>\n",
       "      <th>2</th>\n",
       "      <td>Cedar</td>\n",
       "      <td>Human Related</td>\n",
       "      <td>October</td>\n",
       "      <td>2003</td>\n",
       "      <td>San Diego</td>\n",
       "      <td>273246</td>\n",
       "      <td>2820</td>\n",
       "      <td>15</td>\n",
       "    </tr>\n",
       "    <tr>\n",
       "      <th>3</th>\n",
       "      <td>Rush</td>\n",
       "      <td>Lightning</td>\n",
       "      <td>August</td>\n",
       "      <td>2012</td>\n",
       "      <td>Lassen</td>\n",
       "      <td>271911</td>\n",
       "      <td>0</td>\n",
       "      <td>0</td>\n",
       "    </tr>\n",
       "    <tr>\n",
       "      <th>4</th>\n",
       "      <td>Rim</td>\n",
       "      <td>Human Related</td>\n",
       "      <td>August</td>\n",
       "      <td>2013</td>\n",
       "      <td>Tuolumne</td>\n",
       "      <td>257314</td>\n",
       "      <td>112</td>\n",
       "      <td>0</td>\n",
       "    </tr>\n",
       "  </tbody>\n",
       "</table>\n",
       "</div>"
      ],
      "text/plain": [
       "           fire_name                cause     month  year  \\\n",
       "0  Mendocino Complex  Under Investigation      July  2018   \n",
       "1             Thomas           Powerlines  December  2017   \n",
       "2              Cedar        Human Related   October  2003   \n",
       "3               Rush            Lightning    August  2012   \n",
       "4                Rim        Human Related    August  2013   \n",
       "\n",
       "                                              county   acres  structures  \\\n",
       "0  Colusa County, Lake County, Mendocino County &...  459123         280   \n",
       "1                            Ventura & Santa Barbara  281893        1063   \n",
       "2                                          San Diego  273246        2820   \n",
       "3                                             Lassen  271911           0   \n",
       "4                                           Tuolumne  257314         112   \n",
       "\n",
       "   deaths  \n",
       "0       1  \n",
       "1       2  \n",
       "2      15  \n",
       "3       0  \n",
       "4       0  "
      ]
     },
     "execution_count": 23,
     "metadata": {},
     "output_type": "execute_result"
    }
   ],
   "source": [
    "df_csv = pd.read_csv('top_20_CA_wildfires.csv')\n",
    "df_csv.head()"
   ]
  },
  {
   "cell_type": "code",
   "execution_count": 24,
   "metadata": {},
   "outputs": [],
   "source": [
    "###################################################################################"
   ]
  },
  {
   "cell_type": "markdown",
   "metadata": {},
   "source": [
    "# 4 Kiek unikalių reikšmių yra stulpelyje 'cause'?"
   ]
  },
  {
   "cell_type": "code",
   "execution_count": 36,
   "metadata": {},
   "outputs": [
    {
     "data": {
      "text/plain": [
       "array(['Under Investigation', 'Powerlines', 'Human Related', 'Lightning',\n",
       "       'Undetermined'], dtype=object)"
      ]
     },
     "execution_count": 36,
     "metadata": {},
     "output_type": "execute_result"
    }
   ],
   "source": [
    "df_csv = pd.read_csv('top_20_CA_wildfires.csv')\n",
    "df_csv.cause.unique()"
   ]
  },
  {
   "cell_type": "code",
   "execution_count": 37,
   "metadata": {},
   "outputs": [],
   "source": [
    "###################################################################################"
   ]
  },
  {
   "cell_type": "markdown",
   "metadata": {},
   "source": [
    "# 5 Kokios gaisrų priežastys, kiek kartų pasitaiko lentelėje?"
   ]
  },
  {
   "cell_type": "code",
   "execution_count": 44,
   "metadata": {},
   "outputs": [
    {
     "data": {
      "text/plain": [
       "Human Related          7\n",
       "Lightning              7\n",
       "Powerlines             4\n",
       "Under Investigation    1\n",
       "Undetermined           1\n",
       "Name: cause, dtype: int64"
      ]
     },
     "execution_count": 44,
     "metadata": {},
     "output_type": "execute_result"
    }
   ],
   "source": [
    "df_csv.cause.value_counts()"
   ]
  },
  {
   "cell_type": "code",
   "execution_count": 45,
   "metadata": {
    "scrolled": true
   },
   "outputs": [],
   "source": [
    "###################################################################################"
   ]
  },
  {
   "cell_type": "markdown",
   "metadata": {},
   "source": [
    "# 6 Kuriais metais buvo daugiausia gaisrų?"
   ]
  },
  {
   "cell_type": "code",
   "execution_count": 51,
   "metadata": {},
   "outputs": [
    {
     "data": {
      "text/plain": [
       "2018"
      ]
     },
     "execution_count": 51,
     "metadata": {},
     "output_type": "execute_result"
    }
   ],
   "source": [
    "df_csv.year.max()"
   ]
  },
  {
   "cell_type": "code",
   "execution_count": 52,
   "metadata": {},
   "outputs": [],
   "source": [
    "###################################################################################"
   ]
  },
  {
   "cell_type": "markdown",
   "metadata": {},
   "source": [
    "# 7 Kiek buvo tokių gaisrų, kuriuose žuvo žmonės?"
   ]
  },
  {
   "cell_type": "code",
   "execution_count": 58,
   "metadata": {},
   "outputs": [
    {
     "data": {
      "text/plain": [
       "10"
      ]
     },
     "execution_count": 58,
     "metadata": {},
     "output_type": "execute_result"
    }
   ],
   "source": [
    "df_csv.deaths[df_csv.deaths > 0].count() "
   ]
  },
  {
   "cell_type": "code",
   "execution_count": 59,
   "metadata": {
    "scrolled": true
   },
   "outputs": [],
   "source": [
    "###################################################################################"
   ]
  },
  {
   "cell_type": "markdown",
   "metadata": {},
   "source": [
    "# 8 Surūšiuokite eilutes pagal metus. Išsiaiškinkite, kaip rūšiuoti, kad naujausi gaisrai būtų viršuje"
   ]
  },
  {
   "cell_type": "code",
   "execution_count": 72,
   "metadata": {},
   "outputs": [
    {
     "data": {
      "text/plain": [
       "0     2018\n",
       "15    2018\n",
       "6     2018\n",
       "1     2017\n",
       "16    2015\n",
       "4     2013\n",
       "3     2012\n",
       "14    2009\n",
       "9     2008\n",
       "12    2008\n",
       "5     2007\n",
       "8     2007\n",
       "13    2006\n",
       "2     2003\n",
       "17    2002\n",
       "19    1999\n",
       "18    1987\n",
       "10    1977\n",
       "11    1970\n",
       "7     1932\n",
       "Name: year, dtype: int64"
      ]
     },
     "execution_count": 72,
     "metadata": {},
     "output_type": "execute_result"
    }
   ],
   "source": [
    "df_csv.year.sort_values(ascending=False)"
   ]
  },
  {
   "cell_type": "code",
   "execution_count": 73,
   "metadata": {
    "scrolled": true
   },
   "outputs": [],
   "source": [
    "###################################################################################"
   ]
  },
  {
   "cell_type": "markdown",
   "metadata": {},
   "source": [
    "# 9 Parašykite funkciją, kuri mėnesio pavadinimą verstų skaičiumi. Naudodami .apply() lentelėje pakeiskite mėnesių pavadinimus skaičiais. \n",
    "*nusikopijuokite žodyną, kad nereikėtų rašyti ranka :)*"
   ]
  },
  {
   "cell_type": "code",
   "execution_count": 81,
   "metadata": {},
   "outputs": [],
   "source": [
    "data  = {1: 'January',\n",
    "  2: 'February',\n",
    "  3: 'March',\n",
    "  4: 'April',\n",
    "  5: 'May',\n",
    "  6: 'June',\n",
    "  7: 'July',\n",
    "  8: 'August',\n",
    "  9: 'September',\n",
    "  10: 'October',\n",
    "  11: 'November',\n",
    "  12: 'December'}"
   ]
  },
  {
   "cell_type": "code",
   "execution_count": 82,
   "metadata": {},
   "outputs": [],
   "source": []
  },
  {
   "cell_type": "code",
   "execution_count": 84,
   "metadata": {},
   "outputs": [
    {
     "ename": "AttributeError",
     "evalue": "'dict' object has no attribute 'unique'",
     "output_type": "error",
     "traceback": [
      "\u001b[1;31m---------------------------------------------------------------------------\u001b[0m",
      "\u001b[1;31mAttributeError\u001b[0m                            Traceback (most recent call last)",
      "\u001b[1;32md:\\PProjects\\Python\\Diena_35\\Pandas_uzduotys3.ipynb Cell 30\u001b[0m in \u001b[0;36m<cell line: 1>\u001b[1;34m()\u001b[0m\n\u001b[1;32m----> <a href='vscode-notebook-cell:/d%3A/PProjects/Python/Diena_35/Pandas_uzduotys3.ipynb#X41sZmlsZQ%3D%3D?line=0'>1</a>\u001b[0m data\u001b[39m.\u001b[39;49munique()\n\u001b[0;32m      <a href='vscode-notebook-cell:/d%3A/PProjects/Python/Diena_35/Pandas_uzduotys3.ipynb#X41sZmlsZQ%3D%3D?line=1'>2</a>\u001b[0m data\u001b[39m.\u001b[39msort()\n",
      "\u001b[1;31mAttributeError\u001b[0m: 'dict' object has no attribute 'unique'"
     ]
    }
   ],
   "source": []
  },
  {
   "cell_type": "code",
   "execution_count": null,
   "metadata": {
    "scrolled": true
   },
   "outputs": [
    {
     "ename": "NameError",
     "evalue": "name 'fires' is not defined",
     "output_type": "error",
     "traceback": [
      "\u001b[1;31m---------------------------------------------------------------------------\u001b[0m",
      "\u001b[1;31mNameError\u001b[0m                                 Traceback (most recent call last)",
      "\u001b[1;32md:\\PProjects\\Python\\Diena_35\\Pandas_uzduotys3.ipynb Cell 31\u001b[0m in \u001b[0;36m<cell line: 1>\u001b[1;34m()\u001b[0m\n\u001b[1;32m----> <a href='vscode-notebook-cell:/d%3A/PProjects/Python/Diena_35/Pandas_uzduotys3.ipynb#X42sZmlsZQ%3D%3D?line=0'>1</a>\u001b[0m fires\u001b[39m.\u001b[39mhead()\n",
      "\u001b[1;31mNameError\u001b[0m: name 'fires' is not defined"
     ]
    }
   ],
   "source": [
    "fires.head()"
   ]
  },
  {
   "cell_type": "markdown",
   "metadata": {},
   "source": [
    "# 10 Nuskaitykite lentelę iš [čia](https://lt.wikipedia.org/wiki/S%C4%85ra%C5%A1as:Lietuvos_miestai_pagal_gyventojus). "
   ]
  },
  {
   "cell_type": "markdown",
   "metadata": {},
   "source": [
    "* **Pakeiskite indeksą į stulpelį 'Miestas'**\n",
    "* **Sutvarkykite duomenis taip, kad gyventojų sk. reprezentuotų lengelis su 'int' reikšme: -\n",
    "Ten kur trūksta duomenų - nulis. \n",
    "ten, kur reikšmės ne integer, sutvarkykite, kad būtų integer.** "
   ]
  },
  {
   "cell_type": "code",
   "execution_count": null,
   "metadata": {},
   "outputs": [],
   "source": []
  },
  {
   "cell_type": "code",
   "execution_count": null,
   "metadata": {},
   "outputs": [],
   "source": []
  },
  {
   "cell_type": "code",
   "execution_count": null,
   "metadata": {},
   "outputs": [],
   "source": [
    "#pabaigoje, miestai.info() turėtų rodyti tokį rezultatą "
   ]
  }
 ],
 "metadata": {
  "kernelspec": {
   "display_name": "Python 3.10.5 64-bit",
   "language": "python",
   "name": "python3"
  },
  "language_info": {
   "codemirror_mode": {
    "name": "ipython",
    "version": 3
   },
   "file_extension": ".py",
   "mimetype": "text/x-python",
   "name": "python",
   "nbconvert_exporter": "python",
   "pygments_lexer": "ipython3",
   "version": "3.10.5"
  },
  "vscode": {
   "interpreter": {
    "hash": "f7c19857d307ee2037c853c4a39998a85d97cbe35b9bd36e69ee1c642cd57c9b"
   }
  }
 },
 "nbformat": 4,
 "nbformat_minor": 2
}
