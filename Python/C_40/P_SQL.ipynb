{
 "cells": [
  {
   "cell_type": "code",
   "execution_count": 34,
   "metadata": {},
   "outputs": [],
   "source": [
    "import sqlite3 "
   ]
  },
  {
   "cell_type": "code",
   "execution_count": 35,
   "metadata": {},
   "outputs": [],
   "source": [
    "conn = sqlite3.connect('zmones.db')\n",
    "c = conn.cursor()"
   ]
  },
  {
   "cell_type": "code",
   "execution_count": 36,
   "metadata": {},
   "outputs": [],
   "source": [
    "query = \"\"\"\n",
    "CREATE TABLE draugai(\n",
    "    f_name VARCHAR(50),\n",
    "    l_name VARCHAR(50),\n",
    "    email VARCHAR(100),\n",
    ");\n",
    "\"\"\""
   ]
  },
  {
   "cell_type": "code",
   "execution_count": 37,
   "metadata": {},
   "outputs": [
    {
     "ename": "OperationalError",
     "evalue": "table draugai already exists",
     "output_type": "error",
     "traceback": [
      "\u001b[1;31m---------------------------------------------------------------------------\u001b[0m",
      "\u001b[1;31mOperationalError\u001b[0m                          Traceback (most recent call last)",
      "\u001b[1;32md:\\PProjects\\Python\\C_40\\P_SQL.ipynb Cell 4\u001b[0m in \u001b[0;36m<cell line: 1>\u001b[1;34m()\u001b[0m\n\u001b[1;32m----> <a href='vscode-notebook-cell:/d%3A/PProjects/Python/C_40/P_SQL.ipynb#W3sZmlsZQ%3D%3D?line=0'>1</a>\u001b[0m c\u001b[39m.\u001b[39;49mexecute(query)\n",
      "\u001b[1;31mOperationalError\u001b[0m: table draugai already exists"
     ]
    }
   ],
   "source": [
    "c.execute(query)"
   ]
  },
  {
   "cell_type": "code",
   "execution_count": 38,
   "metadata": {},
   "outputs": [],
   "source": [
    "conn.commit()\n",
    "conn.close()"
   ]
  },
  {
   "cell_type": "code",
   "execution_count": 53,
   "metadata": {},
   "outputs": [],
   "source": [
    "conn = sqlite3.connect('zmones.db')\n",
    "c = conn.cursor()"
   ]
  },
  {
   "cell_type": "code",
   "execution_count": 54,
   "metadata": {},
   "outputs": [],
   "source": [
    "with conn:\n",
    "    c.execute(\"INSERT INTO draugai VALUES ('Domantas', 'Rutkauskas', 'dr@imone.lt')\")\n",
    "    c.execute(\"INSERT INTO draugai VALUES ('Rimas', 'Radzevičius', 'rr@imone.lt')\")"
   ]
  },
  {
   "cell_type": "code",
   "execution_count": 58,
   "metadata": {},
   "outputs": [],
   "source": [
    "with conn:\n",
    "    c.execute(\"SELECT * FROM draugai\")\n",
    "    res = c.fetchall()"
   ]
  },
  {
   "cell_type": "code",
   "execution_count": 62,
   "metadata": {},
   "outputs": [
    {
     "name": "stdout",
     "output_type": "stream",
     "text": [
      "[('Domantas', 'Rutkauskas', 'dr@imone.lt'), ('Domantas', 'Rutkauskas', 'dr@imone.lt'), ('Domantas', 'Rutkauskas', 'dr@imone.lt')]\n"
     ]
    }
   ],
   "source": [
    "print(res)"
   ]
  },
  {
   "cell_type": "code",
   "execution_count": 69,
   "metadata": {},
   "outputs": [],
   "source": [
    "with conn:\n",
    "    c.execute(\"SELECT * FROM draugai WHERE l_name='Rutkauskas'\")\n",
    "    res = c.fetchall()"
   ]
  },
  {
   "cell_type": "code",
   "execution_count": 70,
   "metadata": {},
   "outputs": [
    {
     "name": "stdout",
     "output_type": "stream",
     "text": [
      "[('Domantas', 'Rutkauskas', 'dr@imone.lt'), ('Domantas', 'Rutkauskas', 'dr@imone.lt'), ('Domantas', 'Rutkauskas', 'dr@imone.lt')]\n"
     ]
    }
   ],
   "source": [
    "print(res)"
   ]
  },
  {
   "cell_type": "code",
   "execution_count": 71,
   "metadata": {},
   "outputs": [],
   "source": [
    "with conn:\n",
    "    c.execute(\"SELECT * FROM draugai WHERE l_name LIKE 'R%'\")\n",
    "    res = c.fetchall()"
   ]
  },
  {
   "cell_type": "code",
   "execution_count": 72,
   "metadata": {},
   "outputs": [
    {
     "name": "stdout",
     "output_type": "stream",
     "text": [
      "[('Domantas', 'Rutkauskas', 'dr@imone.lt'), ('Rimas', 'Radzevičius', 'rr@imone.lt'), ('Domantas', 'Rutkauskas', 'dr@imone.lt'), ('Rimas', 'Radzevičius', 'rr@imone.lt'), ('Domantas', 'Rutkauskas', 'dr@imone.lt'), ('Rimas', 'Radzevičius', 'rr@imone.lt')]\n"
     ]
    }
   ],
   "source": [
    "print(res)"
   ]
  },
  {
   "cell_type": "code",
   "execution_count": 73,
   "metadata": {},
   "outputs": [],
   "source": [
    "with conn:\n",
    "    c.execute(\"SELECT * FROM draugai WHERE l_name LIKE 'R%'\")\n",
    "    res = c.fetchone()"
   ]
  },
  {
   "cell_type": "code",
   "execution_count": 74,
   "metadata": {},
   "outputs": [
    {
     "name": "stdout",
     "output_type": "stream",
     "text": [
      "('Domantas', 'Rutkauskas', 'dr@imone.lt')\n"
     ]
    }
   ],
   "source": [
    "print(res)"
   ]
  }
 ],
 "metadata": {
  "kernelspec": {
   "display_name": "Python 3.10.5 64-bit",
   "language": "python",
   "name": "python3"
  },
  "language_info": {
   "codemirror_mode": {
    "name": "ipython",
    "version": 3
   },
   "file_extension": ".py",
   "mimetype": "text/x-python",
   "name": "python",
   "nbconvert_exporter": "python",
   "pygments_lexer": "ipython3",
   "version": "3.10.5"
  },
  "orig_nbformat": 4,
  "vscode": {
   "interpreter": {
    "hash": "f7c19857d307ee2037c853c4a39998a85d97cbe35b9bd36e69ee1c642cd57c9b"
   }
  }
 },
 "nbformat": 4,
 "nbformat_minor": 2
}
