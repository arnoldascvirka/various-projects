{
 "cells": [
  {
   "cell_type": "code",
   "execution_count": 14,
   "id": "afc63834",
   "metadata": {
    "scrolled": false
   },
   "outputs": [],
   "source": [
    "import numpy as np"
   ]
  },
  {
   "cell_type": "code",
   "execution_count": 15,
   "id": "a43a17a6",
   "metadata": {},
   "outputs": [],
   "source": [
    "listas = [1, 2, 3, 4, 5]"
   ]
  },
  {
   "cell_type": "code",
   "execution_count": 16,
   "id": "cded14e2",
   "metadata": {},
   "outputs": [],
   "source": [
    "arr = np.array(listas)"
   ]
  },
  {
   "cell_type": "code",
   "execution_count": 17,
   "id": "5f0b1092",
   "metadata": {},
   "outputs": [
    {
     "data": {
      "text/plain": [
       "array([1, 2, 3, 4, 5])"
      ]
     },
     "execution_count": 17,
     "metadata": {},
     "output_type": "execute_result"
    }
   ],
   "source": [
    "arr"
   ]
  },
  {
   "cell_type": "code",
   "execution_count": 20,
   "id": "dee54a87",
   "metadata": {},
   "outputs": [],
   "source": [
    "listas = [[1, 2, 3], [4, 5, 6], [7, 9, 11]]"
   ]
  },
  {
   "cell_type": "code",
   "execution_count": 21,
   "id": "9ee7170e",
   "metadata": {},
   "outputs": [],
   "source": [
    "matrica = np.array(listas)"
   ]
  },
  {
   "cell_type": "code",
   "execution_count": 22,
   "id": "ee14a13c",
   "metadata": {},
   "outputs": [
    {
     "data": {
      "text/plain": [
       "array([[ 1,  2,  3],\n",
       "       [ 4,  5,  6],\n",
       "       [ 7,  9, 11]])"
      ]
     },
     "execution_count": 22,
     "metadata": {},
     "output_type": "execute_result"
    }
   ],
   "source": [
    "matrica"
   ]
  },
  {
   "cell_type": "code",
   "execution_count": 23,
   "id": "ca322391",
   "metadata": {},
   "outputs": [
    {
     "data": {
      "text/plain": [
       "array([[ 15,  30,  45],\n",
       "       [ 60,  75,  90],\n",
       "       [105, 135, 165]])"
      ]
     },
     "execution_count": 23,
     "metadata": {},
     "output_type": "execute_result"
    }
   ],
   "source": [
    "matrica * 15"
   ]
  },
  {
   "cell_type": "code",
   "execution_count": 24,
   "id": "55ca0ccf",
   "metadata": {
    "scrolled": true
   },
   "outputs": [
    {
     "data": {
      "text/plain": [
       "array([[11, 12, 13],\n",
       "       [14, 15, 16],\n",
       "       [17, 19, 21]])"
      ]
     },
     "execution_count": 24,
     "metadata": {},
     "output_type": "execute_result"
    }
   ],
   "source": [
    "matrica + 10"
   ]
  },
  {
   "cell_type": "code",
   "execution_count": 26,
   "id": "6878b105",
   "metadata": {},
   "outputs": [
    {
     "data": {
      "text/plain": [
       "array([[ 1,  2,  3],\n",
       "       [ 4,  5,  6],\n",
       "       [ 7,  9, 11]])"
      ]
     },
     "execution_count": 26,
     "metadata": {},
     "output_type": "execute_result"
    }
   ],
   "source": [
    "matrica"
   ]
  },
  {
   "cell_type": "code",
   "execution_count": 25,
   "id": "62e3b826",
   "metadata": {},
   "outputs": [
    {
     "data": {
      "text/plain": [
       "array([[False, False, False],\n",
       "       [False, False, False],\n",
       "       [False, False,  True]])"
      ]
     },
     "execution_count": 25,
     "metadata": {},
     "output_type": "execute_result"
    }
   ],
   "source": [
    "matrica > 10"
   ]
  },
  {
   "cell_type": "code",
   "execution_count": 28,
   "id": "af748220",
   "metadata": {},
   "outputs": [
    {
     "data": {
      "text/plain": [
       "array([ 9, 11])"
      ]
     },
     "execution_count": 28,
     "metadata": {},
     "output_type": "execute_result"
    }
   ],
   "source": [
    "matrica[matrica > 7]"
   ]
  },
  {
   "cell_type": "code",
   "execution_count": 48,
   "id": "01abaf73",
   "metadata": {},
   "outputs": [
    {
     "data": {
      "text/plain": [
       "array([ 0,  4,  8, 12, 16, 20, 24, 28])"
      ]
     },
     "execution_count": 48,
     "metadata": {},
     "output_type": "execute_result"
    }
   ],
   "source": [
    "arr = np.arange(0,30,4)\n",
    "arr"
   ]
  },
  {
   "cell_type": "code",
   "execution_count": 37,
   "id": "33b3fc1b",
   "metadata": {},
   "outputs": [
    {
     "data": {
      "text/plain": [
       "numpy.int32"
      ]
     },
     "execution_count": 37,
     "metadata": {},
     "output_type": "execute_result"
    }
   ],
   "source": [
    "type(arr[1])"
   ]
  },
  {
   "cell_type": "code",
   "execution_count": 38,
   "id": "a6235bb5",
   "metadata": {},
   "outputs": [],
   "source": [
    "zeros = np.zeros(11)"
   ]
  },
  {
   "cell_type": "code",
   "execution_count": 41,
   "id": "ff6dddb5",
   "metadata": {},
   "outputs": [
    {
     "data": {
      "text/plain": [
       "array([0., 0., 0., 0., 0., 0., 0., 0., 0., 0., 0.])"
      ]
     },
     "execution_count": 41,
     "metadata": {},
     "output_type": "execute_result"
    }
   ],
   "source": [
    "zeros"
   ]
  },
  {
   "cell_type": "code",
   "execution_count": 43,
   "id": "31207cc4",
   "metadata": {},
   "outputs": [
    {
     "data": {
      "text/plain": [
       "array([[0., 0., 0., 0.],\n",
       "       [0., 0., 0., 0.],\n",
       "       [0., 0., 0., 0.],\n",
       "       [0., 0., 0., 0.],\n",
       "       [0., 0., 0., 0.]])"
      ]
     },
     "execution_count": 43,
     "metadata": {},
     "output_type": "execute_result"
    }
   ],
   "source": [
    "zeros_m = np.zeros((5,4))\n",
    "zeros_m"
   ]
  },
  {
   "cell_type": "code",
   "execution_count": 45,
   "id": "e4c103e8",
   "metadata": {},
   "outputs": [
    {
     "data": {
      "text/plain": [
       "array([[1., 1., 1., 1., 1., 1., 1., 1.],\n",
       "       [1., 1., 1., 1., 1., 1., 1., 1.],\n",
       "       [1., 1., 1., 1., 1., 1., 1., 1.],\n",
       "       [1., 1., 1., 1., 1., 1., 1., 1.]])"
      ]
     },
     "execution_count": 45,
     "metadata": {},
     "output_type": "execute_result"
    }
   ],
   "source": [
    "ones = np.ones((4,8))\n",
    "ones"
   ]
  },
  {
   "cell_type": "code",
   "execution_count": 57,
   "id": "a651bddf",
   "metadata": {},
   "outputs": [
    {
     "data": {
      "text/plain": [
       "array([ 0.,  1.,  2.,  3.,  4.,  5.,  6.,  7.,  8.,  9., 10., 11., 12.,\n",
       "       13., 14., 15., 16., 17., 18., 19., 20., 21., 22., 23., 24., 25.,\n",
       "       26., 27., 28., 29., 30., 31., 32., 33., 34., 35., 36., 37., 38.,\n",
       "       39., 40., 41., 42., 43., 44., 45., 46., 47., 48., 49.])"
      ]
     },
     "execution_count": 57,
     "metadata": {},
     "output_type": "execute_result"
    }
   ],
   "source": [
    "interval = np.linspace(0, 49, 50)\n",
    "interval"
   ]
  },
  {
   "cell_type": "code",
   "execution_count": 59,
   "id": "86f40063",
   "metadata": {},
   "outputs": [
    {
     "data": {
      "text/plain": [
       "array([[1., 0., 0., 0., 0., 0.],\n",
       "       [0., 1., 0., 0., 0., 0.],\n",
       "       [0., 0., 1., 0., 0., 0.],\n",
       "       [0., 0., 0., 1., 0., 0.],\n",
       "       [0., 0., 0., 0., 1., 0.],\n",
       "       [0., 0., 0., 0., 0., 1.]])"
      ]
     },
     "execution_count": 59,
     "metadata": {},
     "output_type": "execute_result"
    }
   ],
   "source": [
    "istriz = np.eye(6)\n",
    "istriz"
   ]
  },
  {
   "cell_type": "code",
   "execution_count": 63,
   "id": "01f6c2bf",
   "metadata": {},
   "outputs": [
    {
     "data": {
      "text/plain": [
       "array([[0., 0., 0., 0., 0., 0.],\n",
       "       [0., 0., 0., 0., 0., 0.],\n",
       "       [0., 0., 0., 0., 0., 0.],\n",
       "       [1., 0., 0., 0., 0., 0.],\n",
       "       [0., 1., 0., 0., 0., 0.],\n",
       "       [0., 0., 1., 0., 0., 0.]])"
      ]
     },
     "execution_count": 63,
     "metadata": {},
     "output_type": "execute_result"
    }
   ],
   "source": [
    "istriz = np.eye(6, k=-3)\n",
    "istriz"
   ]
  },
  {
   "cell_type": "markdown",
   "id": "0b3be5a0",
   "metadata": {},
   "source": [
    "### random"
   ]
  },
  {
   "cell_type": "code",
   "execution_count": 65,
   "id": "5cea4913",
   "metadata": {},
   "outputs": [
    {
     "data": {
      "text/plain": [
       "array([0.85370761, 0.97884972, 0.06801606, 0.54154682, 0.74146006,\n",
       "       0.76677512, 0.28821133, 0.41696448, 0.55609496, 0.01835205,\n",
       "       0.84563887, 0.89087612])"
      ]
     },
     "execution_count": 65,
     "metadata": {},
     "output_type": "execute_result"
    }
   ],
   "source": [
    "unif = np.random.rand(12)\n",
    "unif"
   ]
  },
  {
   "cell_type": "code",
   "execution_count": 68,
   "id": "88528236",
   "metadata": {},
   "outputs": [
    {
     "data": {
      "text/plain": [
       "array([[0.80854707, 0.21827993],\n",
       "       [0.86018792, 0.97049734],\n",
       "       [0.4500817 , 0.26120566],\n",
       "       [0.49455528, 0.74330711],\n",
       "       [0.58819915, 0.27525881],\n",
       "       [0.65277464, 0.71113735],\n",
       "       [0.5729537 , 0.61513262],\n",
       "       [0.64630732, 0.61140909],\n",
       "       [0.57603088, 0.54201913],\n",
       "       [0.9005652 , 0.26392154],\n",
       "       [0.00391845, 0.30277322],\n",
       "       [0.69631949, 0.44270672]])"
      ]
     },
     "execution_count": 68,
     "metadata": {},
     "output_type": "execute_result"
    }
   ],
   "source": [
    "munif = np.random.rand(12, 2)\n",
    "munif"
   ]
  },
  {
   "cell_type": "code",
   "execution_count": 69,
   "id": "39e32cd6",
   "metadata": {},
   "outputs": [
    {
     "data": {
      "text/plain": [
       "array([-0.46914083,  0.55999526, -0.34384023, -0.13865664, -1.14165392,\n",
       "       -0.09621459,  0.32025859,  0.03451661,  0.02673347,  1.71647466,\n",
       "       -0.92872408, -0.42957627])"
      ]
     },
     "execution_count": 69,
     "metadata": {},
     "output_type": "execute_result"
    }
   ],
   "source": [
    "unif_n = np.random.randn(12)\n",
    "unif_n"
   ]
  },
  {
   "cell_type": "code",
   "execution_count": 70,
   "id": "de8ff513",
   "metadata": {},
   "outputs": [
    {
     "data": {
      "text/plain": [
       "array([[ 0.28530866, -2.3352693 ],\n",
       "       [-0.1555792 , -0.69742223],\n",
       "       [ 0.96640333, -0.41577526],\n",
       "       [-0.06961185,  0.21447384],\n",
       "       [ 0.35577143, -0.55088463],\n",
       "       [ 0.11857564, -1.33923679],\n",
       "       [-0.30540034, -0.25526029],\n",
       "       [-0.51764616,  2.38640895],\n",
       "       [-0.40599756, -0.17120418],\n",
       "       [-0.97524418, -1.40403602],\n",
       "       [ 0.54421389,  2.2707334 ],\n",
       "       [-0.07907414, -0.2707722 ]])"
      ]
     },
     "execution_count": 70,
     "metadata": {},
     "output_type": "execute_result"
    }
   ],
   "source": [
    "munif_n = np.random.randn(12, 2)\n",
    "munif_n"
   ]
  },
  {
   "cell_type": "code",
   "execution_count": 73,
   "id": "60e623ae",
   "metadata": {},
   "outputs": [
    {
     "data": {
      "text/plain": [
       "array([27, 47, 33, 35, 34, 32, 14, 23, 40, 14, 43, 11, 33, 20, 26, 38, 32,\n",
       "       17, 18, 11, 15, 29, 15, 42, 14, 39, 30, 27, 18, 22, 27, 43, 26, 17,\n",
       "       49, 24, 25, 15, 44, 13, 41, 12, 39, 34, 44, 40, 42, 33, 21, 24, 44,\n",
       "       38, 45, 40, 17, 38, 18, 48, 25, 35, 45, 33, 12, 24, 28, 17, 20, 44,\n",
       "       34, 13, 20, 39, 38, 48, 42, 29, 23, 13, 27, 16])"
      ]
     },
     "execution_count": 73,
     "metadata": {},
     "output_type": "execute_result"
    }
   ],
   "source": [
    "arr_int_rand = np.random.randint(10, 50, 80)\n",
    "arr_int_rand"
   ]
  },
  {
   "cell_type": "markdown",
   "id": "c07ab4d9",
   "metadata": {},
   "source": [
    "## masyvų formos ketimas reshape()"
   ]
  },
  {
   "cell_type": "code",
   "execution_count": 84,
   "id": "15a9cf0e",
   "metadata": {},
   "outputs": [
    {
     "data": {
      "text/plain": [
       "array([[27, 47, 33, 35, 34, 32, 14, 23, 40, 14],\n",
       "       [43, 11, 33, 20, 26, 38, 32, 17, 18, 11],\n",
       "       [15, 29, 15, 42, 14, 39, 30, 27, 18, 22],\n",
       "       [27, 43, 26, 17, 49, 24, 25, 15, 44, 13],\n",
       "       [41, 12, 39, 34, 44, 40, 42, 33, 21, 24],\n",
       "       [44, 38, 45, 40, 17, 38, 18, 48, 25, 35],\n",
       "       [45, 33, 12, 24, 28, 17, 20, 44, 34, 13],\n",
       "       [20, 39, 38, 48, 42, 29, 23, 13, 27, 16]])"
      ]
     },
     "execution_count": 84,
     "metadata": {},
     "output_type": "execute_result"
    }
   ],
   "source": [
    "arr_int_rand.reshape(8, 10)"
   ]
  },
  {
   "cell_type": "code",
   "execution_count": 85,
   "id": "f45b6aed",
   "metadata": {},
   "outputs": [
    {
     "data": {
      "text/plain": [
       "array([[27, 47, 33, 35, 34, 32, 14, 23, 40, 14],\n",
       "       [43, 11, 33, 20, 26, 38, 32, 17, 18, 11],\n",
       "       [15, 29, 15, 42, 14, 39, 30, 27, 18, 22],\n",
       "       [27, 43, 26, 17, 49, 24, 25, 15, 44, 13],\n",
       "       [41, 12, 39, 34, 44, 40, 42, 33, 21, 24],\n",
       "       [44, 38, 45, 40, 17, 38, 18, 48, 25, 35],\n",
       "       [45, 33, 12, 24, 28, 17, 20, 44, 34, 13],\n",
       "       [20, 39, 38, 48, 42, 29, 23, 13, 27, 16]])"
      ]
     },
     "execution_count": 85,
     "metadata": {},
     "output_type": "execute_result"
    }
   ],
   "source": [
    "arr_int_rand.reshape(8, -1)"
   ]
  },
  {
   "cell_type": "code",
   "execution_count": 92,
   "id": "3247ee7b",
   "metadata": {},
   "outputs": [
    {
     "data": {
      "text/plain": [
       "array([[27, 47, 33, 35, 34, 32, 14, 23],\n",
       "       [40, 14, 43, 11, 33, 20, 26, 38],\n",
       "       [32, 17, 18, 11, 15, 29, 15, 42],\n",
       "       [14, 39, 30, 27, 18, 22, 27, 43],\n",
       "       [26, 17, 49, 24, 25, 15, 44, 13],\n",
       "       [41, 12, 39, 34, 44, 40, 42, 33],\n",
       "       [21, 24, 44, 38, 45, 40, 17, 38],\n",
       "       [18, 48, 25, 35, 45, 33, 12, 24],\n",
       "       [28, 17, 20, 44, 34, 13, 20, 39],\n",
       "       [38, 48, 42, 29, 23, 13, 27, 16]])"
      ]
     },
     "execution_count": 92,
     "metadata": {},
     "output_type": "execute_result"
    }
   ],
   "source": [
    "matr = arr_int_rand.reshape(-1, 8)\n",
    "matr"
   ]
  },
  {
   "cell_type": "code",
   "execution_count": null,
   "id": "b25b96d1",
   "metadata": {
    "scrolled": true
   },
   "outputs": [],
   "source": [
    "arr_int_rand.reshape(-1, 8) + arr_int_rand.reshape(-1, 8)"
   ]
  },
  {
   "cell_type": "markdown",
   "id": "b14fc489",
   "metadata": {},
   "source": [
    "## array metodai, atributai"
   ]
  },
  {
   "cell_type": "code",
   "execution_count": 93,
   "id": "c729cda5",
   "metadata": {},
   "outputs": [
    {
     "data": {
      "text/plain": [
       "11"
      ]
     },
     "execution_count": 93,
     "metadata": {},
     "output_type": "execute_result"
    }
   ],
   "source": [
    "matr.min()"
   ]
  },
  {
   "cell_type": "code",
   "execution_count": 94,
   "id": "1fdf6acb",
   "metadata": {},
   "outputs": [
    {
     "data": {
      "text/plain": [
       "49"
      ]
     },
     "execution_count": 94,
     "metadata": {},
     "output_type": "execute_result"
    }
   ],
   "source": [
    "matr.max()"
   ]
  },
  {
   "cell_type": "code",
   "execution_count": 95,
   "id": "ed61b76e",
   "metadata": {},
   "outputs": [
    {
     "data": {
      "text/plain": [
       "11"
      ]
     },
     "execution_count": 95,
     "metadata": {},
     "output_type": "execute_result"
    }
   ],
   "source": [
    "matr.argmin()"
   ]
  },
  {
   "cell_type": "code",
   "execution_count": 96,
   "id": "f2a6f50b",
   "metadata": {},
   "outputs": [
    {
     "data": {
      "text/plain": [
       "34"
      ]
     },
     "execution_count": 96,
     "metadata": {},
     "output_type": "execute_result"
    }
   ],
   "source": [
    "matr.argmax()"
   ]
  },
  {
   "cell_type": "code",
   "execution_count": 98,
   "id": "1f6f0c0a",
   "metadata": {},
   "outputs": [
    {
     "data": {
      "text/plain": [
       "(10, 8)"
      ]
     },
     "execution_count": 98,
     "metadata": {},
     "output_type": "execute_result"
    }
   ],
   "source": [
    "matr.shape"
   ]
  },
  {
   "cell_type": "code",
   "execution_count": 99,
   "id": "f7b6020c",
   "metadata": {},
   "outputs": [
    {
     "data": {
      "text/plain": [
       "dtype('int32')"
      ]
     },
     "execution_count": 99,
     "metadata": {},
     "output_type": "execute_result"
    }
   ],
   "source": [
    "matr.dtype"
   ]
  },
  {
   "cell_type": "markdown",
   "id": "01f886f9",
   "metadata": {},
   "source": [
    "### indeksacija"
   ]
  },
  {
   "cell_type": "code",
   "execution_count": 102,
   "id": "099acf5e",
   "metadata": {},
   "outputs": [
    {
     "data": {
      "text/plain": [
       "array([ 5,  8, 11, 14, 17, 20, 23, 26, 29])"
      ]
     },
     "execution_count": 102,
     "metadata": {},
     "output_type": "execute_result"
    }
   ],
   "source": [
    "s_arr = np.arange(5, 30, 3)\n",
    "s_arr"
   ]
  },
  {
   "cell_type": "code",
   "execution_count": 103,
   "id": "b4700d46",
   "metadata": {},
   "outputs": [
    {
     "data": {
      "text/plain": [
       "17"
      ]
     },
     "execution_count": 103,
     "metadata": {},
     "output_type": "execute_result"
    }
   ],
   "source": [
    "s_arr[4]"
   ]
  },
  {
   "cell_type": "code",
   "execution_count": 106,
   "id": "e31f7944",
   "metadata": {},
   "outputs": [
    {
     "name": "stdout",
     "output_type": "stream",
     "text": [
      "[ 8 11 14]\n",
      "[ 5  8 11 14]\n",
      "[ 8 11 14 17 20 23 26 29]\n",
      "[23 26 29]\n"
     ]
    }
   ],
   "source": [
    "print(s_arr[1:4])\n",
    "print(s_arr[:4])\n",
    "print(s_arr[1:])\n",
    "print(s_arr[-3:])"
   ]
  },
  {
   "cell_type": "code",
   "execution_count": 107,
   "id": "301f93b7",
   "metadata": {},
   "outputs": [
    {
     "data": {
      "text/plain": [
       "[0, 1, 2, 3, 4, 5, 6, 7, 8, 9, 10, 11, 12, 13, 14, 15, 16, 17, 18, 19]"
      ]
     },
     "execution_count": 107,
     "metadata": {},
     "output_type": "execute_result"
    }
   ],
   "source": [
    "l = [*range(20)]\n",
    "l"
   ]
  },
  {
   "cell_type": "code",
   "execution_count": 111,
   "id": "b39fd97e",
   "metadata": {},
   "outputs": [
    {
     "data": {
      "text/plain": [
       "array([ 0,  1,  2,  3,  4,  5,  6,  7,  8,  9, 10, 11, 12, 13, 14, 15, 16,\n",
       "       17, 18, 19])"
      ]
     },
     "execution_count": 111,
     "metadata": {},
     "output_type": "execute_result"
    }
   ],
   "source": [
    "arr = np.arange(0, 20)\n",
    "arr"
   ]
  },
  {
   "cell_type": "code",
   "execution_count": 119,
   "id": "9db69af9",
   "metadata": {},
   "outputs": [
    {
     "data": {
      "text/plain": [
       "array([ 0, 40, 66, 66, 66, 66, 66, 66,  8,  9, 10, 11, 12, 13, 14, 15, 16,\n",
       "       17, 18, 19])"
      ]
     },
     "execution_count": 119,
     "metadata": {},
     "output_type": "execute_result"
    }
   ],
   "source": [
    "arr[1] = 40\n",
    "arr"
   ]
  },
  {
   "cell_type": "code",
   "execution_count": 120,
   "id": "b217bcd2",
   "metadata": {},
   "outputs": [
    {
     "data": {
      "text/plain": [
       "dtype('int32')"
      ]
     },
     "execution_count": 120,
     "metadata": {},
     "output_type": "execute_result"
    }
   ],
   "source": [
    "arr.dtype"
   ]
  },
  {
   "cell_type": "markdown",
   "id": "1b4756b6",
   "metadata": {},
   "source": [
    "### matricos indeksacija"
   ]
  },
  {
   "cell_type": "code",
   "execution_count": 121,
   "id": "2b42b462",
   "metadata": {},
   "outputs": [],
   "source": [
    "arr_int_rand = np.random.randint(10, 2000, 40)"
   ]
  },
  {
   "cell_type": "code",
   "execution_count": 124,
   "id": "bf5d0d73",
   "metadata": {},
   "outputs": [
    {
     "data": {
      "text/plain": [
       "array([[1664,  675,  126,  552, 1893],\n",
       "       [1122,   37, 1843, 1141,  352],\n",
       "       [1477, 1582, 1154,  167,  805],\n",
       "       [ 715, 1600,  114, 1461, 1388],\n",
       "       [ 477,  568, 1805, 1761, 1212],\n",
       "       [ 529,   41, 1575, 1806, 1177],\n",
       "       [1719, 1338,  993,  444,  251],\n",
       "       [ 666, 1270, 1126, 1320,  606]])"
      ]
     },
     "execution_count": 124,
     "metadata": {},
     "output_type": "execute_result"
    }
   ],
   "source": [
    "m_arr = arr_int_rand.reshape(8, -1)\n",
    "m_arr"
   ]
  },
  {
   "cell_type": "code",
   "execution_count": 125,
   "id": "59101bb2",
   "metadata": {},
   "outputs": [
    {
     "data": {
      "text/plain": [
       "array([ 477,  568, 1805, 1761, 1212])"
      ]
     },
     "execution_count": 125,
     "metadata": {},
     "output_type": "execute_result"
    }
   ],
   "source": [
    "m_arr[4]"
   ]
  },
  {
   "cell_type": "code",
   "execution_count": 126,
   "id": "98e5a584",
   "metadata": {},
   "outputs": [
    {
     "data": {
      "text/plain": [
       "1212"
      ]
     },
     "execution_count": 126,
     "metadata": {},
     "output_type": "execute_result"
    }
   ],
   "source": [
    "m_arr[4][-1]"
   ]
  },
  {
   "cell_type": "code",
   "execution_count": 127,
   "id": "6a37a27a",
   "metadata": {},
   "outputs": [
    {
     "data": {
      "text/plain": [
       "1212"
      ]
     },
     "execution_count": 127,
     "metadata": {},
     "output_type": "execute_result"
    }
   ],
   "source": [
    "m_arr[4,-1]"
   ]
  },
  {
   "cell_type": "code",
   "execution_count": null,
   "id": "df3c59c0",
   "metadata": {
    "scrolled": true
   },
   "outputs": [],
   "source": [
    "m_arr[1:4, 1:3]"
   ]
  },
  {
   "cell_type": "code",
   "execution_count": null,
   "id": "2d344d93",
   "metadata": {
    "scrolled": true
   },
   "outputs": [],
   "source": [
    "m_arr[1:, 1:-1]"
   ]
  },
  {
   "cell_type": "code",
   "execution_count": 149,
   "id": "5a706ee2",
   "metadata": {
    "scrolled": false
   },
   "outputs": [
    {
     "data": {
      "text/plain": [
       "array([[1477, 1582, 1154,  167,  805],\n",
       "       [ 715, 1600,  114, 1461, 1388],\n",
       "       [ 477,  568, 1805, 1761, 1212],\n",
       "       [ 529,   41, 1575, 1806, 1177],\n",
       "       [1719, 1338,  993,  444,  251],\n",
       "       [ 666, 1270, 1126, 1320,  606]])"
      ]
     },
     "execution_count": 149,
     "metadata": {},
     "output_type": "execute_result"
    }
   ],
   "source": [
    "m_arr[2:]"
   ]
  },
  {
   "cell_type": "code",
   "execution_count": null,
   "id": "156faa55",
   "metadata": {
    "scrolled": true
   },
   "outputs": [],
   "source": [
    "m_arr[:,2:]"
   ]
  },
  {
   "cell_type": "code",
   "execution_count": 172,
   "id": "eef9f47f",
   "metadata": {
    "scrolled": true
   },
   "outputs": [
    {
     "data": {
      "text/plain": [
       "array([[1664,  675,  100,  100,  100],\n",
       "       [1122,   37,  100,  100,  100],\n",
       "       [1477, 1582,  100,  100,  100],\n",
       "       [ 715, 1600,  100,  100,  100],\n",
       "       [ 477,  568,  100,  100,  100],\n",
       "       [ 529,   41,  100,  100,  100],\n",
       "       [1719, 1338,  100,  100,  100],\n",
       "       [ 666, 1270,  100,  100,  100]])"
      ]
     },
     "execution_count": 172,
     "metadata": {},
     "output_type": "execute_result"
    }
   ],
   "source": [
    "m_arr[:,2:] = 100\n",
    "m_arr"
   ]
  },
  {
   "cell_type": "code",
   "execution_count": 173,
   "id": "f1bd37bb",
   "metadata": {},
   "outputs": [
    {
     "data": {
      "text/plain": [
       "array([[45, 45, 45, 45, 45],\n",
       "       [45, 45, 45, 45, 45],\n",
       "       [45, 45, 45, 45, 45],\n",
       "       [45, 45, 45, 45, 45],\n",
       "       [45, 45, 45, 45, 45],\n",
       "       [45, 45, 45, 45, 45],\n",
       "       [45, 45, 45, 45, 45],\n",
       "       [45, 45, 45, 45, 45]])"
      ]
     },
     "execution_count": 173,
     "metadata": {},
     "output_type": "execute_result"
    }
   ],
   "source": [
    "m_arr[:] = 45\n",
    "m_arr"
   ]
  },
  {
   "cell_type": "markdown",
   "id": "2c152ad4",
   "metadata": {},
   "source": [
    "### reikšmių paėmimas pagal sąlygą"
   ]
  },
  {
   "cell_type": "code",
   "execution_count": 150,
   "id": "f02593a6",
   "metadata": {},
   "outputs": [
    {
     "data": {
      "text/plain": [
       "array([ 0, 40, 66, 66, 66, 66, 66, 66,  8,  9, 10, 11, 12, 13, 14, 15, 16,\n",
       "       17, 18, 19])"
      ]
     },
     "execution_count": 150,
     "metadata": {},
     "output_type": "execute_result"
    }
   ],
   "source": [
    "arr"
   ]
  },
  {
   "cell_type": "code",
   "execution_count": 151,
   "id": "a28c3b25",
   "metadata": {},
   "outputs": [
    {
     "data": {
      "text/plain": [
       "array([ True, False, False, False, False, False, False, False,  True,\n",
       "        True,  True,  True,  True,  True,  True,  True,  True,  True,\n",
       "        True,  True])"
      ]
     },
     "execution_count": 151,
     "metadata": {},
     "output_type": "execute_result"
    }
   ],
   "source": [
    "bool_arr = arr < 40\n",
    "bool_arr"
   ]
  },
  {
   "cell_type": "code",
   "execution_count": 152,
   "id": "24e629e5",
   "metadata": {},
   "outputs": [
    {
     "data": {
      "text/plain": [
       "array([ 0,  8,  9, 10, 11, 12, 13, 14, 15, 16, 17, 18, 19])"
      ]
     },
     "execution_count": 152,
     "metadata": {},
     "output_type": "execute_result"
    }
   ],
   "source": [
    "arr[bool_arr]"
   ]
  },
  {
   "cell_type": "code",
   "execution_count": 153,
   "id": "469490e7",
   "metadata": {},
   "outputs": [
    {
     "data": {
      "text/plain": [
       "array([40, 66, 66, 66, 66, 66, 66, 16, 17, 18, 19])"
      ]
     },
     "execution_count": 153,
     "metadata": {},
     "output_type": "execute_result"
    }
   ],
   "source": [
    "arr[arr > 15]"
   ]
  },
  {
   "cell_type": "markdown",
   "id": "823a9b48",
   "metadata": {},
   "source": [
    "### įpatumai"
   ]
  },
  {
   "cell_type": "code",
   "execution_count": 177,
   "id": "c8fdb0ce",
   "metadata": {},
   "outputs": [
    {
     "data": {
      "text/plain": [
       "array([[1168, 1807, 1295,  989,  540],\n",
       "       [1889,  767, 1058, 1557,  652],\n",
       "       [1481,  665, 1589, 1835, 1045],\n",
       "       [ 196,  789, 1282,  837,  362],\n",
       "       [1832, 1156, 1928, 1371,  868],\n",
       "       [1415, 1916, 1868, 1951,  216],\n",
       "       [1356,  254,  787,  612,  820],\n",
       "       [1638,  910, 1654,  384, 1711]])"
      ]
     },
     "execution_count": 177,
     "metadata": {},
     "output_type": "execute_result"
    }
   ],
   "source": [
    "arr_int_rand = np.random.randint(10, 2000, 40)\n",
    "m_arr = arr_int_rand.reshape(8, -1)\n",
    "m_arr"
   ]
  },
  {
   "cell_type": "code",
   "execution_count": 178,
   "id": "aec50895",
   "metadata": {},
   "outputs": [
    {
     "data": {
      "text/plain": [
       "array([[ 767, 1058],\n",
       "       [ 665, 1589],\n",
       "       [ 789, 1282],\n",
       "       [1156, 1928],\n",
       "       [1916, 1868],\n",
       "       [ 254,  787]])"
      ]
     },
     "execution_count": 178,
     "metadata": {},
     "output_type": "execute_result"
    }
   ],
   "source": [
    "slice_m_arr = m_arr[1:-1, 1:3]\n",
    "slice_m_arr"
   ]
  },
  {
   "cell_type": "code",
   "execution_count": 179,
   "id": "f60cdd64",
   "metadata": {},
   "outputs": [
    {
     "data": {
      "text/plain": [
       "array([[777, 777],\n",
       "       [777, 777],\n",
       "       [777, 777],\n",
       "       [777, 777],\n",
       "       [777, 777],\n",
       "       [777, 777]])"
      ]
     },
     "execution_count": 179,
     "metadata": {},
     "output_type": "execute_result"
    }
   ],
   "source": [
    "slice_m_arr[:] = 777\n",
    "slice_m_arr"
   ]
  },
  {
   "cell_type": "code",
   "execution_count": 180,
   "id": "b38783be",
   "metadata": {},
   "outputs": [
    {
     "data": {
      "text/plain": [
       "array([[1168, 1807, 1295,  989,  540],\n",
       "       [1889,  777,  777, 1557,  652],\n",
       "       [1481,  777,  777, 1835, 1045],\n",
       "       [ 196,  777,  777,  837,  362],\n",
       "       [1832,  777,  777, 1371,  868],\n",
       "       [1415,  777,  777, 1951,  216],\n",
       "       [1356,  777,  777,  612,  820],\n",
       "       [1638,  910, 1654,  384, 1711]])"
      ]
     },
     "execution_count": 180,
     "metadata": {},
     "output_type": "execute_result"
    }
   ],
   "source": [
    "m_arr"
   ]
  },
  {
   "cell_type": "code",
   "execution_count": 181,
   "id": "39459580",
   "metadata": {},
   "outputs": [],
   "source": [
    "slice_m_arr = m_arr[1:-1, 1:3]\n",
    "slice_m_arr = slice_m_arr.copy()"
   ]
  },
  {
   "cell_type": "code",
   "execution_count": 183,
   "id": "521955e9",
   "metadata": {},
   "outputs": [
    {
     "data": {
      "text/plain": [
       "array([[999, 999],\n",
       "       [999, 999],\n",
       "       [999, 999],\n",
       "       [999, 999],\n",
       "       [999, 999],\n",
       "       [999, 999]])"
      ]
     },
     "execution_count": 183,
     "metadata": {},
     "output_type": "execute_result"
    }
   ],
   "source": [
    "slice_m_arr[:] = 999\n",
    "slice_m_arr"
   ]
  },
  {
   "cell_type": "code",
   "execution_count": 184,
   "id": "a802acea",
   "metadata": {},
   "outputs": [
    {
     "data": {
      "text/plain": [
       "array([[1168, 1807, 1295,  989,  540],\n",
       "       [1889,  777,  777, 1557,  652],\n",
       "       [1481,  777,  777, 1835, 1045],\n",
       "       [ 196,  777,  777,  837,  362],\n",
       "       [1832,  777,  777, 1371,  868],\n",
       "       [1415,  777,  777, 1951,  216],\n",
       "       [1356,  777,  777,  612,  820],\n",
       "       [1638,  910, 1654,  384, 1711]])"
      ]
     },
     "execution_count": 184,
     "metadata": {},
     "output_type": "execute_result"
    }
   ],
   "source": [
    "m_arr"
   ]
  },
  {
   "cell_type": "code",
   "execution_count": 185,
   "id": "4acfa207",
   "metadata": {},
   "outputs": [
    {
     "data": {
      "text/plain": [
       "array([ 0, 40, 66, 66, 66, 66, 66, 66,  8,  9, 10, 11, 12, 13, 14, 15, 16,\n",
       "       17, 18, 19])"
      ]
     },
     "execution_count": 185,
     "metadata": {},
     "output_type": "execute_result"
    }
   ],
   "source": [
    "arr"
   ]
  },
  {
   "cell_type": "code",
   "execution_count": 186,
   "id": "a12a2b15",
   "metadata": {},
   "outputs": [
    {
     "data": {
      "text/plain": [
       "array([1168, 1807, 1295,  989,  540, 1889,  777,  777, 1557,  652, 1481,\n",
       "        777,  777, 1835, 1045,  196,  777,  777,  837,  362, 1832,  777,\n",
       "        777, 1371,  868, 1415,  777,  777, 1951,  216, 1356,  777,  777,\n",
       "        612,  820, 1638,  910, 1654,  384, 1711])"
      ]
     },
     "execution_count": 186,
     "metadata": {},
     "output_type": "execute_result"
    }
   ],
   "source": [
    "arr_int_rand"
   ]
  },
  {
   "cell_type": "markdown",
   "id": "965f7029",
   "metadata": {},
   "source": [
    "### aritmetiniai veiksmai"
   ]
  },
  {
   "cell_type": "code",
   "execution_count": 187,
   "id": "63c8cb66",
   "metadata": {},
   "outputs": [
    {
     "data": {
      "text/plain": [
       "array([ 0, 40, 66, 66, 66, 66, 66, 66,  8,  9, 10, 11, 12, 13, 14, 15, 16,\n",
       "       17, 18, 19])"
      ]
     },
     "execution_count": 187,
     "metadata": {},
     "output_type": "execute_result"
    }
   ],
   "source": [
    "arr"
   ]
  },
  {
   "cell_type": "code",
   "execution_count": 188,
   "id": "478e4557",
   "metadata": {},
   "outputs": [
    {
     "data": {
      "text/plain": [
       "array([  0,  80, 132, 132, 132, 132, 132, 132,  16,  18,  20,  22,  24,\n",
       "        26,  28,  30,  32,  34,  36,  38])"
      ]
     },
     "execution_count": 188,
     "metadata": {},
     "output_type": "execute_result"
    }
   ],
   "source": [
    "arr + arr"
   ]
  },
  {
   "cell_type": "code",
   "execution_count": 189,
   "id": "b781b2d3",
   "metadata": {},
   "outputs": [
    {
     "data": {
      "text/plain": [
       "array([0, 0, 0, 0, 0, 0, 0, 0, 0, 0, 0, 0, 0, 0, 0, 0, 0, 0, 0, 0])"
      ]
     },
     "execution_count": 189,
     "metadata": {},
     "output_type": "execute_result"
    }
   ],
   "source": [
    "arr - arr"
   ]
  },
  {
   "cell_type": "code",
   "execution_count": 190,
   "id": "b3bf09d5",
   "metadata": {},
   "outputs": [
    {
     "data": {
      "text/plain": [
       "array([   0, 1600, 4356, 4356, 4356, 4356, 4356, 4356,   64,   81,  100,\n",
       "        121,  144,  169,  196,  225,  256,  289,  324,  361])"
      ]
     },
     "execution_count": 190,
     "metadata": {},
     "output_type": "execute_result"
    }
   ],
   "source": [
    "arr * arr"
   ]
  },
  {
   "cell_type": "code",
   "execution_count": 191,
   "id": "36b2b8ae",
   "metadata": {},
   "outputs": [
    {
     "name": "stderr",
     "output_type": "stream",
     "text": [
      "C:\\Users\\CodeAcademy\\AppData\\Local\\Temp\\ipykernel_20236\\3001117470.py:1: RuntimeWarning: invalid value encountered in divide\n",
      "  arr / arr\n"
     ]
    },
    {
     "data": {
      "text/plain": [
       "array([nan,  1.,  1.,  1.,  1.,  1.,  1.,  1.,  1.,  1.,  1.,  1.,  1.,\n",
       "        1.,  1.,  1.,  1.,  1.,  1.,  1.])"
      ]
     },
     "execution_count": 191,
     "metadata": {},
     "output_type": "execute_result"
    }
   ],
   "source": [
    "arr / arr"
   ]
  },
  {
   "cell_type": "code",
   "execution_count": 192,
   "id": "69eca4fd",
   "metadata": {},
   "outputs": [
    {
     "name": "stderr",
     "output_type": "stream",
     "text": [
      "C:\\Users\\CodeAcademy\\AppData\\Local\\Temp\\ipykernel_20236\\3942562399.py:1: RuntimeWarning: divide by zero encountered in divide\n",
      "  arr / 0\n",
      "C:\\Users\\CodeAcademy\\AppData\\Local\\Temp\\ipykernel_20236\\3942562399.py:1: RuntimeWarning: invalid value encountered in divide\n",
      "  arr / 0\n"
     ]
    },
    {
     "data": {
      "text/plain": [
       "array([nan, inf, inf, inf, inf, inf, inf, inf, inf, inf, inf, inf, inf,\n",
       "       inf, inf, inf, inf, inf, inf, inf])"
      ]
     },
     "execution_count": 192,
     "metadata": {},
     "output_type": "execute_result"
    }
   ],
   "source": [
    "arr / 0"
   ]
  },
  {
   "cell_type": "code",
   "execution_count": 193,
   "id": "195c5284",
   "metadata": {},
   "outputs": [
    {
     "data": {
      "text/plain": [
       "array([1000, 1040, 1066, 1066, 1066, 1066, 1066, 1066, 1008, 1009, 1010,\n",
       "       1011, 1012, 1013, 1014, 1015, 1016, 1017, 1018, 1019])"
      ]
     },
     "execution_count": 193,
     "metadata": {},
     "output_type": "execute_result"
    }
   ],
   "source": [
    "arr + 1000"
   ]
  },
  {
   "cell_type": "code",
   "execution_count": 194,
   "id": "58440507",
   "metadata": {},
   "outputs": [
    {
     "data": {
      "text/plain": [
       "array([  0, 200, 330, 330, 330, 330, 330, 330,  40,  45,  50,  55,  60,\n",
       "        65,  70,  75,  80,  85,  90,  95])"
      ]
     },
     "execution_count": 194,
     "metadata": {},
     "output_type": "execute_result"
    }
   ],
   "source": [
    "arr * 5"
   ]
  },
  {
   "cell_type": "code",
   "execution_count": 195,
   "id": "546844e4",
   "metadata": {},
   "outputs": [
    {
     "data": {
      "text/plain": [
       "array([         0,  102400000, 1252332576, 1252332576, 1252332576,\n",
       "       1252332576, 1252332576, 1252332576,      32768,      59049,\n",
       "           100000,     161051,     248832,     371293,     537824,\n",
       "           759375,    1048576,    1419857,    1889568,    2476099],\n",
       "      dtype=int32)"
      ]
     },
     "execution_count": 195,
     "metadata": {},
     "output_type": "execute_result"
    }
   ],
   "source": [
    "arr ** 5"
   ]
  },
  {
   "cell_type": "code",
   "execution_count": 196,
   "id": "9924eb81",
   "metadata": {},
   "outputs": [
    {
     "data": {
      "text/plain": [
       "array([ 0.        ,  0.74511316, -0.02655115, -0.02655115, -0.02655115,\n",
       "       -0.02655115, -0.02655115, -0.02655115,  0.98935825,  0.41211849,\n",
       "       -0.54402111, -0.99999021, -0.53657292,  0.42016704,  0.99060736,\n",
       "        0.65028784, -0.28790332, -0.96139749, -0.75098725,  0.14987721])"
      ]
     },
     "execution_count": 196,
     "metadata": {},
     "output_type": "execute_result"
    }
   ],
   "source": [
    "np.sin(arr)"
   ]
  },
  {
   "cell_type": "code",
   "execution_count": 197,
   "id": "892ff10e",
   "metadata": {},
   "outputs": [
    {
     "name": "stderr",
     "output_type": "stream",
     "text": [
      "C:\\Users\\CodeAcademy\\AppData\\Local\\Temp\\ipykernel_20236\\3120950136.py:1: RuntimeWarning: divide by zero encountered in log\n",
      "  np.log(arr)\n"
     ]
    },
    {
     "data": {
      "text/plain": [
       "array([      -inf, 3.68887945, 4.18965474, 4.18965474, 4.18965474,\n",
       "       4.18965474, 4.18965474, 4.18965474, 2.07944154, 2.19722458,\n",
       "       2.30258509, 2.39789527, 2.48490665, 2.56494936, 2.63905733,\n",
       "       2.7080502 , 2.77258872, 2.83321334, 2.89037176, 2.94443898])"
      ]
     },
     "execution_count": 197,
     "metadata": {},
     "output_type": "execute_result"
    }
   ],
   "source": [
    "np.log(arr)"
   ]
  },
  {
   "cell_type": "code",
   "execution_count": 198,
   "id": "aaf1caf5",
   "metadata": {},
   "outputs": [
    {
     "data": {
      "text/plain": [
       "array([0.        , 6.32455532, 8.1240384 , 8.1240384 , 8.1240384 ,\n",
       "       8.1240384 , 8.1240384 , 8.1240384 , 2.82842712, 3.        ,\n",
       "       3.16227766, 3.31662479, 3.46410162, 3.60555128, 3.74165739,\n",
       "       3.87298335, 4.        , 4.12310563, 4.24264069, 4.35889894])"
      ]
     },
     "execution_count": 198,
     "metadata": {},
     "output_type": "execute_result"
    }
   ],
   "source": [
    "np.sqrt(arr)"
   ]
  },
  {
   "cell_type": "code",
   "execution_count": null,
   "id": "2d965d64",
   "metadata": {},
   "outputs": [],
   "source": []
  }
 ],
 "metadata": {
  "kernelspec": {
   "display_name": "Python 3 (ipykernel)",
   "language": "python",
   "name": "python3"
  },
  "language_info": {
   "codemirror_mode": {
    "name": "ipython",
    "version": 3
   },
   "file_extension": ".py",
   "mimetype": "text/x-python",
   "name": "python",
   "nbconvert_exporter": "python",
   "pygments_lexer": "ipython3",
   "version": "3.10.5"
  }
 },
 "nbformat": 4,
 "nbformat_minor": 5
}
