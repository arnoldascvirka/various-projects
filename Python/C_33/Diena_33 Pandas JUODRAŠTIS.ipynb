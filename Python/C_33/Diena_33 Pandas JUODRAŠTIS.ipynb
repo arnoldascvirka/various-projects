{
 "cells": [
  {
   "cell_type": "code",
   "execution_count": 2,
   "id": "8dece1f6",
   "metadata": {
    "scrolled": true
   },
   "outputs": [],
   "source": [
    "import numpy as np\n",
    "import pandas as pd"
   ]
  },
  {
   "cell_type": "markdown",
   "id": "be64cb42",
   "metadata": {},
   "source": [
    "### serijos"
   ]
  },
  {
   "cell_type": "code",
   "execution_count": 5,
   "id": "e6fcba4d",
   "metadata": {},
   "outputs": [
    {
     "data": {
      "text/plain": [
       "x    20\n",
       "y    30\n",
       "z    40\n",
       "dtype: int64"
      ]
     },
     "execution_count": 5,
     "metadata": {},
     "output_type": "execute_result"
    }
   ],
   "source": [
    "data = [20, 30 ,40]\n",
    "labels = ['x', 'y', 'z']\n",
    "pd.Series(data, labels)"
   ]
  },
  {
   "cell_type": "code",
   "execution_count": 7,
   "id": "78e0e325",
   "metadata": {},
   "outputs": [
    {
     "data": {
      "text/plain": [
       "x    20\n",
       "y    30\n",
       "z    40\n",
       "dtype: int64"
      ]
     },
     "execution_count": 7,
     "metadata": {},
     "output_type": "execute_result"
    }
   ],
   "source": [
    "data = [20, 30 ,40]\n",
    "labels = ['x', 'y', 'z']\n",
    "serija = pd.Series(data=data, index=labels)\n",
    "serija"
   ]
  },
  {
   "cell_type": "code",
   "execution_count": 8,
   "id": "c5d46269",
   "metadata": {},
   "outputs": [
    {
     "data": {
      "text/plain": [
       "A     1000\n",
       "B     2000\n",
       "C      999\n",
       "D    10000\n",
       "dtype: int64"
      ]
     },
     "execution_count": 8,
     "metadata": {},
     "output_type": "execute_result"
    }
   ],
   "source": [
    "zodynas = {'A': 1000, 'B':2000, 'C':999, 'D':10000}\n",
    "pd.Series(zodynas)"
   ]
  },
  {
   "cell_type": "code",
   "execution_count": 9,
   "id": "4b0ad6b1",
   "metadata": {},
   "outputs": [
    {
     "data": {
      "text/plain": [
       "Vilnius      1\n",
       "Kaunas       2\n",
       "Klaipėda     3\n",
       "Panevėžys    4\n",
       "Šiauliai     5\n",
       "dtype: int64"
      ]
     },
     "execution_count": 9,
     "metadata": {},
     "output_type": "execute_result"
    }
   ],
   "source": [
    "serija = pd.Series([1, 2, 3, 4, 5], ['Vilnius', 'Kaunas', 'Klaipėda', 'Panevėžys', 'Šiauliai'])\n",
    "serija"
   ]
  },
  {
   "cell_type": "code",
   "execution_count": 20,
   "id": "61a4032a",
   "metadata": {},
   "outputs": [
    {
     "data": {
      "text/plain": [
       "pandas.core.series.Series"
      ]
     },
     "execution_count": 20,
     "metadata": {},
     "output_type": "execute_result"
    }
   ],
   "source": [
    "type(serija)"
   ]
  },
  {
   "cell_type": "code",
   "execution_count": 10,
   "id": "f4762dd0",
   "metadata": {},
   "outputs": [
    {
     "data": {
      "text/plain": [
       "1"
      ]
     },
     "execution_count": 10,
     "metadata": {},
     "output_type": "execute_result"
    }
   ],
   "source": [
    "serija['Vilnius']"
   ]
  },
  {
   "cell_type": "code",
   "execution_count": 11,
   "id": "6c133b8b",
   "metadata": {},
   "outputs": [
    {
     "data": {
      "text/plain": [
       "numpy.int64"
      ]
     },
     "execution_count": 11,
     "metadata": {},
     "output_type": "execute_result"
    }
   ],
   "source": [
    "type(serija['Vilnius'])"
   ]
  },
  {
   "cell_type": "code",
   "execution_count": 13,
   "id": "988fd8bd",
   "metadata": {},
   "outputs": [
    {
     "data": {
      "text/plain": [
       "Vilnius     17\n",
       "Kaunas       2\n",
       "Klaipėda    31\n",
       "Alytus      40\n",
       "dtype: int64"
      ]
     },
     "execution_count": 13,
     "metadata": {},
     "output_type": "execute_result"
    }
   ],
   "source": [
    "serija2 = pd.Series([17, 2, 31, 40], ['Vilnius', 'Kaunas', 'Klaipėda', 'Alytus'])\n",
    "serija2"
   ]
  },
  {
   "cell_type": "code",
   "execution_count": 14,
   "id": "b620d037",
   "metadata": {},
   "outputs": [
    {
     "data": {
      "text/plain": [
       "Alytus        NaN\n",
       "Kaunas        4.0\n",
       "Klaipėda     34.0\n",
       "Panevėžys     NaN\n",
       "Vilnius      18.0\n",
       "Šiauliai      NaN\n",
       "dtype: float64"
      ]
     },
     "execution_count": 14,
     "metadata": {},
     "output_type": "execute_result"
    }
   ],
   "source": [
    "serija + serija2"
   ]
  },
  {
   "cell_type": "markdown",
   "id": "7914e7f9",
   "metadata": {},
   "source": [
    "### DataFrames"
   ]
  },
  {
   "cell_type": "code",
   "execution_count": 16,
   "id": "4899649a",
   "metadata": {},
   "outputs": [],
   "source": [
    "df = pd.DataFrame(\n",
    "    np.random.rand(5, 6), [\"a\", \"b\", \"c\", \"d\", \"e\"], [\"U\", \"V\", \"W\", \"X\", \"Y\", \"Z\"]\n",
    ")"
   ]
  },
  {
   "cell_type": "code",
   "execution_count": 17,
   "id": "d75196b0",
   "metadata": {},
   "outputs": [
    {
     "data": {
      "text/html": [
       "<div>\n",
       "<style scoped>\n",
       "    .dataframe tbody tr th:only-of-type {\n",
       "        vertical-align: middle;\n",
       "    }\n",
       "\n",
       "    .dataframe tbody tr th {\n",
       "        vertical-align: top;\n",
       "    }\n",
       "\n",
       "    .dataframe thead th {\n",
       "        text-align: right;\n",
       "    }\n",
       "</style>\n",
       "<table border=\"1\" class=\"dataframe\">\n",
       "  <thead>\n",
       "    <tr style=\"text-align: right;\">\n",
       "      <th></th>\n",
       "      <th>U</th>\n",
       "      <th>V</th>\n",
       "      <th>W</th>\n",
       "      <th>X</th>\n",
       "      <th>Y</th>\n",
       "      <th>Z</th>\n",
       "    </tr>\n",
       "  </thead>\n",
       "  <tbody>\n",
       "    <tr>\n",
       "      <th>a</th>\n",
       "      <td>0.789074</td>\n",
       "      <td>0.536261</td>\n",
       "      <td>0.688781</td>\n",
       "      <td>0.203664</td>\n",
       "      <td>0.905727</td>\n",
       "      <td>0.011575</td>\n",
       "    </tr>\n",
       "    <tr>\n",
       "      <th>b</th>\n",
       "      <td>0.525954</td>\n",
       "      <td>0.802894</td>\n",
       "      <td>0.214985</td>\n",
       "      <td>0.448667</td>\n",
       "      <td>0.421390</td>\n",
       "      <td>0.659663</td>\n",
       "    </tr>\n",
       "    <tr>\n",
       "      <th>c</th>\n",
       "      <td>0.940864</td>\n",
       "      <td>0.528567</td>\n",
       "      <td>0.937643</td>\n",
       "      <td>0.429230</td>\n",
       "      <td>0.419300</td>\n",
       "      <td>0.505545</td>\n",
       "    </tr>\n",
       "    <tr>\n",
       "      <th>d</th>\n",
       "      <td>0.621913</td>\n",
       "      <td>0.075018</td>\n",
       "      <td>0.218469</td>\n",
       "      <td>0.361307</td>\n",
       "      <td>0.466499</td>\n",
       "      <td>0.239112</td>\n",
       "    </tr>\n",
       "    <tr>\n",
       "      <th>e</th>\n",
       "      <td>0.781252</td>\n",
       "      <td>0.847808</td>\n",
       "      <td>0.910185</td>\n",
       "      <td>0.187813</td>\n",
       "      <td>0.150197</td>\n",
       "      <td>0.246432</td>\n",
       "    </tr>\n",
       "  </tbody>\n",
       "</table>\n",
       "</div>"
      ],
      "text/plain": [
       "          U         V         W         X         Y         Z\n",
       "a  0.789074  0.536261  0.688781  0.203664  0.905727  0.011575\n",
       "b  0.525954  0.802894  0.214985  0.448667  0.421390  0.659663\n",
       "c  0.940864  0.528567  0.937643  0.429230  0.419300  0.505545\n",
       "d  0.621913  0.075018  0.218469  0.361307  0.466499  0.239112\n",
       "e  0.781252  0.847808  0.910185  0.187813  0.150197  0.246432"
      ]
     },
     "execution_count": 17,
     "metadata": {},
     "output_type": "execute_result"
    }
   ],
   "source": [
    "df"
   ]
  },
  {
   "cell_type": "code",
   "execution_count": 18,
   "id": "218ece25",
   "metadata": {},
   "outputs": [
    {
     "data": {
      "text/plain": [
       "a    0.789074\n",
       "b    0.525954\n",
       "c    0.940864\n",
       "d    0.621913\n",
       "e    0.781252\n",
       "Name: U, dtype: float64"
      ]
     },
     "execution_count": 18,
     "metadata": {},
     "output_type": "execute_result"
    }
   ],
   "source": [
    "df['U']"
   ]
  },
  {
   "cell_type": "code",
   "execution_count": 21,
   "id": "8f008f55",
   "metadata": {},
   "outputs": [
    {
     "data": {
      "text/html": [
       "<div>\n",
       "<style scoped>\n",
       "    .dataframe tbody tr th:only-of-type {\n",
       "        vertical-align: middle;\n",
       "    }\n",
       "\n",
       "    .dataframe tbody tr th {\n",
       "        vertical-align: top;\n",
       "    }\n",
       "\n",
       "    .dataframe thead th {\n",
       "        text-align: right;\n",
       "    }\n",
       "</style>\n",
       "<table border=\"1\" class=\"dataframe\">\n",
       "  <thead>\n",
       "    <tr style=\"text-align: right;\">\n",
       "      <th></th>\n",
       "      <th>U</th>\n",
       "    </tr>\n",
       "  </thead>\n",
       "  <tbody>\n",
       "    <tr>\n",
       "      <th>a</th>\n",
       "      <td>0.789074</td>\n",
       "    </tr>\n",
       "    <tr>\n",
       "      <th>b</th>\n",
       "      <td>0.525954</td>\n",
       "    </tr>\n",
       "    <tr>\n",
       "      <th>c</th>\n",
       "      <td>0.940864</td>\n",
       "    </tr>\n",
       "    <tr>\n",
       "      <th>d</th>\n",
       "      <td>0.621913</td>\n",
       "    </tr>\n",
       "    <tr>\n",
       "      <th>e</th>\n",
       "      <td>0.781252</td>\n",
       "    </tr>\n",
       "  </tbody>\n",
       "</table>\n",
       "</div>"
      ],
      "text/plain": [
       "          U\n",
       "a  0.789074\n",
       "b  0.525954\n",
       "c  0.940864\n",
       "d  0.621913\n",
       "e  0.781252"
      ]
     },
     "execution_count": 21,
     "metadata": {},
     "output_type": "execute_result"
    }
   ],
   "source": [
    "df[['U']]"
   ]
  },
  {
   "cell_type": "code",
   "execution_count": null,
   "id": "ebf8683f",
   "metadata": {
    "scrolled": true
   },
   "outputs": [],
   "source": [
    "df[['V', 'X', 'U']]"
   ]
  },
  {
   "cell_type": "code",
   "execution_count": null,
   "id": "424b4694",
   "metadata": {
    "scrolled": true
   },
   "outputs": [],
   "source": [
    "df['naujas'] = [10, 45, 7, 10, 4] \n",
    "df"
   ]
  },
  {
   "cell_type": "code",
   "execution_count": null,
   "id": "44a86c61",
   "metadata": {
    "scrolled": true
   },
   "outputs": [],
   "source": [
    "df.drop('naujas', axis=1)"
   ]
  },
  {
   "cell_type": "code",
   "execution_count": null,
   "id": "0a1e780e",
   "metadata": {
    "scrolled": true
   },
   "outputs": [],
   "source": [
    "df"
   ]
  },
  {
   "cell_type": "code",
   "execution_count": null,
   "id": "6516a2a0",
   "metadata": {
    "scrolled": true
   },
   "outputs": [],
   "source": [
    "df.drop('naujas', axis=1, inplace=True)\n",
    "df"
   ]
  },
  {
   "cell_type": "code",
   "execution_count": null,
   "id": "7fd1d0c5",
   "metadata": {
    "scrolled": true
   },
   "outputs": [],
   "source": [
    "df.drop('a') # axis=0 default reikšmė"
   ]
  },
  {
   "cell_type": "code",
   "execution_count": 42,
   "id": "b8f8cb84",
   "metadata": {
    "scrolled": true
   },
   "outputs": [
    {
     "data": {
      "text/html": [
       "<div>\n",
       "<style scoped>\n",
       "    .dataframe tbody tr th:only-of-type {\n",
       "        vertical-align: middle;\n",
       "    }\n",
       "\n",
       "    .dataframe tbody tr th {\n",
       "        vertical-align: top;\n",
       "    }\n",
       "\n",
       "    .dataframe thead th {\n",
       "        text-align: right;\n",
       "    }\n",
       "</style>\n",
       "<table border=\"1\" class=\"dataframe\">\n",
       "  <thead>\n",
       "    <tr style=\"text-align: right;\">\n",
       "      <th></th>\n",
       "      <th>U</th>\n",
       "      <th>V</th>\n",
       "      <th>W</th>\n",
       "      <th>X</th>\n",
       "      <th>Y</th>\n",
       "      <th>Z</th>\n",
       "    </tr>\n",
       "  </thead>\n",
       "  <tbody>\n",
       "    <tr>\n",
       "      <th>a</th>\n",
       "      <td>0.789074</td>\n",
       "      <td>0.536261</td>\n",
       "      <td>0.688781</td>\n",
       "      <td>0.203664</td>\n",
       "      <td>0.905727</td>\n",
       "      <td>0.011575</td>\n",
       "    </tr>\n",
       "    <tr>\n",
       "      <th>b</th>\n",
       "      <td>0.525954</td>\n",
       "      <td>0.802894</td>\n",
       "      <td>0.214985</td>\n",
       "      <td>0.448667</td>\n",
       "      <td>0.421390</td>\n",
       "      <td>0.659663</td>\n",
       "    </tr>\n",
       "    <tr>\n",
       "      <th>c</th>\n",
       "      <td>0.940864</td>\n",
       "      <td>0.528567</td>\n",
       "      <td>0.937643</td>\n",
       "      <td>0.429230</td>\n",
       "      <td>0.419300</td>\n",
       "      <td>0.505545</td>\n",
       "    </tr>\n",
       "    <tr>\n",
       "      <th>d</th>\n",
       "      <td>0.621913</td>\n",
       "      <td>0.075018</td>\n",
       "      <td>0.218469</td>\n",
       "      <td>0.361307</td>\n",
       "      <td>0.466499</td>\n",
       "      <td>0.239112</td>\n",
       "    </tr>\n",
       "    <tr>\n",
       "      <th>e</th>\n",
       "      <td>0.781252</td>\n",
       "      <td>0.847808</td>\n",
       "      <td>0.910185</td>\n",
       "      <td>0.187813</td>\n",
       "      <td>0.150197</td>\n",
       "      <td>0.246432</td>\n",
       "    </tr>\n",
       "  </tbody>\n",
       "</table>\n",
       "</div>"
      ],
      "text/plain": [
       "          U         V         W         X         Y         Z\n",
       "a  0.789074  0.536261  0.688781  0.203664  0.905727  0.011575\n",
       "b  0.525954  0.802894  0.214985  0.448667  0.421390  0.659663\n",
       "c  0.940864  0.528567  0.937643  0.429230  0.419300  0.505545\n",
       "d  0.621913  0.075018  0.218469  0.361307  0.466499  0.239112\n",
       "e  0.781252  0.847808  0.910185  0.187813  0.150197  0.246432"
      ]
     },
     "execution_count": 42,
     "metadata": {},
     "output_type": "execute_result"
    }
   ],
   "source": [
    "df"
   ]
  },
  {
   "cell_type": "code",
   "execution_count": null,
   "id": "5102e87e",
   "metadata": {
    "scrolled": true
   },
   "outputs": [],
   "source": [
    "df.loc['a']"
   ]
  },
  {
   "cell_type": "code",
   "execution_count": null,
   "id": "2292d26d",
   "metadata": {
    "scrolled": true
   },
   "outputs": [],
   "source": [
    "df.loc[['a']]"
   ]
  },
  {
   "cell_type": "code",
   "execution_count": null,
   "id": "a1cb6198",
   "metadata": {
    "scrolled": true
   },
   "outputs": [],
   "source": [
    "df.loc[['a', 'e']]"
   ]
  },
  {
   "cell_type": "code",
   "execution_count": 47,
   "id": "ecf7ab5e",
   "metadata": {},
   "outputs": [
    {
     "data": {
      "text/plain": [
       "U    0.781252\n",
       "V    0.847808\n",
       "W    0.910185\n",
       "X    0.187813\n",
       "Y    0.150197\n",
       "Z    0.246432\n",
       "Name: e, dtype: float64"
      ]
     },
     "execution_count": 47,
     "metadata": {},
     "output_type": "execute_result"
    }
   ],
   "source": [
    "df.iloc[4]"
   ]
  },
  {
   "cell_type": "code",
   "execution_count": 48,
   "id": "74179e2d",
   "metadata": {},
   "outputs": [
    {
     "data": {
      "text/html": [
       "<div>\n",
       "<style scoped>\n",
       "    .dataframe tbody tr th:only-of-type {\n",
       "        vertical-align: middle;\n",
       "    }\n",
       "\n",
       "    .dataframe tbody tr th {\n",
       "        vertical-align: top;\n",
       "    }\n",
       "\n",
       "    .dataframe thead th {\n",
       "        text-align: right;\n",
       "    }\n",
       "</style>\n",
       "<table border=\"1\" class=\"dataframe\">\n",
       "  <thead>\n",
       "    <tr style=\"text-align: right;\">\n",
       "      <th></th>\n",
       "      <th>U</th>\n",
       "      <th>V</th>\n",
       "      <th>W</th>\n",
       "      <th>X</th>\n",
       "      <th>Y</th>\n",
       "      <th>Z</th>\n",
       "    </tr>\n",
       "  </thead>\n",
       "  <tbody>\n",
       "    <tr>\n",
       "      <th>e</th>\n",
       "      <td>0.781252</td>\n",
       "      <td>0.847808</td>\n",
       "      <td>0.910185</td>\n",
       "      <td>0.187813</td>\n",
       "      <td>0.150197</td>\n",
       "      <td>0.246432</td>\n",
       "    </tr>\n",
       "  </tbody>\n",
       "</table>\n",
       "</div>"
      ],
      "text/plain": [
       "          U         V         W         X         Y         Z\n",
       "e  0.781252  0.847808  0.910185  0.187813  0.150197  0.246432"
      ]
     },
     "execution_count": 48,
     "metadata": {},
     "output_type": "execute_result"
    }
   ],
   "source": [
    "df.iloc[[4]]"
   ]
  },
  {
   "cell_type": "code",
   "execution_count": 50,
   "id": "52a9f4b0",
   "metadata": {},
   "outputs": [
    {
     "data": {
      "text/plain": [
       "0.5055448682346523"
      ]
     },
     "execution_count": 50,
     "metadata": {},
     "output_type": "execute_result"
    }
   ],
   "source": [
    "df.loc[\"c\", \"Z\"]"
   ]
  },
  {
   "cell_type": "code",
   "execution_count": 51,
   "id": "2c5598b1",
   "metadata": {},
   "outputs": [
    {
     "data": {
      "text/html": [
       "<div>\n",
       "<style scoped>\n",
       "    .dataframe tbody tr th:only-of-type {\n",
       "        vertical-align: middle;\n",
       "    }\n",
       "\n",
       "    .dataframe tbody tr th {\n",
       "        vertical-align: top;\n",
       "    }\n",
       "\n",
       "    .dataframe thead th {\n",
       "        text-align: right;\n",
       "    }\n",
       "</style>\n",
       "<table border=\"1\" class=\"dataframe\">\n",
       "  <thead>\n",
       "    <tr style=\"text-align: right;\">\n",
       "      <th></th>\n",
       "      <th>Y</th>\n",
       "      <th>Z</th>\n",
       "      <th>X</th>\n",
       "    </tr>\n",
       "  </thead>\n",
       "  <tbody>\n",
       "    <tr>\n",
       "      <th>a</th>\n",
       "      <td>0.905727</td>\n",
       "      <td>0.011575</td>\n",
       "      <td>0.203664</td>\n",
       "    </tr>\n",
       "    <tr>\n",
       "      <th>d</th>\n",
       "      <td>0.466499</td>\n",
       "      <td>0.239112</td>\n",
       "      <td>0.361307</td>\n",
       "    </tr>\n",
       "  </tbody>\n",
       "</table>\n",
       "</div>"
      ],
      "text/plain": [
       "          Y         Z         X\n",
       "a  0.905727  0.011575  0.203664\n",
       "d  0.466499  0.239112  0.361307"
      ]
     },
     "execution_count": 51,
     "metadata": {},
     "output_type": "execute_result"
    }
   ],
   "source": [
    "df.loc[[\"a\", \"d\"], [\"Y\", \"Z\", \"X\"]]"
   ]
  },
  {
   "cell_type": "code",
   "execution_count": 52,
   "id": "f6ec3816",
   "metadata": {},
   "outputs": [
    {
     "data": {
      "text/html": [
       "<div>\n",
       "<style scoped>\n",
       "    .dataframe tbody tr th:only-of-type {\n",
       "        vertical-align: middle;\n",
       "    }\n",
       "\n",
       "    .dataframe tbody tr th {\n",
       "        vertical-align: top;\n",
       "    }\n",
       "\n",
       "    .dataframe thead th {\n",
       "        text-align: right;\n",
       "    }\n",
       "</style>\n",
       "<table border=\"1\" class=\"dataframe\">\n",
       "  <thead>\n",
       "    <tr style=\"text-align: right;\">\n",
       "      <th></th>\n",
       "      <th>U</th>\n",
       "      <th>V</th>\n",
       "      <th>W</th>\n",
       "      <th>X</th>\n",
       "      <th>Y</th>\n",
       "      <th>Z</th>\n",
       "    </tr>\n",
       "  </thead>\n",
       "  <tbody>\n",
       "    <tr>\n",
       "      <th>a</th>\n",
       "      <td>0.789074</td>\n",
       "      <td>0.536261</td>\n",
       "      <td>0.688781</td>\n",
       "      <td>0.203664</td>\n",
       "      <td>0.905727</td>\n",
       "      <td>0.011575</td>\n",
       "    </tr>\n",
       "    <tr>\n",
       "      <th>b</th>\n",
       "      <td>0.525954</td>\n",
       "      <td>0.802894</td>\n",
       "      <td>0.214985</td>\n",
       "      <td>0.448667</td>\n",
       "      <td>0.421390</td>\n",
       "      <td>0.659663</td>\n",
       "    </tr>\n",
       "    <tr>\n",
       "      <th>c</th>\n",
       "      <td>0.940864</td>\n",
       "      <td>0.528567</td>\n",
       "      <td>0.937643</td>\n",
       "      <td>0.429230</td>\n",
       "      <td>0.419300</td>\n",
       "      <td>0.505545</td>\n",
       "    </tr>\n",
       "    <tr>\n",
       "      <th>d</th>\n",
       "      <td>0.621913</td>\n",
       "      <td>0.075018</td>\n",
       "      <td>0.218469</td>\n",
       "      <td>0.361307</td>\n",
       "      <td>0.466499</td>\n",
       "      <td>0.239112</td>\n",
       "    </tr>\n",
       "    <tr>\n",
       "      <th>e</th>\n",
       "      <td>0.781252</td>\n",
       "      <td>0.847808</td>\n",
       "      <td>0.910185</td>\n",
       "      <td>0.187813</td>\n",
       "      <td>0.150197</td>\n",
       "      <td>0.246432</td>\n",
       "    </tr>\n",
       "  </tbody>\n",
       "</table>\n",
       "</div>"
      ],
      "text/plain": [
       "          U         V         W         X         Y         Z\n",
       "a  0.789074  0.536261  0.688781  0.203664  0.905727  0.011575\n",
       "b  0.525954  0.802894  0.214985  0.448667  0.421390  0.659663\n",
       "c  0.940864  0.528567  0.937643  0.429230  0.419300  0.505545\n",
       "d  0.621913  0.075018  0.218469  0.361307  0.466499  0.239112\n",
       "e  0.781252  0.847808  0.910185  0.187813  0.150197  0.246432"
      ]
     },
     "execution_count": 52,
     "metadata": {},
     "output_type": "execute_result"
    }
   ],
   "source": [
    "df"
   ]
  },
  {
   "cell_type": "code",
   "execution_count": 54,
   "id": "39cf8202",
   "metadata": {},
   "outputs": [
    {
     "data": {
      "text/html": [
       "<div>\n",
       "<style scoped>\n",
       "    .dataframe tbody tr th:only-of-type {\n",
       "        vertical-align: middle;\n",
       "    }\n",
       "\n",
       "    .dataframe tbody tr th {\n",
       "        vertical-align: top;\n",
       "    }\n",
       "\n",
       "    .dataframe thead th {\n",
       "        text-align: right;\n",
       "    }\n",
       "</style>\n",
       "<table border=\"1\" class=\"dataframe\">\n",
       "  <thead>\n",
       "    <tr style=\"text-align: right;\">\n",
       "      <th></th>\n",
       "      <th>U</th>\n",
       "      <th>V</th>\n",
       "      <th>W</th>\n",
       "      <th>X</th>\n",
       "      <th>Y</th>\n",
       "      <th>Z</th>\n",
       "    </tr>\n",
       "  </thead>\n",
       "  <tbody>\n",
       "    <tr>\n",
       "      <th>a</th>\n",
       "      <td>0.789074</td>\n",
       "      <td>0.536261</td>\n",
       "      <td>0.688781</td>\n",
       "      <td>0.203664</td>\n",
       "      <td>0.905727</td>\n",
       "      <td>NaN</td>\n",
       "    </tr>\n",
       "    <tr>\n",
       "      <th>b</th>\n",
       "      <td>0.525954</td>\n",
       "      <td>0.802894</td>\n",
       "      <td>0.214985</td>\n",
       "      <td>0.448667</td>\n",
       "      <td>0.421390</td>\n",
       "      <td>0.659663</td>\n",
       "    </tr>\n",
       "    <tr>\n",
       "      <th>c</th>\n",
       "      <td>0.940864</td>\n",
       "      <td>0.528567</td>\n",
       "      <td>0.937643</td>\n",
       "      <td>0.429230</td>\n",
       "      <td>0.419300</td>\n",
       "      <td>0.505545</td>\n",
       "    </tr>\n",
       "    <tr>\n",
       "      <th>d</th>\n",
       "      <td>0.621913</td>\n",
       "      <td>NaN</td>\n",
       "      <td>0.218469</td>\n",
       "      <td>0.361307</td>\n",
       "      <td>0.466499</td>\n",
       "      <td>0.239112</td>\n",
       "    </tr>\n",
       "    <tr>\n",
       "      <th>e</th>\n",
       "      <td>0.781252</td>\n",
       "      <td>0.847808</td>\n",
       "      <td>0.910185</td>\n",
       "      <td>NaN</td>\n",
       "      <td>NaN</td>\n",
       "      <td>0.246432</td>\n",
       "    </tr>\n",
       "  </tbody>\n",
       "</table>\n",
       "</div>"
      ],
      "text/plain": [
       "          U         V         W         X         Y         Z\n",
       "a  0.789074  0.536261  0.688781  0.203664  0.905727       NaN\n",
       "b  0.525954  0.802894  0.214985  0.448667  0.421390  0.659663\n",
       "c  0.940864  0.528567  0.937643  0.429230  0.419300  0.505545\n",
       "d  0.621913       NaN  0.218469  0.361307  0.466499  0.239112\n",
       "e  0.781252  0.847808  0.910185       NaN       NaN  0.246432"
      ]
     },
     "execution_count": 54,
     "metadata": {},
     "output_type": "execute_result"
    }
   ],
   "source": [
    "df[df>0.2]"
   ]
  },
  {
   "cell_type": "code",
   "execution_count": 67,
   "id": "7b40ff65",
   "metadata": {
    "scrolled": true
   },
   "outputs": [
    {
     "data": {
      "text/html": [
       "<div>\n",
       "<style scoped>\n",
       "    .dataframe tbody tr th:only-of-type {\n",
       "        vertical-align: middle;\n",
       "    }\n",
       "\n",
       "    .dataframe tbody tr th {\n",
       "        vertical-align: top;\n",
       "    }\n",
       "\n",
       "    .dataframe thead th {\n",
       "        text-align: right;\n",
       "    }\n",
       "</style>\n",
       "<table border=\"1\" class=\"dataframe\">\n",
       "  <thead>\n",
       "    <tr style=\"text-align: right;\">\n",
       "      <th></th>\n",
       "      <th>U</th>\n",
       "      <th>V</th>\n",
       "      <th>W</th>\n",
       "      <th>X</th>\n",
       "      <th>Y</th>\n",
       "      <th>Z</th>\n",
       "    </tr>\n",
       "  </thead>\n",
       "  <tbody>\n",
       "    <tr>\n",
       "      <th>a</th>\n",
       "      <td>0.789074</td>\n",
       "      <td>0.536261</td>\n",
       "      <td>0.688781</td>\n",
       "      <td>0.203664</td>\n",
       "      <td>0.905727</td>\n",
       "      <td>0.011575</td>\n",
       "    </tr>\n",
       "    <tr>\n",
       "      <th>c</th>\n",
       "      <td>0.940864</td>\n",
       "      <td>0.528567</td>\n",
       "      <td>0.937643</td>\n",
       "      <td>0.429230</td>\n",
       "      <td>0.419300</td>\n",
       "      <td>0.505545</td>\n",
       "    </tr>\n",
       "    <tr>\n",
       "      <th>e</th>\n",
       "      <td>0.781252</td>\n",
       "      <td>0.847808</td>\n",
       "      <td>0.910185</td>\n",
       "      <td>0.187813</td>\n",
       "      <td>0.150197</td>\n",
       "      <td>0.246432</td>\n",
       "    </tr>\n",
       "  </tbody>\n",
       "</table>\n",
       "</div>"
      ],
      "text/plain": [
       "          U         V         W         X         Y         Z\n",
       "a  0.789074  0.536261  0.688781  0.203664  0.905727  0.011575\n",
       "c  0.940864  0.528567  0.937643  0.429230  0.419300  0.505545\n",
       "e  0.781252  0.847808  0.910185  0.187813  0.150197  0.246432"
      ]
     },
     "execution_count": 67,
     "metadata": {},
     "output_type": "execute_result"
    }
   ],
   "source": [
    "df[df['W']>0.3]"
   ]
  },
  {
   "cell_type": "code",
   "execution_count": 66,
   "id": "4d398f1d",
   "metadata": {},
   "outputs": [
    {
     "data": {
      "text/html": [
       "<div>\n",
       "<style scoped>\n",
       "    .dataframe tbody tr th:only-of-type {\n",
       "        vertical-align: middle;\n",
       "    }\n",
       "\n",
       "    .dataframe tbody tr th {\n",
       "        vertical-align: top;\n",
       "    }\n",
       "\n",
       "    .dataframe thead th {\n",
       "        text-align: right;\n",
       "    }\n",
       "</style>\n",
       "<table border=\"1\" class=\"dataframe\">\n",
       "  <thead>\n",
       "    <tr style=\"text-align: right;\">\n",
       "      <th></th>\n",
       "      <th>W</th>\n",
       "    </tr>\n",
       "  </thead>\n",
       "  <tbody>\n",
       "    <tr>\n",
       "      <th>a</th>\n",
       "      <td>0.688781</td>\n",
       "    </tr>\n",
       "    <tr>\n",
       "      <th>b</th>\n",
       "      <td>0.214985</td>\n",
       "    </tr>\n",
       "    <tr>\n",
       "      <th>c</th>\n",
       "      <td>0.937643</td>\n",
       "    </tr>\n",
       "    <tr>\n",
       "      <th>d</th>\n",
       "      <td>0.218469</td>\n",
       "    </tr>\n",
       "    <tr>\n",
       "      <th>e</th>\n",
       "      <td>0.910185</td>\n",
       "    </tr>\n",
       "  </tbody>\n",
       "</table>\n",
       "</div>"
      ],
      "text/plain": [
       "          W\n",
       "a  0.688781\n",
       "b  0.214985\n",
       "c  0.937643\n",
       "d  0.218469\n",
       "e  0.910185"
      ]
     },
     "execution_count": 66,
     "metadata": {},
     "output_type": "execute_result"
    }
   ],
   "source": [
    "df[['W']]"
   ]
  },
  {
   "cell_type": "code",
   "execution_count": 60,
   "id": "bbca324e",
   "metadata": {},
   "outputs": [
    {
     "data": {
      "text/html": [
       "<div>\n",
       "<style scoped>\n",
       "    .dataframe tbody tr th:only-of-type {\n",
       "        vertical-align: middle;\n",
       "    }\n",
       "\n",
       "    .dataframe tbody tr th {\n",
       "        vertical-align: top;\n",
       "    }\n",
       "\n",
       "    .dataframe thead th {\n",
       "        text-align: right;\n",
       "    }\n",
       "</style>\n",
       "<table border=\"1\" class=\"dataframe\">\n",
       "  <thead>\n",
       "    <tr style=\"text-align: right;\">\n",
       "      <th></th>\n",
       "      <th>U</th>\n",
       "      <th>W</th>\n",
       "      <th>X</th>\n",
       "    </tr>\n",
       "  </thead>\n",
       "  <tbody>\n",
       "    <tr>\n",
       "      <th>a</th>\n",
       "      <td>0.789074</td>\n",
       "      <td>0.688781</td>\n",
       "      <td>0.203664</td>\n",
       "    </tr>\n",
       "    <tr>\n",
       "      <th>c</th>\n",
       "      <td>0.940864</td>\n",
       "      <td>0.937643</td>\n",
       "      <td>0.429230</td>\n",
       "    </tr>\n",
       "    <tr>\n",
       "      <th>e</th>\n",
       "      <td>0.781252</td>\n",
       "      <td>0.910185</td>\n",
       "      <td>0.187813</td>\n",
       "    </tr>\n",
       "  </tbody>\n",
       "</table>\n",
       "</div>"
      ],
      "text/plain": [
       "          U         W         X\n",
       "a  0.789074  0.688781  0.203664\n",
       "c  0.940864  0.937643  0.429230\n",
       "e  0.781252  0.910185  0.187813"
      ]
     },
     "execution_count": 60,
     "metadata": {},
     "output_type": "execute_result"
    }
   ],
   "source": [
    "df[df[\"W\"] > 0.3][[\"U\", \"W\", \"X\"]]"
   ]
  },
  {
   "cell_type": "code",
   "execution_count": 62,
   "id": "8169498a",
   "metadata": {},
   "outputs": [
    {
     "data": {
      "text/html": [
       "<div>\n",
       "<style scoped>\n",
       "    .dataframe tbody tr th:only-of-type {\n",
       "        vertical-align: middle;\n",
       "    }\n",
       "\n",
       "    .dataframe tbody tr th {\n",
       "        vertical-align: top;\n",
       "    }\n",
       "\n",
       "    .dataframe thead th {\n",
       "        text-align: right;\n",
       "    }\n",
       "</style>\n",
       "<table border=\"1\" class=\"dataframe\">\n",
       "  <thead>\n",
       "    <tr style=\"text-align: right;\">\n",
       "      <th></th>\n",
       "      <th>U</th>\n",
       "      <th>W</th>\n",
       "      <th>X</th>\n",
       "    </tr>\n",
       "  </thead>\n",
       "  <tbody>\n",
       "    <tr>\n",
       "      <th>c</th>\n",
       "      <td>0.940864</td>\n",
       "      <td>0.937643</td>\n",
       "      <td>0.429230</td>\n",
       "    </tr>\n",
       "    <tr>\n",
       "      <th>e</th>\n",
       "      <td>0.781252</td>\n",
       "      <td>0.910185</td>\n",
       "      <td>0.187813</td>\n",
       "    </tr>\n",
       "  </tbody>\n",
       "</table>\n",
       "</div>"
      ],
      "text/plain": [
       "          U         W         X\n",
       "c  0.940864  0.937643  0.429230\n",
       "e  0.781252  0.910185  0.187813"
      ]
     },
     "execution_count": 62,
     "metadata": {},
     "output_type": "execute_result"
    }
   ],
   "source": [
    "df[(df[\"W\"] > 0.3) & (df[\"Z\"] > 0.1)][[\"U\", \"W\", \"X\"]]"
   ]
  },
  {
   "cell_type": "code",
   "execution_count": 68,
   "id": "5d8de087",
   "metadata": {},
   "outputs": [
    {
     "data": {
      "text/html": [
       "<div>\n",
       "<style scoped>\n",
       "    .dataframe tbody tr th:only-of-type {\n",
       "        vertical-align: middle;\n",
       "    }\n",
       "\n",
       "    .dataframe tbody tr th {\n",
       "        vertical-align: top;\n",
       "    }\n",
       "\n",
       "    .dataframe thead th {\n",
       "        text-align: right;\n",
       "    }\n",
       "</style>\n",
       "<table border=\"1\" class=\"dataframe\">\n",
       "  <thead>\n",
       "    <tr style=\"text-align: right;\">\n",
       "      <th></th>\n",
       "      <th>index</th>\n",
       "      <th>U</th>\n",
       "      <th>V</th>\n",
       "      <th>W</th>\n",
       "      <th>X</th>\n",
       "      <th>Y</th>\n",
       "      <th>Z</th>\n",
       "    </tr>\n",
       "  </thead>\n",
       "  <tbody>\n",
       "    <tr>\n",
       "      <th>0</th>\n",
       "      <td>a</td>\n",
       "      <td>0.789074</td>\n",
       "      <td>0.536261</td>\n",
       "      <td>0.688781</td>\n",
       "      <td>0.203664</td>\n",
       "      <td>0.905727</td>\n",
       "      <td>0.011575</td>\n",
       "    </tr>\n",
       "    <tr>\n",
       "      <th>1</th>\n",
       "      <td>b</td>\n",
       "      <td>0.525954</td>\n",
       "      <td>0.802894</td>\n",
       "      <td>0.214985</td>\n",
       "      <td>0.448667</td>\n",
       "      <td>0.421390</td>\n",
       "      <td>0.659663</td>\n",
       "    </tr>\n",
       "    <tr>\n",
       "      <th>2</th>\n",
       "      <td>c</td>\n",
       "      <td>0.940864</td>\n",
       "      <td>0.528567</td>\n",
       "      <td>0.937643</td>\n",
       "      <td>0.429230</td>\n",
       "      <td>0.419300</td>\n",
       "      <td>0.505545</td>\n",
       "    </tr>\n",
       "    <tr>\n",
       "      <th>3</th>\n",
       "      <td>d</td>\n",
       "      <td>0.621913</td>\n",
       "      <td>0.075018</td>\n",
       "      <td>0.218469</td>\n",
       "      <td>0.361307</td>\n",
       "      <td>0.466499</td>\n",
       "      <td>0.239112</td>\n",
       "    </tr>\n",
       "    <tr>\n",
       "      <th>4</th>\n",
       "      <td>e</td>\n",
       "      <td>0.781252</td>\n",
       "      <td>0.847808</td>\n",
       "      <td>0.910185</td>\n",
       "      <td>0.187813</td>\n",
       "      <td>0.150197</td>\n",
       "      <td>0.246432</td>\n",
       "    </tr>\n",
       "  </tbody>\n",
       "</table>\n",
       "</div>"
      ],
      "text/plain": [
       "  index         U         V         W         X         Y         Z\n",
       "0     a  0.789074  0.536261  0.688781  0.203664  0.905727  0.011575\n",
       "1     b  0.525954  0.802894  0.214985  0.448667  0.421390  0.659663\n",
       "2     c  0.940864  0.528567  0.937643  0.429230  0.419300  0.505545\n",
       "3     d  0.621913  0.075018  0.218469  0.361307  0.466499  0.239112\n",
       "4     e  0.781252  0.847808  0.910185  0.187813  0.150197  0.246432"
      ]
     },
     "execution_count": 68,
     "metadata": {},
     "output_type": "execute_result"
    }
   ],
   "source": [
    "df.reset_index()"
   ]
  },
  {
   "cell_type": "code",
   "execution_count": 69,
   "id": "ebc0ffbc",
   "metadata": {},
   "outputs": [
    {
     "data": {
      "text/html": [
       "<div>\n",
       "<style scoped>\n",
       "    .dataframe tbody tr th:only-of-type {\n",
       "        vertical-align: middle;\n",
       "    }\n",
       "\n",
       "    .dataframe tbody tr th {\n",
       "        vertical-align: top;\n",
       "    }\n",
       "\n",
       "    .dataframe thead th {\n",
       "        text-align: right;\n",
       "    }\n",
       "</style>\n",
       "<table border=\"1\" class=\"dataframe\">\n",
       "  <thead>\n",
       "    <tr style=\"text-align: right;\">\n",
       "      <th></th>\n",
       "      <th>U</th>\n",
       "      <th>V</th>\n",
       "      <th>W</th>\n",
       "      <th>X</th>\n",
       "      <th>Y</th>\n",
       "      <th>Z</th>\n",
       "    </tr>\n",
       "  </thead>\n",
       "  <tbody>\n",
       "    <tr>\n",
       "      <th>a</th>\n",
       "      <td>0.789074</td>\n",
       "      <td>0.536261</td>\n",
       "      <td>0.688781</td>\n",
       "      <td>0.203664</td>\n",
       "      <td>0.905727</td>\n",
       "      <td>0.011575</td>\n",
       "    </tr>\n",
       "    <tr>\n",
       "      <th>b</th>\n",
       "      <td>0.525954</td>\n",
       "      <td>0.802894</td>\n",
       "      <td>0.214985</td>\n",
       "      <td>0.448667</td>\n",
       "      <td>0.421390</td>\n",
       "      <td>0.659663</td>\n",
       "    </tr>\n",
       "    <tr>\n",
       "      <th>c</th>\n",
       "      <td>0.940864</td>\n",
       "      <td>0.528567</td>\n",
       "      <td>0.937643</td>\n",
       "      <td>0.429230</td>\n",
       "      <td>0.419300</td>\n",
       "      <td>0.505545</td>\n",
       "    </tr>\n",
       "    <tr>\n",
       "      <th>d</th>\n",
       "      <td>0.621913</td>\n",
       "      <td>0.075018</td>\n",
       "      <td>0.218469</td>\n",
       "      <td>0.361307</td>\n",
       "      <td>0.466499</td>\n",
       "      <td>0.239112</td>\n",
       "    </tr>\n",
       "    <tr>\n",
       "      <th>e</th>\n",
       "      <td>0.781252</td>\n",
       "      <td>0.847808</td>\n",
       "      <td>0.910185</td>\n",
       "      <td>0.187813</td>\n",
       "      <td>0.150197</td>\n",
       "      <td>0.246432</td>\n",
       "    </tr>\n",
       "  </tbody>\n",
       "</table>\n",
       "</div>"
      ],
      "text/plain": [
       "          U         V         W         X         Y         Z\n",
       "a  0.789074  0.536261  0.688781  0.203664  0.905727  0.011575\n",
       "b  0.525954  0.802894  0.214985  0.448667  0.421390  0.659663\n",
       "c  0.940864  0.528567  0.937643  0.429230  0.419300  0.505545\n",
       "d  0.621913  0.075018  0.218469  0.361307  0.466499  0.239112\n",
       "e  0.781252  0.847808  0.910185  0.187813  0.150197  0.246432"
      ]
     },
     "execution_count": 69,
     "metadata": {},
     "output_type": "execute_result"
    }
   ],
   "source": [
    "df"
   ]
  },
  {
   "cell_type": "code",
   "execution_count": 70,
   "id": "7efae59e",
   "metadata": {},
   "outputs": [],
   "source": [
    "naujas_index = ['Vilnius', 'Kaunas', 'Klaipėda', 'Panevėžys', 'Šiauliai']"
   ]
  },
  {
   "cell_type": "code",
   "execution_count": 71,
   "id": "a931f6b5",
   "metadata": {},
   "outputs": [],
   "source": [
    "df['Miestai'] = naujas_index"
   ]
  },
  {
   "cell_type": "code",
   "execution_count": null,
   "id": "d25833a5",
   "metadata": {
    "scrolled": true
   },
   "outputs": [],
   "source": [
    "df"
   ]
  },
  {
   "cell_type": "code",
   "execution_count": 75,
   "id": "0199a507",
   "metadata": {},
   "outputs": [],
   "source": [
    "df.set_index('Miestai', inplace=True)"
   ]
  },
  {
   "cell_type": "code",
   "execution_count": null,
   "id": "dbf8194a",
   "metadata": {
    "scrolled": true
   },
   "outputs": [],
   "source": [
    "df"
   ]
  },
  {
   "cell_type": "code",
   "execution_count": null,
   "id": "a1900aa2",
   "metadata": {},
   "outputs": [],
   "source": []
  }
 ],
 "metadata": {
  "kernelspec": {
   "display_name": "Python 3 (ipykernel)",
   "language": "python",
   "name": "python3"
  },
  "language_info": {
   "codemirror_mode": {
    "name": "ipython",
    "version": 3
   },
   "file_extension": ".py",
   "mimetype": "text/x-python",
   "name": "python",
   "nbconvert_exporter": "python",
   "pygments_lexer": "ipython3",
   "version": "3.10.5"
  }
 },
 "nbformat": 4,
 "nbformat_minor": 5
}
