{
 "cells": [
  {
   "cell_type": "code",
   "execution_count": 1,
   "metadata": {},
   "outputs": [],
   "source": [
    "%load_ext sql\n",
    "%sql sqlite:///QnA.db"
   ]
  },
  {
   "cell_type": "code",
   "execution_count": 2,
   "metadata": {},
   "outputs": [
    {
     "name": "stdout",
     "output_type": "stream",
     "text": [
      " * sqlite:///QnA.db\n",
      "Done.\n",
      "Done.\n"
     ]
    },
    {
     "data": {
      "text/plain": [
       "[]"
      ]
     },
     "execution_count": 2,
     "metadata": {},
     "output_type": "execute_result"
    }
   ],
   "source": [
    "%%sql\n",
    "\n",
    "CREATE TABLE \"Questions\"\n",
    "  (id INTEGER NOT NULL, \"Question\" TEXT NOT NULL, PRIMARY KEY(id));\n",
    "\n",
    "CREATE TABLE \"Choices\"(\n",
    "  id INTEGER NOT NULL,\n",
    "  \"Questions_id\" INTEGER NOT NULL,\n",
    "  \"Choice\" TEXT,\n",
    "  PRIMARY KEY(id, \"Questions_id\"),\n",
    "  CONSTRAINT \"Questions_Answer s\"\n",
    "    FOREIGN KEY (\"Questions_id\") REFERENCES \"Questions\" (id)\n",
    ");\n",
    "\n"
   ]
  }
 ],
 "metadata": {
  "kernelspec": {
   "display_name": "Python 3.10.5 64-bit",
   "language": "python",
   "name": "python3"
  },
  "language_info": {
   "codemirror_mode": {
    "name": "ipython",
    "version": 3
   },
   "file_extension": ".py",
   "mimetype": "text/x-python",
   "name": "python",
   "nbconvert_exporter": "python",
   "pygments_lexer": "ipython3",
   "version": "3.10.5"
  },
  "orig_nbformat": 4,
  "vscode": {
   "interpreter": {
    "hash": "f7c19857d307ee2037c853c4a39998a85d97cbe35b9bd36e69ee1c642cd57c9b"
   }
  }
 },
 "nbformat": 4,
 "nbformat_minor": 2
}
